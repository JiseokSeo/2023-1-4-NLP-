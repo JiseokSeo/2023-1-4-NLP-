{
 "cells": [
  {
   "cell_type": "code",
   "execution_count": 1,
   "id": "526c1161",
   "metadata": {},
   "outputs": [],
   "source": [
    "from selenium import webdriver\n",
    "from selenium.webdriver.chrome.options import Options\n",
    "from webdriver_manager.chrome import ChromeDriverManager\n",
    "from selenium.webdriver.common.by import By\n",
    "import time\n",
    "import re\n",
    "import pandas as pd"
   ]
  },
  {
   "cell_type": "code",
   "execution_count": 2,
   "id": "1b8e1f67",
   "metadata": {},
   "outputs": [],
   "source": [
    "# 옵션 설정 객체\n",
    "options = Options()\n",
    "\n",
    "# 브라이저 닫힘 방지\n",
    "options.add_experimental_option('detach', True)\n",
    "\n",
    "# 경고 제거\n",
    "options.add_experimental_option('excludeSwitches', ['enable-logging'])"
   ]
  },
  {
   "cell_type": "code",
   "execution_count": 3,
   "id": "7d6d93e9",
   "metadata": {},
   "outputs": [
    {
     "name": "stderr",
     "output_type": "stream",
     "text": [
      "C:\\Users\\Jiseok\\AppData\\Local\\Temp\\ipykernel_8672\\3694344865.py:2: DeprecationWarning: executable_path has been deprecated, please pass in a Service object\n",
      "  driver = webdriver.Chrome(ChromeDriverManager().install(),\n"
     ]
    }
   ],
   "source": [
    "# 드라이버 클래스 선언\n",
    "driver = webdriver.Chrome(ChromeDriverManager().install(),\n",
    "                         options=options)"
   ]
  },
  {
   "cell_type": "code",
   "execution_count": 4,
   "id": "20f73153",
   "metadata": {},
   "outputs": [],
   "source": [
    "# 네이버쇼핑 카테고리 url 선언\n",
    "url = 'https://search.shopping.naver.com/search/category/100002452?catId=50001079&origQuery&pagingIndex=1&pagingSize=40&productSet=total&query&sort=rel&timestamp=&viewType=list'\n",
    "\n",
    "# url 접속\n",
    "driver.get(url)\n",
    "\n",
    "# 전체 방문해야하는 상세 카테고리 개수\n",
    "num_visit = driver.find_element('xpath', '//*[@id=\"__next\"]/div/div[2]/div/div[2]/div[1]/div[1]/div[2]/div/h4/a/span[4]').text\n",
    "num_visit = int(num_visit)\n",
    "\n",
    "# 방문해야하는 상세 카테고리 목록 수집\n",
    "visit_list = [f'//*[@id=\"__next\"]/div/div[2]/div/div[2]/div[1]/div[1]/div[2]/div/ul/li[{i}]/a/span' for i in range(1, num_visit+1)]"
   ]
  },
  {
   "cell_type": "code",
   "execution_count": 5,
   "id": "ea476300",
   "metadata": {},
   "outputs": [
    {
     "data": {
      "text/plain": [
       "(8,\n",
       " ['//*[@id=\"__next\"]/div/div[2]/div/div[2]/div[1]/div[1]/div[2]/div/ul/li[1]/a/span',\n",
       "  '//*[@id=\"__next\"]/div/div[2]/div/div[2]/div[1]/div[1]/div[2]/div/ul/li[2]/a/span',\n",
       "  '//*[@id=\"__next\"]/div/div[2]/div/div[2]/div[1]/div[1]/div[2]/div/ul/li[3]/a/span',\n",
       "  '//*[@id=\"__next\"]/div/div[2]/div/div[2]/div[1]/div[1]/div[2]/div/ul/li[4]/a/span',\n",
       "  '//*[@id=\"__next\"]/div/div[2]/div/div[2]/div[1]/div[1]/div[2]/div/ul/li[5]/a/span',\n",
       "  '//*[@id=\"__next\"]/div/div[2]/div/div[2]/div[1]/div[1]/div[2]/div/ul/li[6]/a/span',\n",
       "  '//*[@id=\"__next\"]/div/div[2]/div/div[2]/div[1]/div[1]/div[2]/div/ul/li[7]/a/span',\n",
       "  '//*[@id=\"__next\"]/div/div[2]/div/div[2]/div[1]/div[1]/div[2]/div/ul/li[8]/a/span'])"
      ]
     },
     "execution_count": 5,
     "metadata": {},
     "output_type": "execute_result"
    }
   ],
   "source": [
    "num_visit, visit_list"
   ]
  },
  {
   "cell_type": "code",
   "execution_count": 6,
   "id": "5dab9d26",
   "metadata": {},
   "outputs": [],
   "source": [
    "df_list = [] # 데이터프레임을 담을 data"
   ]
  },
  {
   "cell_type": "code",
   "execution_count": 7,
   "id": "0fffe473",
   "metadata": {},
   "outputs": [
    {
     "name": "stdout",
     "output_type": "stream",
     "text": [
      "now: 식품 생수/음료 청량/탄산음료 콜라\n",
      "cat_code: 100002666  cat_id: 50002254\n",
      "size of data: 26 \n",
      "\n",
      "now: 식품 생수/음료 청량/탄산음료 사이다\n",
      "cat_code: 100002665  cat_id: 50002253\n",
      "size of data: 52 \n",
      "\n",
      "now: 식품 생수/음료 청량/탄산음료 이온음료\n",
      "cat_code: 100002668  cat_id: 50002256\n",
      "size of data: 78 \n",
      "\n",
      "now: 식품 생수/음료 청량/탄산음료 무알콜음료\n",
      "cat_code: 100002664  cat_id: 50002252\n",
      "size of data: 104 \n",
      "\n",
      "now: 식품 생수/음료 청량/탄산음료 과즙탄산음료\n",
      "cat_code: 100002662  cat_id: 50002250\n",
      "size of data: 130 \n",
      "\n",
      "now: 식품 생수/음료 청량/탄산음료 아이스티음료\n",
      "cat_code: 100002667  cat_id: 50002255\n",
      "size of data: 156 \n",
      "\n",
      "now: 식품 생수/음료 청량/탄산음료 에이드음료\n",
      "cat_code: 100002663  cat_id: 50002251\n",
      "size of data: 182 \n",
      "\n",
      "now: 식품 생수/음료 청량/탄산음료 기타탄산음료\n",
      "cat_code: 100002669  cat_id: 50002257\n",
      "size of data: 208 \n",
      "\n"
     ]
    }
   ],
   "source": [
    "# 카테고리 목록 방문\n",
    "for category in visit_list:\n",
    "    driver.find_element('xpath', category).click()\n",
    "    time.sleep(3)\n",
    "    \n",
    "    # 현재 카테고리 정보 수집\n",
    "    cat1 = driver.find_element('xpath', '//*[@id=\"__next\"]/div/div[2]/div/div[2]/div[1]/div[1]/div[2]/div/h4/a/span[1]').text\n",
    "    cat2 = driver.find_element('xpath', '//*[@id=\"__next\"]/div/div[2]/div/div[2]/div[1]/div[1]/div[2]/div/h4/a/span[2]').text\n",
    "    cat3 = driver.find_element('xpath', '//*[@id=\"__next\"]/div/div[2]/div/div[2]/div[1]/div[1]/div[2]/div/h4/a/span[3]').text\n",
    "    cat4 = driver.find_element('xpath', '//*[@id=\"__next\"]/div/div[2]/div/div[2]/div[1]/div[1]/div[2]/div/h4/a/span[4]').text\n",
    "    print(f'now: {cat1} {cat2} {cat3} {cat4}')\n",
    "    \n",
    "    # 카테고리 고유번호 확인\n",
    "    current_url = driver.current_url\n",
    "    cat_code = cat_code = re.findall('/[0-9]{9}', current_url)[0][1:]\n",
    "    cat_id = cat_id = re.findall('=[0-9]{8}', current_url)[0][1:]\n",
    "    print(f'cat_code: {cat_code}  cat_id: {cat_id}')\n",
    "    \n",
    "    # 인덱스 순차 방문\n",
    "    for i in range(1, 2):\n",
    "        target_url = f'https://search.shopping.naver.com/search/category/{cat_code}?catId={cat_id}&origQuery&pagingIndex={i}&pagingSize=20&productSet=total&query&sort=rel&timestamp=&viewType=list'\n",
    "        driver.get(target_url)\n",
    "        time.sleep(3)\n",
    "        \n",
    "        # 스크롤 끝까지 내리기\n",
    "        while True:\n",
    "            bh = driver.execute_script('return document.body.scrollHeight')\n",
    "\n",
    "            driver.execute_script('window.scrollTo(0, document.body.scrollHeight)')\n",
    "            time.sleep(0.5)\n",
    "\n",
    "            ah = driver.execute_script('return document.body.scrollHeight')\n",
    "\n",
    "            if ah == bh:\n",
    "                break\n",
    "\n",
    "            bh = ah\n",
    "\n",
    "        # 크롤링 시작\n",
    "        infos = driver.find_elements(By.CSS_SELECTOR, '.basicList_info_area__TWvzp')\n",
    "        time.sleep(2)\n",
    "\n",
    "        for info in infos:\n",
    "            title = info.find_element(By.CSS_SELECTOR, '.basicList_title__VfX3c > a').text\n",
    "            price = info.find_element(By.CSS_SELECTOR, 'div.basicList_info_area__TWvzp > div.basicList_price_area__K7DDT > strong > span > span.price_num__S2p_v').text\n",
    "            data = [title, price, cat1, cat2, cat3, cat4]\n",
    "            df_list.append(data)\n",
    "        print(f'size of data: {len(df_list)} \\n')"
   ]
  },
  {
   "cell_type": "code",
   "execution_count": 8,
   "id": "0d890c21",
   "metadata": {},
   "outputs": [
    {
     "data": {
      "text/plain": [
       "[['펩시 제로슈거 라임향 20개입 500ml', '22,900원', '식품', '생수/음료', '청량/탄산음료', '콜라'],\n",
       " ['코카콜라 제로 190ml 60캔', '37,840원', '식품', '생수/음료', '청량/탄산음료', '콜라'],\n",
       " ['음료수 페트음료 PET 캔음료 코카콜라 사이다 쥬스 오렌지 1.5L 박스 환타 칠성',\n",
       "  '4,800원',\n",
       "  '식품',\n",
       "  '생수/음료',\n",
       "  '청량/탄산음료',\n",
       "  '콜라'],\n",
       " ['코카콜라 제로 슈가 콜라 190 355 500 ml 업소용 소매용 모음',\n",
       "  '18,990원',\n",
       "  '식품',\n",
       "  '생수/음료',\n",
       "  '청량/탄산음료',\n",
       "  '콜라'],\n",
       " ['롯데칠성음료 펩시제로슈거 라임향 355ml', '400원', '식품', '생수/음료', '청량/탄산음료', '콜라'],\n",
       " ['코카콜라 제로 355ml', '10원', '식품', '생수/음료', '청량/탄산음료', '콜라'],\n",
       " ['롯데칠성음료 펩시제로슈거 라임향 500ml', '10원', '식품', '생수/음료', '청량/탄산음료', '콜라'],\n",
       " ['코카콜라 콜라 500ml', '10원', '식품', '생수/음료', '청량/탄산음료', '콜라'],\n",
       " ['코카콜라 제로 190ml', '350원', '식품', '생수/음료', '청량/탄산음료', '콜라'],\n",
       " ['코카콜라 콜라 190ml', '10원', '식품', '생수/음료', '청량/탄산음료', '콜라']]"
      ]
     },
     "execution_count": 8,
     "metadata": {},
     "output_type": "execute_result"
    }
   ],
   "source": [
    "df_list[:10]"
   ]
  },
  {
   "cell_type": "code",
   "execution_count": 9,
   "id": "85210ae7",
   "metadata": {},
   "outputs": [],
   "source": [
    "df = pd.DataFrame(columns=['title', 'price', 'cat1', 'cat2', 'cat3', 'cat4'], data=df_list)"
   ]
  },
  {
   "cell_type": "code",
   "execution_count": 10,
   "id": "97ab78ab",
   "metadata": {},
   "outputs": [
    {
     "data": {
      "text/html": [
       "<div>\n",
       "<style scoped>\n",
       "    .dataframe tbody tr th:only-of-type {\n",
       "        vertical-align: middle;\n",
       "    }\n",
       "\n",
       "    .dataframe tbody tr th {\n",
       "        vertical-align: top;\n",
       "    }\n",
       "\n",
       "    .dataframe thead th {\n",
       "        text-align: right;\n",
       "    }\n",
       "</style>\n",
       "<table border=\"1\" class=\"dataframe\">\n",
       "  <thead>\n",
       "    <tr style=\"text-align: right;\">\n",
       "      <th></th>\n",
       "      <th>title</th>\n",
       "      <th>price</th>\n",
       "      <th>cat1</th>\n",
       "      <th>cat2</th>\n",
       "      <th>cat3</th>\n",
       "      <th>cat4</th>\n",
       "    </tr>\n",
       "  </thead>\n",
       "  <tbody>\n",
       "    <tr>\n",
       "      <th>0</th>\n",
       "      <td>펩시 제로슈거 라임향 20개입 500ml</td>\n",
       "      <td>22,900원</td>\n",
       "      <td>식품</td>\n",
       "      <td>생수/음료</td>\n",
       "      <td>청량/탄산음료</td>\n",
       "      <td>콜라</td>\n",
       "    </tr>\n",
       "    <tr>\n",
       "      <th>1</th>\n",
       "      <td>코카콜라 제로 190ml 60캔</td>\n",
       "      <td>37,840원</td>\n",
       "      <td>식품</td>\n",
       "      <td>생수/음료</td>\n",
       "      <td>청량/탄산음료</td>\n",
       "      <td>콜라</td>\n",
       "    </tr>\n",
       "    <tr>\n",
       "      <th>2</th>\n",
       "      <td>음료수 페트음료 PET 캔음료 코카콜라 사이다 쥬스 오렌지 1.5L 박스 환타 칠성</td>\n",
       "      <td>4,800원</td>\n",
       "      <td>식품</td>\n",
       "      <td>생수/음료</td>\n",
       "      <td>청량/탄산음료</td>\n",
       "      <td>콜라</td>\n",
       "    </tr>\n",
       "    <tr>\n",
       "      <th>3</th>\n",
       "      <td>코카콜라 제로 슈가 콜라 190 355 500 ml 업소용 소매용 모음</td>\n",
       "      <td>18,990원</td>\n",
       "      <td>식품</td>\n",
       "      <td>생수/음료</td>\n",
       "      <td>청량/탄산음료</td>\n",
       "      <td>콜라</td>\n",
       "    </tr>\n",
       "    <tr>\n",
       "      <th>4</th>\n",
       "      <td>롯데칠성음료 펩시제로슈거 라임향 355ml</td>\n",
       "      <td>400원</td>\n",
       "      <td>식품</td>\n",
       "      <td>생수/음료</td>\n",
       "      <td>청량/탄산음료</td>\n",
       "      <td>콜라</td>\n",
       "    </tr>\n",
       "    <tr>\n",
       "      <th>...</th>\n",
       "      <td>...</td>\n",
       "      <td>...</td>\n",
       "      <td>...</td>\n",
       "      <td>...</td>\n",
       "      <td>...</td>\n",
       "      <td>...</td>\n",
       "    </tr>\n",
       "    <tr>\n",
       "      <th>203</th>\n",
       "      <td>혼합가능 분다버그 (BUNDABERG)핑크자몽/진저비어/레몬라임/망고 375mlx12병</td>\n",
       "      <td>20,900원</td>\n",
       "      <td>식품</td>\n",
       "      <td>생수/음료</td>\n",
       "      <td>청량/탄산음료</td>\n",
       "      <td>기타탄산음료</td>\n",
       "    </tr>\n",
       "    <tr>\n",
       "      <th>204</th>\n",
       "      <td>동아오츠카 컨피던스 250ml</td>\n",
       "      <td>410원</td>\n",
       "      <td>식품</td>\n",
       "      <td>생수/음료</td>\n",
       "      <td>청량/탄산음료</td>\n",
       "      <td>기타탄산음료</td>\n",
       "    </tr>\n",
       "    <tr>\n",
       "      <th>205</th>\n",
       "      <td>롯데칠성음료 밀키스 340ml</td>\n",
       "      <td>490원</td>\n",
       "      <td>식품</td>\n",
       "      <td>생수/음료</td>\n",
       "      <td>청량/탄산음료</td>\n",
       "      <td>기타탄산음료</td>\n",
       "    </tr>\n",
       "    <tr>\n",
       "      <th>206</th>\n",
       "      <td>캐나다드라이 진저에일 토닉워터 클럽소다 250ml 30입 1박스</td>\n",
       "      <td>14,300원</td>\n",
       "      <td>식품</td>\n",
       "      <td>생수/음료</td>\n",
       "      <td>청량/탄산음료</td>\n",
       "      <td>기타탄산음료</td>\n",
       "    </tr>\n",
       "    <tr>\n",
       "      <th>207</th>\n",
       "      <td>코카콜라 닥터페퍼 제로 355ml</td>\n",
       "      <td>660원</td>\n",
       "      <td>식품</td>\n",
       "      <td>생수/음료</td>\n",
       "      <td>청량/탄산음료</td>\n",
       "      <td>기타탄산음료</td>\n",
       "    </tr>\n",
       "  </tbody>\n",
       "</table>\n",
       "<p>208 rows × 6 columns</p>\n",
       "</div>"
      ],
      "text/plain": [
       "                                                title    price cat1   cat2  \\\n",
       "0                              펩시 제로슈거 라임향 20개입 500ml  22,900원   식품  생수/음료   \n",
       "1                                   코카콜라 제로 190ml 60캔  37,840원   식품  생수/음료   \n",
       "2      음료수 페트음료 PET 캔음료 코카콜라 사이다 쥬스 오렌지 1.5L 박스 환타 칠성   4,800원   식품  생수/음료   \n",
       "3             코카콜라 제로 슈가 콜라 190 355 500 ml 업소용 소매용 모음  18,990원   식품  생수/음료   \n",
       "4                             롯데칠성음료 펩시제로슈거 라임향 355ml     400원   식품  생수/음료   \n",
       "..                                                ...      ...  ...    ...   \n",
       "203  혼합가능 분다버그 (BUNDABERG)핑크자몽/진저비어/레몬라임/망고 375mlx12병  20,900원   식품  생수/음료   \n",
       "204                                  동아오츠카 컨피던스 250ml     410원   식품  생수/음료   \n",
       "205                                  롯데칠성음료 밀키스 340ml     490원   식품  생수/음료   \n",
       "206               캐나다드라이 진저에일 토닉워터 클럽소다 250ml 30입 1박스  14,300원   식품  생수/음료   \n",
       "207                                코카콜라 닥터페퍼 제로 355ml     660원   식품  생수/음료   \n",
       "\n",
       "        cat3    cat4  \n",
       "0    청량/탄산음료      콜라  \n",
       "1    청량/탄산음료      콜라  \n",
       "2    청량/탄산음료      콜라  \n",
       "3    청량/탄산음료      콜라  \n",
       "4    청량/탄산음료      콜라  \n",
       "..       ...     ...  \n",
       "203  청량/탄산음료  기타탄산음료  \n",
       "204  청량/탄산음료  기타탄산음료  \n",
       "205  청량/탄산음료  기타탄산음료  \n",
       "206  청량/탄산음료  기타탄산음료  \n",
       "207  청량/탄산음료  기타탄산음료  \n",
       "\n",
       "[208 rows x 6 columns]"
      ]
     },
     "execution_count": 10,
     "metadata": {},
     "output_type": "execute_result"
    }
   ],
   "source": [
    "df"
   ]
  },
  {
   "cell_type": "code",
   "execution_count": null,
   "id": "7ddfe118",
   "metadata": {},
   "outputs": [],
   "source": []
  }
 ],
 "metadata": {
  "kernelspec": {
   "display_name": "Python [conda env:project]",
   "language": "python",
   "name": "conda-env-project-py"
  },
  "language_info": {
   "codemirror_mode": {
    "name": "ipython",
    "version": 3
   },
   "file_extension": ".py",
   "mimetype": "text/x-python",
   "name": "python",
   "nbconvert_exporter": "python",
   "pygments_lexer": "ipython3",
   "version": "3.8.15"
  },
  "vscode": {
   "interpreter": {
    "hash": "ee5b86c48bbce1a5dfce0cd3ea8f6543040960f288c81975245adb550a7156ed"
   }
  }
 },
 "nbformat": 4,
 "nbformat_minor": 5
}
