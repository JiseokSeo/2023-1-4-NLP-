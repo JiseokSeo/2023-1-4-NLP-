{
 "cells": [
  {
   "cell_type": "code",
   "execution_count": 6,
   "id": "aad7879b",
   "metadata": {},
   "outputs": [
    {
     "name": "stdout",
     "output_type": "stream",
     "text": [
      "Requirement already satisfied: selenium in c:\\users\\sojos\\anaconda3\\lib\\site-packages (4.7.2)\n",
      "Requirement already satisfied: urllib3[socks]~=1.26 in c:\\users\\sojos\\anaconda3\\lib\\site-packages (from selenium) (1.26.11)\n",
      "Requirement already satisfied: trio~=0.17 in c:\\users\\sojos\\anaconda3\\lib\\site-packages (from selenium) (0.22.0)\n",
      "Requirement already satisfied: trio-websocket~=0.9 in c:\\users\\sojos\\anaconda3\\lib\\site-packages (from selenium) (0.9.2)\n",
      "Requirement already satisfied: certifi>=2021.10.8 in c:\\users\\sojos\\anaconda3\\lib\\site-packages (from selenium) (2022.9.14)\n",
      "Requirement already satisfied: idna in c:\\users\\sojos\\anaconda3\\lib\\site-packages (from trio~=0.17->selenium) (3.3)\n",
      "Requirement already satisfied: async-generator>=1.9 in c:\\users\\sojos\\anaconda3\\lib\\site-packages (from trio~=0.17->selenium) (1.10)\n",
      "Requirement already satisfied: outcome in c:\\users\\sojos\\anaconda3\\lib\\site-packages (from trio~=0.17->selenium) (1.2.0)\n",
      "Requirement already satisfied: sniffio in c:\\users\\sojos\\anaconda3\\lib\\site-packages (from trio~=0.17->selenium) (1.2.0)\n",
      "Requirement already satisfied: attrs>=19.2.0 in c:\\users\\sojos\\anaconda3\\lib\\site-packages (from trio~=0.17->selenium) (21.4.0)\n",
      "Requirement already satisfied: exceptiongroup>=1.0.0rc9 in c:\\users\\sojos\\anaconda3\\lib\\site-packages (from trio~=0.17->selenium) (1.1.0)\n",
      "Requirement already satisfied: cffi>=1.14 in c:\\users\\sojos\\anaconda3\\lib\\site-packages (from trio~=0.17->selenium) (1.15.1)\n",
      "Requirement already satisfied: sortedcontainers in c:\\users\\sojos\\anaconda3\\lib\\site-packages (from trio~=0.17->selenium) (2.4.0)\n",
      "Requirement already satisfied: wsproto>=0.14 in c:\\users\\sojos\\anaconda3\\lib\\site-packages (from trio-websocket~=0.9->selenium) (1.2.0)\n",
      "Requirement already satisfied: PySocks!=1.5.7,<2.0,>=1.5.6 in c:\\users\\sojos\\anaconda3\\lib\\site-packages (from urllib3[socks]~=1.26->selenium) (1.7.1)\n",
      "Requirement already satisfied: pycparser in c:\\users\\sojos\\anaconda3\\lib\\site-packages (from cffi>=1.14->trio~=0.17->selenium) (2.21)\n",
      "Requirement already satisfied: h11<1,>=0.9.0 in c:\\users\\sojos\\anaconda3\\lib\\site-packages (from wsproto>=0.14->trio-websocket~=0.9->selenium) (0.14.0)\n",
      "Requirement already satisfied: BeautifulSoup4 in c:\\users\\sojos\\anaconda3\\lib\\site-packages (4.11.1)\n",
      "Requirement already satisfied: soupsieve>1.2 in c:\\users\\sojos\\anaconda3\\lib\\site-packages (from BeautifulSoup4) (2.3.1)\n",
      "Requirement already satisfied: chromedriver-autoinstaller in c:\\users\\sojos\\anaconda3\\lib\\site-packages (0.4.0)\n"
     ]
    }
   ],
   "source": [
    "!pip install selenium\n",
    "!pip install BeautifulSoup4\n",
    "!pip install chromedriver-autoinstaller"
   ]
  },
  {
   "cell_type": "code",
   "execution_count": 2,
   "id": "659b4cfd",
   "metadata": {},
   "outputs": [
    {
     "data": {
      "text/plain": [
       "'108'"
      ]
     },
     "execution_count": 2,
     "metadata": {},
     "output_type": "execute_result"
    }
   ],
   "source": [
    "from selenium import webdriver\n",
    "import chromedriver_autoinstaller\n",
    "import time\n",
    "import pandas as pd\n",
    "import numpy as np\n",
    "from selenium.webdriver.common.by import By\n",
    "import re\n",
    "pd.options.display.max_columns = None\n",
    "pd.options.display.max_rows = 355\n",
    "\n",
    "chrome_ver = chromedriver_autoinstaller.get_chrome_version().split('.')[0]\n",
    "chrome_ver"
   ]
  },
  {
   "cell_type": "code",
   "execution_count": 3,
   "id": "5280e8bc",
   "metadata": {},
   "outputs": [
    {
     "name": "stderr",
     "output_type": "stream",
     "text": [
      "C:\\Users\\sojos\\AppData\\Local\\Temp\\ipykernel_15464\\139516935.py:2: DeprecationWarning: executable_path has been deprecated, please pass in a Service object\n",
      "  crawler = webdriver.Chrome(f'./{chrome_ver}/chromedriver.exe')\n"
     ]
    }
   ],
   "source": [
    "try:\n",
    "    crawler = webdriver.Chrome(f'./{chrome_ver}/chromedriver.exe')\n",
    "except:\n",
    "    crawler = chromedriver_autoinstaller.install(True)\n",
    "    crawler = webdriver.Chrome(f'./{chrome_ver}/chromedriver.exe')\n",
    "crawler.implicitly_wait(10)\n",
    "crawling_url = 'https://search.shopping.naver.com/search/category/100007966?catId=50012620%2050013360&origQuery&pagingIndex=1&pagingSize=40&productSet=total&query&sort=rel&timestamp=&viewType=list'\n",
    "crawler.get(crawling_url)"
   ]
  },
  {
   "cell_type": "code",
   "execution_count": 4,
   "id": "d034c7f3",
   "metadata": {},
   "outputs": [
    {
     "data": {
      "text/plain": [
       "('식품', '오일/가루/향신료', '4')"
      ]
     },
     "execution_count": 4,
     "metadata": {},
     "output_type": "execute_result"
    }
   ],
   "source": [
    "cat1 = crawler.find_element('xpath', '//*[@id=\"__next\"]/div/div[2]/div/div[2]/div[1]/div[1]/div[2]/div/h4/a/span[1]').text\n",
    "cat2 = crawler.find_element('xpath', '//*[@id=\"__next\"]/div/div[2]/div/div[2]/div[1]/div[1]/div[2]/div/h4/a/span[2]').text\n",
    "cat3 = crawler.find_element('xpath', '//*[@id=\"__next\"]/div/div[2]/div/div[2]/div[1]/div[1]/div[2]/div/h4/a/span[3]').text\n",
    "cat1, cat2, cat3"
   ]
  },
  {
   "cell_type": "code",
   "execution_count": 5,
   "id": "3cbf0810",
   "metadata": {},
   "outputs": [],
   "source": [
    "cat_list = [f'//*[@id=\"__next\"]/div/div[2]/div/div[2]/div[1]/div[1]/div[2]/div/ul/li[{i}]/a/span' for i in range(1, int(cat3)+1)]"
   ]
  },
  {
   "cell_type": "code",
   "execution_count": 6,
   "id": "003c278a",
   "metadata": {},
   "outputs": [],
   "source": [
    "data = []"
   ]
  },
  {
   "cell_type": "code",
   "execution_count": 11,
   "id": "e8e3f2cf",
   "metadata": {
    "scrolled": true
   },
   "outputs": [
    {
     "name": "stdout",
     "output_type": "stream",
     "text": [
      "now 향신료:1 page\n",
      "size of df: 6972\n",
      "\n",
      "now 향신료:2 page\n",
      "size of df: 6998\n",
      "\n",
      "now 향신료:3 page\n",
      "size of df: 7024\n",
      "\n",
      "now 향신료:4 page\n",
      "size of df: 7050\n",
      "\n",
      "now 향신료:5 page\n",
      "size of df: 7076\n",
      "\n",
      "now 향신료:6 page\n",
      "size of df: 7102\n",
      "\n",
      "now 향신료:7 page\n",
      "size of df: 7128\n",
      "\n",
      "now 향신료:8 page\n",
      "size of df: 7154\n",
      "\n",
      "now 향신료:9 page\n",
      "size of df: 7180\n",
      "\n",
      "now 향신료:10 page\n",
      "size of df: 7206\n",
      "\n",
      "now 향신료:11 page\n",
      "size of df: 7232\n",
      "\n",
      "now 향신료:12 page\n",
      "size of df: 7258\n",
      "\n",
      "now 향신료:13 page\n",
      "size of df: 7284\n",
      "\n",
      "now 향신료:14 page\n",
      "size of df: 7310\n",
      "\n",
      "now 향신료:15 page\n",
      "size of df: 7336\n",
      "\n",
      "now 향신료:16 page\n",
      "size of df: 7362\n",
      "\n",
      "now 향신료:17 page\n",
      "size of df: 7386\n",
      "\n",
      "now 향신료:18 page\n",
      "size of df: 7406\n",
      "\n",
      "now 향신료:19 page\n",
      "size of df: 7426\n",
      "\n",
      "now 향신료:20 page\n",
      "size of df: 7446\n",
      "\n",
      "now 향신료:21 page\n",
      "size of df: 7466\n",
      "\n",
      "now 향신료:22 page\n",
      "size of df: 7486\n",
      "\n",
      "now 향신료:23 page\n",
      "size of df: 7506\n",
      "\n",
      "now 향신료:24 page\n",
      "size of df: 7526\n",
      "\n",
      "now 향신료:25 page\n",
      "size of df: 7546\n",
      "\n",
      "now 향신료:26 page\n",
      "size of df: 7566\n",
      "\n",
      "now 향신료:27 page\n",
      "size of df: 7586\n",
      "\n",
      "now 향신료:28 page\n",
      "size of df: 7606\n",
      "\n",
      "now 향신료:29 page\n",
      "size of df: 7626\n",
      "\n",
      "now 향신료:30 page\n",
      "size of df: 7646\n",
      "\n",
      "now 향신료:31 page\n",
      "size of df: 7666\n",
      "\n",
      "now 향신료:32 page\n",
      "size of df: 7686\n",
      "\n",
      "now 향신료:33 page\n",
      "size of df: 7706\n",
      "\n",
      "now 향신료:34 page\n",
      "size of df: 7726\n",
      "\n",
      "now 향신료:35 page\n",
      "size of df: 7746\n",
      "\n",
      "now 향신료:36 page\n",
      "size of df: 7766\n",
      "\n",
      "now 향신료:37 page\n",
      "size of df: 7786\n",
      "\n",
      "now 향신료:38 page\n",
      "size of df: 7806\n",
      "\n",
      "now 향신료:39 page\n",
      "size of df: 7826\n",
      "\n",
      "now 향신료:40 page\n",
      "size of df: 7846\n",
      "\n",
      "now 향신료:41 page\n",
      "size of df: 7866\n",
      "\n",
      "now 향신료:42 page\n",
      "size of df: 7886\n",
      "\n",
      "now 향신료:43 page\n",
      "size of df: 7906\n",
      "\n",
      "now 향신료:44 page\n",
      "size of df: 7926\n",
      "\n",
      "now 향신료:45 page\n",
      "size of df: 7946\n",
      "\n",
      "now 향신료:46 page\n",
      "size of df: 7966\n",
      "\n",
      "now 향신료:47 page\n",
      "size of df: 7986\n",
      "\n",
      "now 향신료:48 page\n",
      "size of df: 8006\n",
      "\n",
      "now 향신료:49 page\n",
      "size of df: 8026\n",
      "\n",
      "now 향신료:50 page\n",
      "size of df: 8046\n",
      "\n",
      "now 향신료:51 page\n",
      "size of df: 8066\n",
      "\n",
      "now 향신료:52 page\n",
      "size of df: 8086\n",
      "\n",
      "now 향신료:53 page\n",
      "size of df: 8106\n",
      "\n",
      "now 향신료:54 page\n",
      "size of df: 8126\n",
      "\n",
      "now 향신료:55 page\n",
      "size of df: 8146\n",
      "\n",
      "now 향신료:56 page\n",
      "size of df: 8166\n",
      "\n",
      "now 향신료:57 page\n",
      "size of df: 8186\n",
      "\n",
      "now 향신료:58 page\n",
      "size of df: 8206\n",
      "\n",
      "now 향신료:59 page\n",
      "size of df: 8226\n",
      "\n",
      "now 향신료:60 page\n",
      "size of df: 8246\n",
      "\n",
      "now 향신료:61 page\n",
      "size of df: 8266\n",
      "\n",
      "now 향신료:62 page\n",
      "size of df: 8286\n",
      "\n",
      "now 향신료:63 page\n",
      "size of df: 8306\n",
      "\n",
      "now 향신료:64 page\n",
      "size of df: 8326\n",
      "\n",
      "now 향신료:65 page\n",
      "size of df: 8346\n",
      "\n",
      "now 향신료:66 page\n",
      "size of df: 8366\n",
      "\n",
      "now 향신료:67 page\n",
      "size of df: 8386\n",
      "\n",
      "now 향신료:68 page\n",
      "size of df: 8406\n",
      "\n",
      "now 향신료:69 page\n",
      "size of df: 8426\n",
      "\n",
      "now 향신료:70 page\n",
      "size of df: 8446\n",
      "\n",
      "now 향신료:71 page\n",
      "size of df: 8466\n",
      "\n",
      "now 향신료:72 page\n",
      "size of df: 8486\n",
      "\n",
      "now 향신료:73 page\n",
      "size of df: 8506\n",
      "\n",
      "now 향신료:74 page\n",
      "size of df: 8526\n",
      "\n",
      "now 향신료:75 page\n",
      "size of df: 8546\n",
      "\n",
      "now 향신료:76 page\n",
      "size of df: 8566\n",
      "\n",
      "now 향신료:77 page\n",
      "size of df: 8586\n",
      "\n",
      "now 향신료:78 page\n"
     ]
    },
    {
     "ename": "KeyboardInterrupt",
     "evalue": "",
     "output_type": "error",
     "traceback": [
      "\u001b[1;31m---------------------------------------------------------------------------\u001b[0m",
      "\u001b[1;31mKeyboardInterrupt\u001b[0m                         Traceback (most recent call last)",
      "\u001b[1;32m~\\AppData\\Local\\Temp\\ipykernel_15464\\2729621367.py\u001b[0m in \u001b[0;36m<module>\u001b[1;34m\u001b[0m\n\u001b[0;32m     18\u001b[0m \u001b[1;33m\u001b[0m\u001b[0m\n\u001b[0;32m     19\u001b[0m         \u001b[1;32mwhile\u001b[0m \u001b[1;32mTrue\u001b[0m\u001b[1;33m:\u001b[0m\u001b[1;33m\u001b[0m\u001b[1;33m\u001b[0m\u001b[0m\n\u001b[1;32m---> 20\u001b[1;33m             \u001b[0mtime\u001b[0m\u001b[1;33m.\u001b[0m\u001b[0msleep\u001b[0m\u001b[1;33m(\u001b[0m\u001b[1;36m1\u001b[0m\u001b[1;33m)\u001b[0m\u001b[1;33m\u001b[0m\u001b[1;33m\u001b[0m\u001b[0m\n\u001b[0m\u001b[0;32m     21\u001b[0m             \u001b[0mbh\u001b[0m \u001b[1;33m=\u001b[0m \u001b[0mcrawler\u001b[0m\u001b[1;33m.\u001b[0m\u001b[0mexecute_script\u001b[0m\u001b[1;33m(\u001b[0m\u001b[1;34m'return document.body.scrollHeight'\u001b[0m\u001b[1;33m)\u001b[0m\u001b[1;33m\u001b[0m\u001b[1;33m\u001b[0m\u001b[0m\n\u001b[0;32m     22\u001b[0m \u001b[1;33m\u001b[0m\u001b[0m\n",
      "\u001b[1;31mKeyboardInterrupt\u001b[0m: "
     ]
    }
   ],
   "source": [
    "for cat in cat_list[3:]:\n",
    "    crawler.get(crawling_url)\n",
    "    time.sleep(2)\n",
    "    \n",
    "    crawler.find_element('xpath', cat).click()\n",
    "    cat_now = crawler.find_element('xpath', cat).text\n",
    "    time.sleep(2)\n",
    "    \n",
    "    url = crawler.current_url\n",
    "    cat_code = re.findall('/[0-9]{9}', url)[0][1:]\n",
    "    cat_id = re.findall('=[0-9]{8}', url)[0][1:]\n",
    "\n",
    "\n",
    "    \n",
    "    for i in range(1, 145):\n",
    "        crawler.get(f'https://search.shopping.naver.com/search/category/{cat_code}?catId={cat_id}&origQuery&pagingIndex={i}&pagingSize=20&productSet=total&query&sort=rel&timestamp=&viewType=list')\n",
    "        print(f'now {cat_now}:{i} page')\n",
    "        \n",
    "        while True:\n",
    "            time.sleep(1)\n",
    "            bh = crawler.execute_script('return document.body.scrollHeight')\n",
    "\n",
    "            crawler.execute_script('window.scrollTo(0, document.body.scrollHeight)')\n",
    "\n",
    "            ah = crawler.execute_script('return document.body.scrollHeight')\n",
    "\n",
    "            if ah == bh:\n",
    "                break\n",
    "                time.sleep(1)\n",
    "                \n",
    "            bh = ah\n",
    "            crawler.execute_script('window.scrollTo(document.body.scrollHeight, 0)')\n",
    "        \n",
    "        time.sleep(3)\n",
    "        infos = crawler.find_elements(By.CSS_SELECTOR, '.basicList_info_area__TWvzp')\n",
    "        for info in infos:\n",
    "            try:\n",
    "                name = info.find_element(By.CSS_SELECTOR, '.basicList_title__VfX3c > a').text\n",
    "                price = info.find_element(By.CSS_SELECTOR, 'div.basicList_info_area__TWvzp > div.basicList_price_area__K7DDT > strong > span > span.price_num__S2p_v').text\n",
    "                data.append([name, cat2, cat_now, price])\n",
    "    #             if len(data) >= 3000:\n",
    "    #                 break\n",
    "            except:\n",
    "                pass\n",
    "        \n",
    "        print(f'size of df: {len(data)}\\n')\n",
    "#         if len(data) >= 3000:\n",
    "#             break"
   ]
  },
  {
   "cell_type": "code",
   "execution_count": 12,
   "id": "b418d020",
   "metadata": {
    "scrolled": true
   },
   "outputs": [],
   "source": [
    "df = pd.DataFrame(columns=['title', 'cat1', 'cat2', 'price'], data=data)"
   ]
  },
  {
   "cell_type": "code",
   "execution_count": 15,
   "id": "321e8f29",
   "metadata": {
    "scrolled": true
   },
   "outputs": [],
   "source": [
    "df = df[df.duplicated() == False]"
   ]
  },
  {
   "cell_type": "code",
   "execution_count": 16,
   "id": "6cd13a01",
   "metadata": {},
   "outputs": [
    {
     "data": {
      "text/plain": [
       "0"
      ]
     },
     "execution_count": 16,
     "metadata": {},
     "output_type": "execute_result"
    }
   ],
   "source": [
    "df.duplicated().sum()"
   ]
  },
  {
   "cell_type": "code",
   "execution_count": 17,
   "id": "d53cb73b",
   "metadata": {},
   "outputs": [],
   "source": [
    "df.to_csv(f'오일_가루_향신료.csv')"
   ]
  },
  {
   "cell_type": "code",
   "execution_count": 78,
   "id": "5659d90c",
   "metadata": {},
   "outputs": [],
   "source": [
    "df = df[df.duplicated() != True]"
   ]
  },
  {
   "cell_type": "code",
   "execution_count": 18,
   "id": "43b2e861",
   "metadata": {},
   "outputs": [
    {
     "ename": "NameError",
     "evalue": "name 'df3' is not defined",
     "output_type": "error",
     "traceback": [
      "\u001b[1;31m---------------------------------------------------------------------------\u001b[0m",
      "\u001b[1;31mNameError\u001b[0m                                 Traceback (most recent call last)",
      "\u001b[1;32m~\\AppData\\Local\\Temp\\ipykernel_15464\\4252367821.py\u001b[0m in \u001b[0;36m<module>\u001b[1;34m\u001b[0m\n\u001b[0;32m      2\u001b[0m     \u001b[1;32mreturn\u001b[0m \u001b[0mstring\u001b[0m\u001b[1;33m.\u001b[0m\u001b[0mreplace\u001b[0m\u001b[1;33m(\u001b[0m\u001b[1;34m'식용유/오일'\u001b[0m\u001b[1;33m,\u001b[0m \u001b[1;34m'오일/가루/향신료'\u001b[0m\u001b[1;33m)\u001b[0m\u001b[1;33m\u001b[0m\u001b[1;33m\u001b[0m\u001b[0m\n\u001b[0;32m      3\u001b[0m \u001b[1;33m\u001b[0m\u001b[0m\n\u001b[1;32m----> 4\u001b[1;33m \u001b[0mdf\u001b[0m \u001b[1;33m=\u001b[0m \u001b[0mdf3\u001b[0m\u001b[1;33m.\u001b[0m\u001b[0mapplymap\u001b[0m\u001b[1;33m(\u001b[0m\u001b[0mfix\u001b[0m\u001b[1;33m)\u001b[0m\u001b[1;33m\u001b[0m\u001b[1;33m\u001b[0m\u001b[0m\n\u001b[0m",
      "\u001b[1;31mNameError\u001b[0m: name 'df3' is not defined"
     ]
    }
   ],
   "source": []
  },
  {
   "cell_type": "code",
   "execution_count": null,
   "id": "cfe62bd2",
   "metadata": {},
   "outputs": [],
   "source": []
  }
 ],
 "metadata": {
  "kernelspec": {
   "display_name": "Python 3 (ipykernel)",
   "language": "python",
   "name": "python3"
  },
  "language_info": {
   "codemirror_mode": {
    "name": "ipython",
    "version": 3
   },
   "file_extension": ".py",
   "mimetype": "text/x-python",
   "name": "python",
   "nbconvert_exporter": "python",
   "pygments_lexer": "ipython3",
   "version": "3.9.13"
  }
 },
 "nbformat": 4,
 "nbformat_minor": 5
}
