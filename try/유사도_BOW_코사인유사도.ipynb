{
  "nbformat": 4,
  "nbformat_minor": 0,
  "metadata": {
    "colab": {
      "provenance": [],
      "collapsed_sections": [
        "nm8L2wtLcyHx"
      ]
    },
    "kernelspec": {
      "name": "python3",
      "display_name": "Python 3"
    },
    "language_info": {
      "name": "python"
    }
  },
  "cells": [
    {
      "cell_type": "markdown",
      "source": [
        "# 단일 문서의 워드 클라우드  "
      ],
      "metadata": {
        "id": "nm8L2wtLcyHx"
      }
    },
    {
      "cell_type": "code",
      "execution_count": 1,
      "metadata": {
        "colab": {
          "base_uri": "https://localhost:8080/"
        },
        "id": "Fjkr3f0tQNQ7",
        "outputId": "82f7cfad-c0b7-4cec-8fd4-f7278a66c250"
      },
      "outputs": [
        {
          "output_type": "stream",
          "name": "stdout",
          "text": [
            "Looking in indexes: https://pypi.org/simple, https://us-python.pkg.dev/colab-wheels/public/simple/\n",
            "Requirement already satisfied: nltk in /usr/local/lib/python3.8/dist-packages (3.7)\n",
            "Requirement already satisfied: joblib in /usr/local/lib/python3.8/dist-packages (from nltk) (1.2.0)\n",
            "Requirement already satisfied: regex>=2021.8.3 in /usr/local/lib/python3.8/dist-packages (from nltk) (2022.6.2)\n",
            "Requirement already satisfied: tqdm in /usr/local/lib/python3.8/dist-packages (from nltk) (4.64.1)\n",
            "Requirement already satisfied: click in /usr/local/lib/python3.8/dist-packages (from nltk) (7.1.2)\n",
            "Looking in indexes: https://pypi.org/simple, https://us-python.pkg.dev/colab-wheels/public/simple/\n",
            "Requirement already satisfied: konlpy in /usr/local/lib/python3.8/dist-packages (0.6.0)\n",
            "Requirement already satisfied: numpy>=1.6 in /usr/local/lib/python3.8/dist-packages (from konlpy) (1.21.6)\n",
            "Requirement already satisfied: JPype1>=0.7.0 in /usr/local/lib/python3.8/dist-packages (from konlpy) (1.4.1)\n",
            "Requirement already satisfied: lxml>=4.1.0 in /usr/local/lib/python3.8/dist-packages (from konlpy) (4.9.2)\n",
            "Requirement already satisfied: packaging in /usr/local/lib/python3.8/dist-packages (from JPype1>=0.7.0->konlpy) (21.3)\n",
            "Requirement already satisfied: pyparsing!=3.0.5,>=2.0.2 in /usr/local/lib/python3.8/dist-packages (from packaging->JPype1>=0.7.0->konlpy) (3.0.9)\n"
          ]
        }
      ],
      "source": [
        "!pip install nltk\n",
        "!pip install konlpy"
      ]
    },
    {
      "cell_type": "code",
      "source": [
        "import nltk\n",
        "from konlpy.corpus import kobill"
      ],
      "metadata": {
        "id": "VF-IaMicVcTG"
      },
      "execution_count": 2,
      "outputs": []
    },
    {
      "cell_type": "code",
      "source": [
        "# 데이터 임포팅\n",
        "files_ko = kobill.fileids()\n",
        "doc_ko = kobill.open('1809890.txt').read()"
      ],
      "metadata": {
        "id": "BWGDXQhaVh14"
      },
      "execution_count": 3,
      "outputs": []
    },
    {
      "cell_type": "code",
      "source": [
        "doc_ko[:1000]"
      ],
      "metadata": {
        "colab": {
          "base_uri": "https://localhost:8080/",
          "height": 0
        },
        "id": "V3cPQ7kBVtFE",
        "outputId": "fb13e5ef-71d5-414e-b182-e85bb97f2f5d"
      },
      "execution_count": 4,
      "outputs": [
        {
          "output_type": "execute_result",
          "data": {
            "text/plain": [
              "'지방공무원법 일부개정법률안\\n\\n(정의화의원 대표발의 )\\n\\n 의 안\\n 번 호\\n\\n9890\\n\\n발의연월일 : 2010.  11.  12.  \\n\\n발  의  자 : 정의화․이명수․김을동 \\n\\n이사철․여상규․안규백\\n\\n황영철․박영아․김정훈\\n\\n김학송 의원(10인)\\n\\n제안이유 및 주요내용\\n\\n  초등학교 저학년의 경우에도 부모의 따뜻한 사랑과 보살핌이 필요\\n\\n한 나이이나, 현재 공무원이 자녀를 양육하기 위하여 육아휴직을 할 \\n\\n수 있는 자녀의 나이는 만 6세 이하로 되어 있어 초등학교 저학년인 \\n\\n자녀를 돌보기 위해서는 해당 부모님은 일자리를 그만 두어야 하고 \\n\\n이는 곧 출산의욕을 저하시키는 문제로 이어질 수 있을 것임.\\n\\n  따라서 육아휴직이 가능한 자녀의 연령을 만 8세 이하로 개정하려\\n\\n는 것임(안 제63조제2항제4호).\\n\\n- 1 -\\n\\n\\x0c법률  제        호\\n\\n지방공무원법 일부개정법률안\\n\\n지방공무원법 일부를 다음과 같이 개정한다.\\n\\n제63조제2항제4호 중 “만 6세 이하의 초등학교 취학 전 자녀를”을 “만 \\n\\n8세 이하(취학 중인 경우에는 초등학교 2학년 이하를 말한다)의 자녀를”\\n\\n로 한다.\\n\\n부      칙\\n\\n이 법은 공포한 날부터 시행한다.\\n\\n- 3 -\\n\\n\\x0c신 ·구조문대비표\\n\\n현      행\\n\\n개   정   안\\n\\n제63조(휴직) ① (생  략)\\n\\n제63조(휴직) ① (현행과 같음)\\n\\n  ② 공무원이 다음 각 호의 어\\n\\n  ② -------------------------\\n\\n느 하나에 해당하는 사유로 휴\\n\\n----------------------------\\n\\n직을 원하면 임용권자는 휴직\\n\\n----------------------------\\n\\n을 명할 수 있다. 다만, 제4호\\n\\n-------------.---------------\\n\\n의 경우에는 대통령령으로 정\\n\\n----------------------------\\n\\n하는 특별한 사정이 없으면 휴\\n\\n----------------------------\\n\\n직을 명하여야 한다.\\n\\n--------------.\\n\\n  1. ∼ 3.'"
            ],
            "application/vnd.google.colaboratory.intrinsic+json": {
              "type": "string"
            }
          },
          "metadata": {},
          "execution_count": 4
        }
      ]
    },
    {
      "cell_type": "code",
      "source": [
        "# 명사만 추출\n",
        "from konlpy.tag import Okt\n",
        "t = Okt()\n",
        "tokens_ko = t.nouns(doc_ko)"
      ],
      "metadata": {
        "id": "ZNdp6n5fVuDQ"
      },
      "execution_count": 5,
      "outputs": []
    },
    {
      "cell_type": "code",
      "source": [
        "tokens_ko[:30]"
      ],
      "metadata": {
        "colab": {
          "base_uri": "https://localhost:8080/"
        },
        "id": "B85xxPh2V3d7",
        "outputId": "75756a32-9450-495b-ca3b-a172c82473a5"
      },
      "execution_count": 6,
      "outputs": [
        {
          "output_type": "execute_result",
          "data": {
            "text/plain": [
              "['지방공무원법',\n",
              " '일부',\n",
              " '개정',\n",
              " '법률',\n",
              " '안',\n",
              " '정의화',\n",
              " '의원',\n",
              " '대표',\n",
              " '발의',\n",
              " '의',\n",
              " '안',\n",
              " '번',\n",
              " '호',\n",
              " '발의',\n",
              " '연월일',\n",
              " '발',\n",
              " '의',\n",
              " '자',\n",
              " '정의화',\n",
              " '이명수',\n",
              " '김을동',\n",
              " '이사철',\n",
              " '여상규',\n",
              " '안규백',\n",
              " '황영철',\n",
              " '박영아',\n",
              " '김정훈',\n",
              " '김학송',\n",
              " '의원',\n",
              " '인']"
            ]
          },
          "metadata": {},
          "execution_count": 6
        }
      ]
    },
    {
      "cell_type": "code",
      "source": [
        "# 사용 빈도 확인\n",
        "ko = nltk.Text(tokens_ko, name='대한민국 국회 의안 제 1809890호')"
      ],
      "metadata": {
        "id": "kadAOUAtV4F4"
      },
      "execution_count": 7,
      "outputs": []
    },
    {
      "cell_type": "code",
      "source": [
        "ko.vocab()"
      ],
      "metadata": {
        "colab": {
          "base_uri": "https://localhost:8080/"
        },
        "id": "U0x8O-hsWPWv",
        "outputId": "ed80300c-417f-44c7-f259-ce1e59ae6996"
      },
      "execution_count": 8,
      "outputs": [
        {
          "output_type": "execute_result",
          "data": {
            "text/plain": [
              "FreqDist({'육아휴직': 38, '발생': 19, '만': 18, '이하': 18, '비용': 17, '액': 17, '경우': 16, '세': 16, '자녀': 14, '고용': 14, ...})"
            ]
          },
          "metadata": {},
          "execution_count": 8
        }
      ]
    },
    {
      "cell_type": "code",
      "source": [
        "!sudo apt-get install -y fonts-nanum\n",
        "!sudo fc-cache -fv\n",
        "!rm ~/.cache/matplotlib -rf"
      ],
      "metadata": {
        "colab": {
          "base_uri": "https://localhost:8080/"
        },
        "id": "LjRFM6oBWVNl",
        "outputId": "4989a296-c9cb-443d-8c75-7c9b3753c69d"
      },
      "execution_count": 9,
      "outputs": [
        {
          "output_type": "stream",
          "name": "stdout",
          "text": [
            "Reading package lists... Done\n",
            "Building dependency tree       \n",
            "Reading state information... Done\n",
            "fonts-nanum is already the newest version (20170925-1).\n",
            "The following package was automatically installed and is no longer required:\n",
            "  libnvidia-common-460\n",
            "Use 'sudo apt autoremove' to remove it.\n",
            "0 upgraded, 0 newly installed, 0 to remove and 21 not upgraded.\n",
            "/usr/share/fonts: caching, new cache contents: 0 fonts, 1 dirs\n",
            "/usr/share/fonts/truetype: caching, new cache contents: 0 fonts, 3 dirs\n",
            "/usr/share/fonts/truetype/humor-sans: caching, new cache contents: 1 fonts, 0 dirs\n",
            "/usr/share/fonts/truetype/liberation: caching, new cache contents: 16 fonts, 0 dirs\n",
            "/usr/share/fonts/truetype/nanum: caching, new cache contents: 10 fonts, 0 dirs\n",
            "/usr/local/share/fonts: caching, new cache contents: 0 fonts, 0 dirs\n",
            "/root/.local/share/fonts: skipping, no such directory\n",
            "/root/.fonts: skipping, no such directory\n",
            "/var/cache/fontconfig: cleaning cache directory\n",
            "/root/.cache/fontconfig: not cleaning non-existent cache directory\n",
            "/root/.fontconfig: not cleaning non-existent cache directory\n",
            "fc-cache: succeeded\n"
          ]
        }
      ]
    },
    {
      "cell_type": "code",
      "source": [
        "# 빈도 시각화\n",
        "import matplotlib.pyplot as plt\n",
        "plt.rc('font', family='NanumBarunGothic')\n",
        "plt.figure(figsize=(12, 6))\n",
        "ko.plot(50)"
      ],
      "metadata": {
        "colab": {
          "base_uri": "https://localhost:8080/",
          "height": 0
        },
        "id": "0v2UDwM1Xq1w",
        "outputId": "039bc318-bca7-4f16-a004-d033f8466ba6"
      },
      "execution_count": 10,
      "outputs": [
        {
          "output_type": "display_data",
          "data": {
            "text/plain": [
              "<Figure size 864x432 with 1 Axes>"
            ],
            "image/png": "[encoded data removed]"
          },
          "metadata": {
            "needs_background": "light"
          }
        },
        {
          "output_type": "execute_result",
          "data": {
            "text/plain": [
              "<matplotlib.axes._subplots.AxesSubplot at 0x7faf9072b130>"
            ]
          },
          "metadata": {},
          "execution_count": 10
        }
      ]
    },
    {
      "cell_type": "code",
      "source": [
        "# 불용어 수동 설정\n",
        "stop_words = ['.', ',' '(', ')', '\"', \"'\", '%', '의', '자', '에', '안', '번', '호', '을', '를', '이', '다', '만', '로', '가']\n",
        "ko = [i for i in ko if i not in stop_words]\n",
        "ko[:10]"
      ],
      "metadata": {
        "colab": {
          "base_uri": "https://localhost:8080/"
        },
        "id": "jZhNCmjPWsFq",
        "outputId": "d0d2e9dc-481b-4e1e-9c35-7567edfedc92"
      },
      "execution_count": 11,
      "outputs": [
        {
          "output_type": "execute_result",
          "data": {
            "text/plain": [
              "['지방공무원법', '일부', '개정', '법률', '정의화', '의원', '대표', '발의', '발의', '연월일']"
            ]
          },
          "metadata": {},
          "execution_count": 11
        }
      ]
    },
    {
      "cell_type": "code",
      "source": [
        "ko"
      ],
      "metadata": {
        "colab": {
          "base_uri": "https://localhost:8080/"
        },
        "id": "WPbJH-6faq0Z",
        "outputId": "9a4e31e3-7330-42b5-8c8b-166ba0cd3b6f"
      },
      "execution_count": 12,
      "outputs": [
        {
          "output_type": "execute_result",
          "data": {
            "text/plain": [
              "['지방공무원법',\n",
              " '일부',\n",
              " '개정',\n",
              " '법률',\n",
              " '정의화',\n",
              " '의원',\n",
              " '대표',\n",
              " '발의',\n",
              " '발의',\n",
              " '연월일',\n",
              " '발',\n",
              " '정의화',\n",
              " '이명수',\n",
              " '김을동',\n",
              " '이사철',\n",
              " '여상규',\n",
              " '안규백',\n",
              " '황영철',\n",
              " '박영아',\n",
              " '김정훈',\n",
              " '김학송',\n",
              " '의원',\n",
              " '인',\n",
              " '제안',\n",
              " '이유',\n",
              " '및',\n",
              " '내용',\n",
              " '초등학교',\n",
              " '저학년',\n",
              " '경우',\n",
              " '부모',\n",
              " '사랑',\n",
              " '필요',\n",
              " '나이',\n",
              " '현재',\n",
              " '공무원',\n",
              " '자녀',\n",
              " '양육',\n",
              " '위',\n",
              " '육아휴직',\n",
              " '수',\n",
              " '자녀',\n",
              " '나이',\n",
              " '세',\n",
              " '이하',\n",
              " '초등학교',\n",
              " '저학년',\n",
              " '자녀',\n",
              " '위',\n",
              " '해당',\n",
              " '부모님',\n",
              " '일자리',\n",
              " '곧',\n",
              " '출산',\n",
              " '의욕',\n",
              " '저하',\n",
              " '문제',\n",
              " '수',\n",
              " '것임',\n",
              " '따라서',\n",
              " '육아휴직',\n",
              " '자녀',\n",
              " '연령',\n",
              " '세',\n",
              " '이하',\n",
              " '개정',\n",
              " '것임',\n",
              " '제',\n",
              " '항제',\n",
              " '법률',\n",
              " '제',\n",
              " '지방공무원법',\n",
              " '일부',\n",
              " '개정',\n",
              " '법률',\n",
              " '지방공무원법',\n",
              " '일부',\n",
              " '다음',\n",
              " '개정',\n",
              " '제',\n",
              " '항제',\n",
              " '중',\n",
              " '세',\n",
              " '이하',\n",
              " '초등학교',\n",
              " '취학',\n",
              " '전',\n",
              " '자녀',\n",
              " '세',\n",
              " '이하',\n",
              " '취학',\n",
              " '중인',\n",
              " '경우',\n",
              " '초등학교',\n",
              " '학년',\n",
              " '이하',\n",
              " '말',\n",
              " '자녀',\n",
              " '부',\n",
              " '칙',\n",
              " '법',\n",
              " '공포',\n",
              " '날',\n",
              " '시행',\n",
              " '신',\n",
              " '구조',\n",
              " '문대비',\n",
              " '표',\n",
              " '현',\n",
              " '행',\n",
              " '개',\n",
              " '정',\n",
              " '제',\n",
              " '휴직',\n",
              " '생',\n",
              " '략',\n",
              " '제',\n",
              " '휴직',\n",
              " '현행',\n",
              " '공무원',\n",
              " '다음',\n",
              " '각',\n",
              " '호의',\n",
              " '느',\n",
              " '하나',\n",
              " '해당',\n",
              " '사유',\n",
              " '직',\n",
              " '임용',\n",
              " '휴직',\n",
              " '명',\n",
              " '수',\n",
              " '다만',\n",
              " '제',\n",
              " '경우',\n",
              " '대통령령',\n",
              " '정',\n",
              " '사정',\n",
              " '직',\n",
              " '명',\n",
              " '생',\n",
              " '략',\n",
              " '현행',\n",
              " '세',\n",
              " '이하',\n",
              " '초등학교',\n",
              " '취',\n",
              " '세',\n",
              " '이하',\n",
              " '취학',\n",
              " '중인',\n",
              " '경우',\n",
              " '학',\n",
              " '전',\n",
              " '자녀',\n",
              " '양육',\n",
              " '위',\n",
              " '초등학교',\n",
              " '학년',\n",
              " '이하',\n",
              " '여',\n",
              " '여자',\n",
              " '공무원',\n",
              " '말',\n",
              " '자녀',\n",
              " '임신',\n",
              " '출산',\n",
              " '때',\n",
              " '생',\n",
              " '략',\n",
              " '생',\n",
              " '략',\n",
              " '현행',\n",
              " '현행',\n",
              " '지방공무원법',\n",
              " '일부',\n",
              " '개정',\n",
              " '법률',\n",
              " '등',\n",
              " '비용',\n",
              " '추계',\n",
              " '첨부',\n",
              " '사유',\n",
              " '재정',\n",
              " '요인',\n",
              " '개정안',\n",
              " '국가공무원',\n",
              " '법',\n",
              " '제',\n",
              " '항제',\n",
              " '중',\n",
              " '국가공무원',\n",
              " '육아',\n",
              " '휴직',\n",
              " '가능',\n",
              " '자녀',\n",
              " '연령',\n",
              " '세',\n",
              " '이하',\n",
              " '세',\n",
              " '이하',\n",
              " '방공',\n",
              " '무',\n",
              " '법',\n",
              " '제',\n",
              " '항제',\n",
              " '중',\n",
              " '지방',\n",
              " '공무원',\n",
              " '육아휴직',\n",
              " '가능',\n",
              " '자녀',\n",
              " '연',\n",
              " '령',\n",
              " '세',\n",
              " '이하',\n",
              " '세',\n",
              " '이하',\n",
              " '교육',\n",
              " '공무원',\n",
              " '법',\n",
              " '제',\n",
              " '항',\n",
              " '제',\n",
              " '중',\n",
              " '교육',\n",
              " '공무원',\n",
              " '육아휴직',\n",
              " '가능',\n",
              " '자녀',\n",
              " '연령',\n",
              " '세',\n",
              " '이하',\n",
              " '세',\n",
              " '이하',\n",
              " '남녀',\n",
              " '고용',\n",
              " '평등',\n",
              " '일',\n",
              " '가정',\n",
              " '양립',\n",
              " '지원',\n",
              " '관',\n",
              " '법률',\n",
              " '제',\n",
              " '항',\n",
              " '중',\n",
              " '근로자',\n",
              " '육아휴직',\n",
              " '가능',\n",
              " '자녀',\n",
              " '연령',\n",
              " '세',\n",
              " '이하',\n",
              " '세',\n",
              " '이하',\n",
              " '조정',\n",
              " '함',\n",
              " '추가',\n",
              " '재정',\n",
              " '요가',\n",
              " '예상',\n",
              " '첨부',\n",
              " '근거',\n",
              " '규정',\n",
              " '의안',\n",
              " '비용',\n",
              " '추계',\n",
              " '관',\n",
              " '규칙',\n",
              " '제',\n",
              " '항',\n",
              " '단서',\n",
              " '중',\n",
              " '제',\n",
              " '예상',\n",
              " '비용',\n",
              " '평균',\n",
              " '미만',\n",
              " '거나',\n",
              " '한시',\n",
              " '경비',\n",
              " '로서',\n",
              " '총',\n",
              " '미만',\n",
              " '경우',\n",
              " '해당',\n",
              " '함',\n",
              " '첨부',\n",
              " '사유',\n",
              " '개정안',\n",
              " '국가',\n",
              " '지방',\n",
              " '교육',\n",
              " '공무원',\n",
              " '및',\n",
              " '근로자',\n",
              " '육아휴직',\n",
              " '신청',\n",
              " '수',\n",
              " '자녀',\n",
              " '연령',\n",
              " '세',\n",
              " '이하',\n",
              " '세',\n",
              " '이하',\n",
              " '상향',\n",
              " '조정',\n",
              " '함',\n",
              " '추가',\n",
              " '재정',\n",
              " '요가',\n",
              " '예상',\n",
              " '법률',\n",
              " '개정안',\n",
              " '시행',\n",
              " '고',\n",
              " '가정',\n",
              " '경우',\n",
              " '현재',\n",
              " '자녀',\n",
              " '연령',\n",
              " '세이',\n",
              " '육아휴직',\n",
              " '신청',\n",
              " '국가',\n",
              " '지방',\n",
              " '교육',\n",
              " '공무원',\n",
              " '및',\n",
              " '근로자',\n",
              " '대상',\n",
              " '대상',\n",
              " '연령',\n",
              " '확대',\n",
              " '육아휴직',\n",
              " '신청',\n",
              " '수가',\n",
              " '정도',\n",
              " '것',\n",
              " '예상',\n",
              " '경우',\n",
              " '발생',\n",
              " '비용',\n",
              " '현행법',\n",
              " '월',\n",
              " '이나',\n",
              " '현재',\n",
              " '관련',\n",
              " '법령',\n",
              " '개정',\n",
              " '추진',\n",
              " '육아휴직',\n",
              " '지급',\n",
              " '월급',\n",
              " '액',\n",
              " '비례',\n",
              " '육아휴직',\n",
              " '여가',\n",
              " '지급',\n",
              " '기',\n",
              " '때문',\n",
              " '법령',\n",
              " '개정',\n",
              " '가정',\n",
              " '추계',\n",
              " '경우',\n",
              " '육아휴직',\n",
              " '급여',\n",
              " '액',\n",
              " '육아휴직',\n",
              " '지급',\n",
              " '월급',\n",
              " '여의',\n",
              " '해당',\n",
              " '육아휴직',\n",
              " '발생',\n",
              " '경우',\n",
              " '발생',\n",
              " '비용',\n",
              " '체인',\n",
              " '고용',\n",
              " '인건비',\n",
              " '육아휴직',\n",
              " '월급',\n",
              " '액',\n",
              " '대비',\n",
              " '육아휴직',\n",
              " '지급',\n",
              " '임금',\n",
              " '더',\n",
              " '이상',\n",
              " '발생',\n",
              " '따라서',\n",
              " '실제',\n",
              " '발생',\n",
              " '비용',\n",
              " '육',\n",
              " '휴직',\n",
              " '지급',\n",
              " '월',\n",
              " '급여',\n",
              " '액',\n",
              " '연령',\n",
              " '확대',\n",
              " '발생',\n",
              " '비용',\n",
              " '인',\n",
              " '육아휴직',\n",
              " '월급',\n",
              " '액',\n",
              " '체인',\n",
              " '고용',\n",
              " '인건비',\n",
              " '차',\n",
              " '액',\n",
              " '값',\n",
              " '추가',\n",
              " '재정',\n",
              " '소요',\n",
              " '발생',\n",
              " '볼',\n",
              " '수',\n",
              " '추가',\n",
              " '비용',\n",
              " '발생',\n",
              " '여부',\n",
              " '위',\n",
              " '비용',\n",
              " '대한',\n",
              " '리모',\n",
              " '델',\n",
              " '비용',\n",
              " '발생',\n",
              " '여부',\n",
              " '하자',\n",
              " '모델',\n",
              " '사',\n",
              " '용',\n",
              " '변수',\n",
              " '다음',\n",
              " '정의',\n",
              " '발생',\n",
              " '비용',\n",
              " '육아휴직',\n",
              " '액',\n",
              " '육아휴직',\n",
              " '대상자',\n",
              " '수',\n",
              " '육아휴직',\n",
              " '대상자',\n",
              " '월급',\n",
              " '액',\n",
              " '육아휴직',\n",
              " '발생',\n",
              " '경우',\n",
              " '대체',\n",
              " '고용',\n",
              " '확률',\n",
              " '대체',\n",
              " '고용',\n",
              " '인력',\n",
              " '지급',\n",
              " '월급',\n",
              " '액',\n",
              " '위',\n",
              " '수식',\n",
              " '육아휴직',\n",
              " '액',\n",
              " '육아휴직',\n",
              " '월급',\n",
              " '액',\n",
              " '예정',\n",
              " '므',\n",
              " '육아휴직',\n",
              " '액',\n",
              " '육아휴직',\n",
              " '발생',\n",
              " '경우',\n",
              " '대체',\n",
              " '고용',\n",
              " '확률',\n",
              " '고용노동부',\n",
              " '육아휴직',\n",
              " '관련',\n",
              " '자료',\n",
              " '이용',\n",
              " '고용노동부',\n",
              " '경우',\n",
              " '육아휴직',\n",
              " '급여',\n",
              " '대상자',\n",
              " '명',\n",
              " '육아휴직',\n",
              " '체인',\n",
              " '고용',\n",
              " '상인',\n",
              " '명',\n",
              " '현황',\n",
              " '정리',\n",
              " '다음',\n",
              " '표',\n",
              " '표',\n",
              " '육아휴직',\n",
              " '급여',\n",
              " '수급',\n",
              " '수',\n",
              " '및',\n",
              " '체인',\n",
              " '고용',\n",
              " '현황',\n",
              " '단위',\n",
              " '명',\n",
              " '평균',\n",
              " '육아휴직',\n",
              " '급여',\n",
              " '수급',\n",
              " '체인',\n",
              " '채용',\n",
              " '비',\n",
              " '율',\n",
              " '자료',\n",
              " '고용노동부',\n",
              " '자료',\n",
              " '바탕',\n",
              " '국회예산정책처',\n",
              " '작성',\n",
              " '위',\n",
              " '표',\n",
              " '자료',\n",
              " '육아휴직',\n",
              " '발생',\n",
              " '경우',\n",
              " '대체',\n",
              " '고용',\n",
              " '확률',\n",
              " '값',\n",
              " '가정',\n",
              " '비용',\n",
              " '발생',\n",
              " '가정',\n",
              " '위',\n",
              " '수식',\n",
              " '다시',\n",
              " '작성',\n",
              " '다음',\n",
              " '수식',\n",
              " '육아휴직',\n",
              " '액',\n",
              " '위',\n",
              " '수식',\n",
              " '육아휴직',\n",
              " '월',\n",
              " '급여',\n",
              " '액',\n",
              " '대입',\n",
              " '대체',\n",
              " '고용',\n",
              " '인력',\n",
              " '지급',\n",
              " '월',\n",
              " '급여',\n",
              " '액',\n",
              " '추정',\n",
              " '육아휴직',\n",
              " '월',\n",
              " '원',\n",
              " '가정',\n",
              " '대체',\n",
              " '고용',\n",
              " '인력',\n",
              " '육아휴직',\n",
              " '월',\n",
              " '급여',\n",
              " '액',\n",
              " '배',\n",
              " '달',\n",
              " '월',\n",
              " '이상',\n",
              " '지급',\n",
              " '추가',\n",
              " '비용',\n",
              " '발생',\n",
              " '대체',\n",
              " '고용',\n",
              " '인력',\n",
              " '육아휴직',\n",
              " '더',\n",
              " '월급',\n",
              " '액',\n",
              " '주지',\n",
              " '것',\n",
              " '배',\n",
              " '이상',\n",
              " '월급',\n",
              " '주지',\n",
              " '것',\n",
              " '이기',\n",
              " '때문',\n",
              " '추가',\n",
              " '비용',\n",
              " '발생',\n",
              " '보기',\n",
              " '위',\n",
              " '수식',\n",
              " '체인',\n",
              " '고용',\n",
              " '확률',\n",
              " '가정',\n",
              " '경우',\n",
              " '육아휴직',\n",
              " '체인',\n",
              " '월',\n",
              " '이상',\n",
              " '지급',\n",
              " '추가',\n",
              " '비용',\n",
              " '발생',\n",
              " '행정안전부',\n",
              " '통계',\n",
              " '자료',\n",
              " '행정안전부',\n",
              " '통계',\n",
              " '연감',\n",
              " '지방',\n",
              " '공무원',\n",
              " '육',\n",
              " '휴직',\n",
              " '현황',\n",
              " '자료',\n",
              " '여기',\n",
              " '육아휴직',\n",
              " '발생',\n",
              " '경우',\n",
              " '체인',\n",
              " '주로',\n",
              " '임용',\n",
              " '기자',\n",
              " '일용직',\n",
              " '활용',\n",
              " '것',\n",
              " '따라서',\n",
              " '공무원',\n",
              " '경우',\n",
              " '표',\n",
              " '기업체',\n",
              " '체인',\n",
              " '고용',\n",
              " '확률',\n",
              " '것',\n",
              " '이상',\n",
              " '논의',\n",
              " '바탕',\n",
              " '육아휴직',\n",
              " '기간',\n",
              " '세로',\n",
              " '연장',\n",
              " '도',\n",
              " '법률',\n",
              " '개정',\n",
              " '추가',\n",
              " '비용',\n",
              " '발생',\n",
              " '것',\n",
              " '예상',\n",
              " '작성자',\n",
              " '국회예산정책처',\n",
              " '법안',\n",
              " '비용',\n",
              " '추계',\n",
              " '팀',\n",
              " '팀',\n",
              " '장',\n",
              " '정',\n",
              " '문',\n",
              " '종',\n",
              " '예산',\n",
              " '분석관',\n",
              " '김',\n",
              " '태',\n",
              " '완']"
            ]
          },
          "metadata": {},
          "execution_count": 12
        }
      ]
    },
    {
      "cell_type": "code",
      "source": [
        "# 다시 시각화\n",
        "ko = nltk.Text(ko)\n",
        "\n",
        "plt.figure(figsize=(12, 6))\n",
        "plt.rc('font', family='NanumBarunGothic')\n",
        "ko.plot(50)\n",
        "plt.show()"
      ],
      "metadata": {
        "colab": {
          "base_uri": "https://localhost:8080/",
          "height": 0
        },
        "id": "QnAlYk8xZGrr",
        "outputId": "47819f86-8fb1-4dfd-9877-d0bd3500dc16"
      },
      "execution_count": 13,
      "outputs": [
        {
          "output_type": "display_data",
          "data": {
            "text/plain": [
              "<Figure size 864x432 with 1 Axes>"
            ],
            "image/png": "[encoded data removed]"
          },
          "metadata": {
            "needs_background": "light"
          }
        }
      ]
    },
    {
      "cell_type": "code",
      "source": [
        "# nltk.Text 클래스의 다양한 기능\n",
        "\n",
        "# 카운트트\n",
        "ko.count('육아휴직')"
      ],
      "metadata": {
        "colab": {
          "base_uri": "https://localhost:8080/"
        },
        "id": "Vy4LWwNsamNw",
        "outputId": "eb9d78f8-7112-4ce5-d3b9-46b6efa8d35a"
      },
      "execution_count": 14,
      "outputs": [
        {
          "output_type": "execute_result",
          "data": {
            "text/plain": [
              "38"
            ]
          },
          "metadata": {},
          "execution_count": 14
        }
      ]
    },
    {
      "cell_type": "code",
      "source": [
        "# 단어 위치 시각화화\n",
        "ko.dispersion_plot(['육아휴직', '공무원'])"
      ],
      "metadata": {
        "colab": {
          "base_uri": "https://localhost:8080/",
          "height": 0
        },
        "id": "Loyj8f_4a4Gn",
        "outputId": "7301f272-ef97-47e7-ee5f-16ff109ce6c5"
      },
      "execution_count": 15,
      "outputs": [
        {
          "output_type": "display_data",
          "data": {
            "text/plain": [
              "<Figure size 432x288 with 1 Axes>"
            ],
            "image/png": "[encoded data removed]"
          },
          "metadata": {
            "needs_background": "light"
          }
        }
      ]
    },
    {
      "cell_type": "code",
      "source": [
        "# 주변 단어 파악\n",
        "ko.concordance('육아휴직')"
      ],
      "metadata": {
        "colab": {
          "base_uri": "https://localhost:8080/"
        },
        "id": "8jHyaXonbIpg",
        "outputId": "8211010a-cd91-4d3f-9df1-c64112e1915a"
      },
      "execution_count": 16,
      "outputs": [
        {
          "output_type": "stream",
          "name": "stdout",
          "text": [
            "Displaying 25 of 38 matches:\n",
            "학교 저학년 경우 부모 사랑 필요 나이 현재 공무원 자녀 양육 위 육아휴직 수 자녀 나이 세 이하 초등학교 저학년 자녀 위 해당 부모님 일자\n",
            " 위 해당 부모님 일자리 곧 출산 의욕 저하 문제 수 것임 따라서 육아휴직 자녀 연령 세 이하 개정 것임 제 항제 법률 제 지방공무원법 일부\n",
            "자녀 연령 세 이하 세 이하 방공 무 법 제 항제 중 지방 공무원 육아휴직 가능 자녀 연 령 세 이하 세 이하 교육 공무원 법 제 항 제 중\n",
            " 령 세 이하 세 이하 교육 공무원 법 제 항 제 중 교육 공무원 육아휴직 가능 자녀 연령 세 이하 세 이하 남녀 고용 평등 일 가정 양립 \n",
            "하 남녀 고용 평등 일 가정 양립 지원 관 법률 제 항 중 근로자 육아휴직 가능 자녀 연령 세 이하 세 이하 조정 함 추가 재정 요가 예상 \n",
            "경우 해당 함 첨부 사유 개정안 국가 지방 교육 공무원 및 근로자 육아휴직 신청 수 자녀 연령 세 이하 세 이하 상향 조정 함 추가 재정 요\n",
            " 요가 예상 법률 개정안 시행 고 가정 경우 현재 자녀 연령 세이 육아휴직 신청 국가 지방 교육 공무원 및 근로자 대상 대상 연령 확대 육아\n",
            "휴직 신청 국가 지방 교육 공무원 및 근로자 대상 대상 연령 확대 육아휴직 신청 수가 정도 것 예상 경우 발생 비용 현행법 월 이나 현재 관\n",
            " 예상 경우 발생 비용 현행법 월 이나 현재 관련 법령 개정 추진 육아휴직 지급 월급 액 비례 육아휴직 여가 지급 기 때문 법령 개정 가정 \n",
            " 월 이나 현재 관련 법령 개정 추진 육아휴직 지급 월급 액 비례 육아휴직 여가 지급 기 때문 법령 개정 가정 추계 경우 육아휴직 급여 액 \n",
            " 액 비례 육아휴직 여가 지급 기 때문 법령 개정 가정 추계 경우 육아휴직 급여 액 육아휴직 지급 월급 여의 해당 육아휴직 발생 경우 발생 \n",
            " 여가 지급 기 때문 법령 개정 가정 추계 경우 육아휴직 급여 액 육아휴직 지급 월급 여의 해당 육아휴직 발생 경우 발생 비용 체인 고용 인\n",
            " 가정 추계 경우 육아휴직 급여 액 육아휴직 지급 월급 여의 해당 육아휴직 발생 경우 발생 비용 체인 고용 인건비 육아휴직 월급 액 대비 육\n",
            " 월급 여의 해당 육아휴직 발생 경우 발생 비용 체인 고용 인건비 육아휴직 월급 액 대비 육아휴직 지급 임금 더 이상 발생 따라서 실제 발생\n",
            "직 발생 경우 발생 비용 체인 고용 인건비 육아휴직 월급 액 대비 육아휴직 지급 임금 더 이상 발생 따라서 실제 발생 비용 육 휴직 지급 월\n",
            "제 발생 비용 육 휴직 지급 월 급여 액 연령 확대 발생 비용 인 육아휴직 월급 액 체인 고용 인건비 차 액 값 추가 재정 소요 발생 볼 수\n",
            " 델 비용 발생 여부 하자 모델 사 용 변수 다음 정의 발생 비용 육아휴직 액 육아휴직 대상자 수 육아휴직 대상자 월급 액 육아휴직 발생 경\n",
            "생 여부 하자 모델 사 용 변수 다음 정의 발생 비용 육아휴직 액 육아휴직 대상자 수 육아휴직 대상자 월급 액 육아휴직 발생 경우 대체 고용\n",
            "사 용 변수 다음 정의 발생 비용 육아휴직 액 육아휴직 대상자 수 육아휴직 대상자 월급 액 육아휴직 발생 경우 대체 고용 확률 대체 고용 인\n",
            "생 비용 육아휴직 액 육아휴직 대상자 수 육아휴직 대상자 월급 액 육아휴직 발생 경우 대체 고용 확률 대체 고용 인력 지급 월급 액 위 수식\n",
            "발생 경우 대체 고용 확률 대체 고용 인력 지급 월급 액 위 수식 육아휴직 액 육아휴직 월급 액 예정 므 육아휴직 액 육아휴직 발생 경우 대\n",
            "체 고용 확률 대체 고용 인력 지급 월급 액 위 수식 육아휴직 액 육아휴직 월급 액 예정 므 육아휴직 액 육아휴직 발생 경우 대체 고용 확률\n",
            "력 지급 월급 액 위 수식 육아휴직 액 육아휴직 월급 액 예정 므 육아휴직 액 육아휴직 발생 경우 대체 고용 확률 고용노동부 육아휴직 관련 \n",
            " 액 위 수식 육아휴직 액 육아휴직 월급 액 예정 므 육아휴직 액 육아휴직 발생 경우 대체 고용 확률 고용노동부 육아휴직 관련 자료 이용 고\n",
            "정 므 육아휴직 액 육아휴직 발생 경우 대체 고용 확률 고용노동부 육아휴직 관련 자료 이용 고용노동부 경우 육아휴직 급여 대상자 명 육아휴직\n"
          ]
        }
      ]
    },
    {
      "cell_type": "code",
      "source": [
        "# 워드 클라우드 생성\n",
        "from wordcloud import WordCloud\n",
        "data = ko.vocab().most_common(200)\n",
        "\n",
        "plt.rc('font', family='NanumBarunGothic')\n",
        "wordcloud = WordCloud(relative_scaling=0.2,\n",
        "                      font_path='/usr/share/fonts/truetype/nanum/NanumGothic.ttf').generate_from_frequencies(dict(data))\n",
        "plt.imshow(wordcloud)\n",
        "plt.show()"
      ],
      "metadata": {
        "colab": {
          "base_uri": "https://localhost:8080/",
          "height": 0
        },
        "id": "qgP4L-g0bQTn",
        "outputId": "50a7c767-3fbc-4a5b-c525-595b260f2471"
      },
      "execution_count": 17,
      "outputs": [
        {
          "output_type": "display_data",
          "data": {
            "text/plain": [
              "<Figure size 432x288 with 1 Axes>"
            ],
            "image/png": "[encoded data removed]"
          },
          "metadata": {
            "needs_background": "light"
          }
        }
      ]
    },
    {
      "cell_type": "markdown",
      "source": [],
      "metadata": {
        "id": "3hoOfc_s_AD0"
      }
    },
    {
      "cell_type": "code",
      "source": [
        "#생략"
      ],
      "metadata": {
        "id": "9s5byjTUc6ZR"
      },
      "execution_count": 18,
      "outputs": []
    },
    {
      "cell_type": "markdown",
      "source": [
        "# 문장의 유사도\n",
        "텍스트를 벡터로 변환하여 벡터 간 유사성을 파악한다  \n",
        "___\n",
        "\n",
        "### 대중적인 벡터화 툴\n",
        "1. sklearn bag of words model\n",
        "2. TF-IDF\n",
        "\n",
        "___\n",
        "### 학습목표\n",
        "1. 문서를 벡터로 변환하는 방법을 이해한다  \n",
        "2. 상황에 맞게 적절한 벡터화 방법을 선택한다  "
      ],
      "metadata": {
        "id": "dgaaKniyd9z2"
      }
    },
    {
      "cell_type": "markdown",
      "source": [
        "## 원핫 벡터화와 유사도 "
      ],
      "metadata": {
        "id": "4RxxBcM889wQ"
      }
    },
    {
      "cell_type": "code",
      "source": [
        "# 첫 번째 벡터화: 어휘 단순 열거하기 \n",
        "\n",
        "#예시 문장\n",
        "sentences = ['It was the best of times',\n",
        "             'it was the worst of times',\n",
        "             'it was the age of wisdom',\n",
        "             'it was the age of foolishness']\n",
        "\n",
        "# 띄어쓰기로 토큰화 \n",
        "tokenized_sentences = [[t for t in sentence.split()]for sentence in sentences]\n",
        "tokenized_sentences"
      ],
      "metadata": {
        "colab": {
          "base_uri": "https://localhost:8080/"
        },
        "id": "bCChWDmWeBF_",
        "outputId": "9208b26c-a38c-4314-85c4-285155312c98"
      },
      "execution_count": 19,
      "outputs": [
        {
          "output_type": "execute_result",
          "data": {
            "text/plain": [
              "[['It', 'was', 'the', 'best', 'of', 'times'],\n",
              " ['it', 'was', 'the', 'worst', 'of', 'times'],\n",
              " ['it', 'was', 'the', 'age', 'of', 'wisdom'],\n",
              " ['it', 'was', 'the', 'age', 'of', 'foolishness']]"
            ]
          },
          "metadata": {},
          "execution_count": 19
        }
      ]
    },
    {
      "cell_type": "code",
      "source": [
        "# 중복을 제거한 전체 단어사전\n",
        "vocabulary = set([w for s in tokenized_sentences for w in s])\n",
        "vocabulary"
      ],
      "metadata": {
        "colab": {
          "base_uri": "https://localhost:8080/"
        },
        "id": "2oG1iET1hWnT",
        "outputId": "05c0d15b-3815-4c4b-d61f-99a2c1e95399"
      },
      "execution_count": 20,
      "outputs": [
        {
          "output_type": "execute_result",
          "data": {
            "text/plain": [
              "{'It',\n",
              " 'age',\n",
              " 'best',\n",
              " 'foolishness',\n",
              " 'it',\n",
              " 'of',\n",
              " 'the',\n",
              " 'times',\n",
              " 'was',\n",
              " 'wisdom',\n",
              " 'worst'}"
            ]
          },
          "metadata": {},
          "execution_count": 20
        }
      ]
    },
    {
      "cell_type": "code",
      "source": [
        "# enumerate를 이용한 pd.DataFrame으로 단순 열거\n",
        "\n",
        "import pandas as pd\n",
        "import numpy as np\n",
        "pd.DataFrame([[w, i]for i, w in enumerate(vocabulary)])"
      ],
      "metadata": {
        "colab": {
          "base_uri": "https://localhost:8080/",
          "height": 0
        },
        "id": "gwA8UO24yiZD",
        "outputId": "a955d406-25ba-4256-d78d-9b9fe8220030"
      },
      "execution_count": 21,
      "outputs": [
        {
          "output_type": "execute_result",
          "data": {
            "text/plain": [
              "              0   1\n",
              "0         worst   0\n",
              "1          best   1\n",
              "2            of   2\n",
              "3           the   3\n",
              "4        wisdom   4\n",
              "5   foolishness   5\n",
              "6           was   6\n",
              "7            it   7\n",
              "8            It   8\n",
              "9         times   9\n",
              "10          age  10"
            ],
            "text/html": [
              "\n",
              "  <div id=\"df-1375f7f7-e2a7-4715-aa43-2a5eb92f405d\">\n",
              "    <div class=\"colab-df-container\">\n",
              "      <div>\n",
              "<style scoped>\n",
              "    .dataframe tbody tr th:only-of-type {\n",
              "        vertical-align: middle;\n",
              "    }\n",
              "\n",
              "    .dataframe tbody tr th {\n",
              "        vertical-align: top;\n",
              "    }\n",
              "\n",
              "    .dataframe thead th {\n",
              "        text-align: right;\n",
              "    }\n",
              "</style>\n",
              "<table border=\"1\" class=\"dataframe\">\n",
              "  <thead>\n",
              "    <tr style=\"text-align: right;\">\n",
              "      <th></th>\n",
              "      <th>0</th>\n",
              "      <th>1</th>\n",
              "    </tr>\n",
              "  </thead>\n",
              "  <tbody>\n",
              "    <tr>\n",
              "      <th>0</th>\n",
              "      <td>worst</td>\n",
              "      <td>0</td>\n",
              "    </tr>\n",
              "    <tr>\n",
              "      <th>1</th>\n",
              "      <td>best</td>\n",
              "      <td>1</td>\n",
              "    </tr>\n",
              "    <tr>\n",
              "      <th>2</th>\n",
              "      <td>of</td>\n",
              "      <td>2</td>\n",
              "    </tr>\n",
              "    <tr>\n",
              "      <th>3</th>\n",
              "      <td>the</td>\n",
              "      <td>3</td>\n",
              "    </tr>\n",
              "    <tr>\n",
              "      <th>4</th>\n",
              "      <td>wisdom</td>\n",
              "      <td>4</td>\n",
              "    </tr>\n",
              "    <tr>\n",
              "      <th>5</th>\n",
              "      <td>foolishness</td>\n",
              "      <td>5</td>\n",
              "    </tr>\n",
              "    <tr>\n",
              "      <th>6</th>\n",
              "      <td>was</td>\n",
              "      <td>6</td>\n",
              "    </tr>\n",
              "    <tr>\n",
              "      <th>7</th>\n",
              "      <td>it</td>\n",
              "      <td>7</td>\n",
              "    </tr>\n",
              "    <tr>\n",
              "      <th>8</th>\n",
              "      <td>It</td>\n",
              "      <td>8</td>\n",
              "    </tr>\n",
              "    <tr>\n",
              "      <th>9</th>\n",
              "      <td>times</td>\n",
              "      <td>9</td>\n",
              "    </tr>\n",
              "    <tr>\n",
              "      <th>10</th>\n",
              "      <td>age</td>\n",
              "      <td>10</td>\n",
              "    </tr>\n",
              "  </tbody>\n",
              "</table>\n",
              "</div>\n",
              "      <button class=\"colab-df-convert\" onclick=\"convertToInteractive('df-1375f7f7-e2a7-4715-aa43-2a5eb92f405d')\"\n",
              "              title=\"Convert this dataframe to an interactive table.\"\n",
              "              style=\"display:none;\">\n",
              "        \n",
              "  <svg xmlns=\"http://www.w3.org/2000/svg\" height=\"24px\"viewBox=\"0 0 24 24\"\n",
              "       width=\"24px\">\n",
              "    <path d=\"M0 0h24v24H0V0z\" fill=\"none\"/>\n",
              "    <path d=\"M18.56 5.44l.94 2.06.94-2.06 2.06-.94-2.06-.94-.94-2.06-.94 2.06-2.06.94zm-11 1L8.5 8.5l.94-2.06 2.06-.94-2.06-.94L8.5 2.5l-.94 2.06-2.06.94zm10 10l.94 2.06.94-2.06 2.06-.94-2.06-.94-.94-2.06-.94 2.06-2.06.94z\"/><path d=\"M17.41 7.96l-1.37-1.37c-.4-.4-.92-.59-1.43-.59-.52 0-1.04.2-1.43.59L10.3 9.45l-7.72 7.72c-.78.78-.78 2.05 0 2.83L4 21.41c.39.39.9.59 1.41.59.51 0 1.02-.2 1.41-.59l7.78-7.78 2.81-2.81c.8-.78.8-2.07 0-2.86zM5.41 20L4 18.59l7.72-7.72 1.47 1.35L5.41 20z\"/>\n",
              "  </svg>\n",
              "      </button>\n",
              "      \n",
              "  <style>\n",
              "    .colab-df-container {\n",
              "      display:flex;\n",
              "      flex-wrap:wrap;\n",
              "      gap: 12px;\n",
              "    }\n",
              "\n",
              "    .colab-df-convert {\n",
              "      background-color: #E8F0FE;\n",
              "      border: none;\n",
              "      border-radius: 50%;\n",
              "      cursor: pointer;\n",
              "      display: none;\n",
              "      fill: #1967D2;\n",
              "      height: 32px;\n",
              "      padding: 0 0 0 0;\n",
              "      width: 32px;\n",
              "    }\n",
              "\n",
              "    .colab-df-convert:hover {\n",
              "      background-color: #E2EBFA;\n",
              "      box-shadow: 0px 1px 2px rgba(60, 64, 67, 0.3), 0px 1px 3px 1px rgba(60, 64, 67, 0.15);\n",
              "      fill: #174EA6;\n",
              "    }\n",
              "\n",
              "    [theme=dark] .colab-df-convert {\n",
              "      background-color: #3B4455;\n",
              "      fill: #D2E3FC;\n",
              "    }\n",
              "\n",
              "    [theme=dark] .colab-df-convert:hover {\n",
              "      background-color: #434B5C;\n",
              "      box-shadow: 0px 1px 3px 1px rgba(0, 0, 0, 0.15);\n",
              "      filter: drop-shadow(0px 1px 2px rgba(0, 0, 0, 0.3));\n",
              "      fill: #FFFFFF;\n",
              "    }\n",
              "  </style>\n",
              "\n",
              "      <script>\n",
              "        const buttonEl =\n",
              "          document.querySelector('#df-1375f7f7-e2a7-4715-aa43-2a5eb92f405d button.colab-df-convert');\n",
              "        buttonEl.style.display =\n",
              "          google.colab.kernel.accessAllowed ? 'block' : 'none';\n",
              "\n",
              "        async function convertToInteractive(key) {\n",
              "          const element = document.querySelector('#df-1375f7f7-e2a7-4715-aa43-2a5eb92f405d');\n",
              "          const dataTable =\n",
              "            await google.colab.kernel.invokeFunction('convertToInteractive',\n",
              "                                                     [key], {});\n",
              "          if (!dataTable) return;\n",
              "\n",
              "          const docLinkHtml = 'Like what you see? Visit the ' +\n",
              "            '<a target=\"_blank\" href=https://colab.research.google.com/notebooks/data_table.ipynb>data table notebook</a>'\n",
              "            + ' to learn more about interactive tables.';\n",
              "          element.innerHTML = '';\n",
              "          dataTable['output_type'] = 'display_data';\n",
              "          await google.colab.output.renderOutput(dataTable, element);\n",
              "          const docLink = document.createElement('div');\n",
              "          docLink.innerHTML = docLinkHtml;\n",
              "          element.appendChild(docLink);\n",
              "        }\n",
              "      </script>\n",
              "    </div>\n",
              "  </div>\n",
              "  "
            ]
          },
          "metadata": {},
          "execution_count": 21
        }
      ]
    },
    {
      "cell_type": "code",
      "source": [
        "# 두 번째 벡터화: 원-핫 인코딩을 이용한 문서 벡터화\n",
        "def onehot_encode(tokenized_sentence, vocabulary):\n",
        "  return [1 if w in tokenized_sentence else 0 for w in vocabulary]\n",
        "\n",
        "onehot = [onehot_encode(tokenized_sentence, vocabulary) for tokenized_sentence in tokenized_sentences]\n",
        "onehot"
      ],
      "metadata": {
        "colab": {
          "base_uri": "https://localhost:8080/"
        },
        "id": "1fjYY11ay1HB",
        "outputId": "f17ee36d-9129-4001-be84-ca9e1ae3b4c4"
      },
      "execution_count": 157,
      "outputs": [
        {
          "output_type": "execute_result",
          "data": {
            "text/plain": [
              "[[0, 1, 1, 1, 0, 0, 1, 0, 1, 1, 0],\n",
              " [1, 0, 1, 1, 0, 0, 1, 1, 0, 1, 0],\n",
              " [0, 0, 1, 1, 1, 0, 1, 1, 0, 0, 1],\n",
              " [0, 0, 1, 1, 0, 1, 1, 1, 0, 0, 1]]"
            ]
          },
          "metadata": {},
          "execution_count": 157
        }
      ]
    },
    {
      "cell_type": "code",
      "source": [
        "for (sentence, oh) in zip(sentences, onehot):\n",
        "  print('%s: %s' % (oh, sentence))"
      ],
      "metadata": {
        "colab": {
          "base_uri": "https://localhost:8080/"
        },
        "id": "fAVikJod_aDo",
        "outputId": "30cf87da-a26e-4f9f-a55c-1cc694fad879"
      },
      "execution_count": 23,
      "outputs": [
        {
          "output_type": "stream",
          "name": "stdout",
          "text": [
            "[0, 1, 1, 1, 0, 0, 1, 0, 1, 1, 0]: It was the best of times\n",
            "[1, 0, 1, 1, 0, 0, 1, 1, 0, 1, 0]: it was the worst of times\n",
            "[0, 0, 1, 1, 1, 0, 1, 1, 0, 0, 1]: it was the age of wisdom\n",
            "[0, 0, 1, 1, 0, 1, 1, 1, 0, 0, 1]: it was the age of foolishness\n"
          ]
        }
      ]
    },
    {
      "cell_type": "code",
      "source": [
        "# 사실 여기서 내적을 통해 바로 유사도를 뽑을 수 있음\n",
        "np.dot(onehot[0], onehot[3]) # 1, 4번 문장의 유사도"
      ],
      "metadata": {
        "colab": {
          "base_uri": "https://localhost:8080/"
        },
        "id": "OxGehqZD_dyo",
        "outputId": "ef30ae87-c3d2-43d1-a859-2830016922ef"
      },
      "execution_count": 24,
      "outputs": [
        {
          "output_type": "execute_result",
          "data": {
            "text/plain": [
              "3"
            ]
          },
          "metadata": {},
          "execution_count": 24
        }
      ]
    },
    {
      "cell_type": "code",
      "source": [
        "# 원핫인코딩 문서벡터화에 새로운 단어를 넣으면?\n",
        "#1. 있는 단어는 1로 인코딩 됨\n",
        "#2. 없는 단어는 0으로 인코딩 됨\n",
        "\n",
        "onehot_encode('It')"
      ],
      "metadata": {
        "colab": {
          "base_uri": "https://localhost:8080/"
        },
        "id": "LTDZV9Eg0QIY",
        "outputId": "cab6da5a-9f7c-4aab-e4bc-126810b5e35b"
      },
      "execution_count": 25,
      "outputs": [
        {
          "output_type": "execute_result",
          "data": {
            "text/plain": [
              "[0, 0, 0, 0, 0, 0, 0, 0, 1, 0, 0]"
            ]
          },
          "metadata": {},
          "execution_count": 25
        }
      ]
    },
    {
      "cell_type": "code",
      "source": [
        "# 문서 단순 열거와 원핫 인코딩을 섞으면 '문서-용어 행렬'\n",
        "pd.DataFrame(onehot, columns=vocabulary)"
      ],
      "metadata": {
        "colab": {
          "base_uri": "https://localhost:8080/",
          "height": 0
        },
        "id": "sj1Os-xs1JSi",
        "outputId": "e0ce1e6e-b2fe-472f-c8a5-d7201869dfc5"
      },
      "execution_count": 26,
      "outputs": [
        {
          "output_type": "execute_result",
          "data": {
            "text/plain": [
              "   worst  best  of  the  wisdom  foolishness  was  it  It  times  age\n",
              "0      0     1   1    1       0            0    1   0   1      1    0\n",
              "1      1     0   1    1       0            0    1   1   0      1    0\n",
              "2      0     0   1    1       1            0    1   1   0      0    1\n",
              "3      0     0   1    1       0            1    1   1   0      0    1"
            ],
            "text/html": [
              "\n",
              "  <div id=\"df-c4489d3c-6185-402a-b853-d5f7a0993f85\">\n",
              "    <div class=\"colab-df-container\">\n",
              "      <div>\n",
              "<style scoped>\n",
              "    .dataframe tbody tr th:only-of-type {\n",
              "        vertical-align: middle;\n",
              "    }\n",
              "\n",
              "    .dataframe tbody tr th {\n",
              "        vertical-align: top;\n",
              "    }\n",
              "\n",
              "    .dataframe thead th {\n",
              "        text-align: right;\n",
              "    }\n",
              "</style>\n",
              "<table border=\"1\" class=\"dataframe\">\n",
              "  <thead>\n",
              "    <tr style=\"text-align: right;\">\n",
              "      <th></th>\n",
              "      <th>worst</th>\n",
              "      <th>best</th>\n",
              "      <th>of</th>\n",
              "      <th>the</th>\n",
              "      <th>wisdom</th>\n",
              "      <th>foolishness</th>\n",
              "      <th>was</th>\n",
              "      <th>it</th>\n",
              "      <th>It</th>\n",
              "      <th>times</th>\n",
              "      <th>age</th>\n",
              "    </tr>\n",
              "  </thead>\n",
              "  <tbody>\n",
              "    <tr>\n",
              "      <th>0</th>\n",
              "      <td>0</td>\n",
              "      <td>1</td>\n",
              "      <td>1</td>\n",
              "      <td>1</td>\n",
              "      <td>0</td>\n",
              "      <td>0</td>\n",
              "      <td>1</td>\n",
              "      <td>0</td>\n",
              "      <td>1</td>\n",
              "      <td>1</td>\n",
              "      <td>0</td>\n",
              "    </tr>\n",
              "    <tr>\n",
              "      <th>1</th>\n",
              "      <td>1</td>\n",
              "      <td>0</td>\n",
              "      <td>1</td>\n",
              "      <td>1</td>\n",
              "      <td>0</td>\n",
              "      <td>0</td>\n",
              "      <td>1</td>\n",
              "      <td>1</td>\n",
              "      <td>0</td>\n",
              "      <td>1</td>\n",
              "      <td>0</td>\n",
              "    </tr>\n",
              "    <tr>\n",
              "      <th>2</th>\n",
              "      <td>0</td>\n",
              "      <td>0</td>\n",
              "      <td>1</td>\n",
              "      <td>1</td>\n",
              "      <td>1</td>\n",
              "      <td>0</td>\n",
              "      <td>1</td>\n",
              "      <td>1</td>\n",
              "      <td>0</td>\n",
              "      <td>0</td>\n",
              "      <td>1</td>\n",
              "    </tr>\n",
              "    <tr>\n",
              "      <th>3</th>\n",
              "      <td>0</td>\n",
              "      <td>0</td>\n",
              "      <td>1</td>\n",
              "      <td>1</td>\n",
              "      <td>0</td>\n",
              "      <td>1</td>\n",
              "      <td>1</td>\n",
              "      <td>1</td>\n",
              "      <td>0</td>\n",
              "      <td>0</td>\n",
              "      <td>1</td>\n",
              "    </tr>\n",
              "  </tbody>\n",
              "</table>\n",
              "</div>\n",
              "      <button class=\"colab-df-convert\" onclick=\"convertToInteractive('df-c4489d3c-6185-402a-b853-d5f7a0993f85')\"\n",
              "              title=\"Convert this dataframe to an interactive table.\"\n",
              "              style=\"display:none;\">\n",
              "        \n",
              "  <svg xmlns=\"http://www.w3.org/2000/svg\" height=\"24px\"viewBox=\"0 0 24 24\"\n",
              "       width=\"24px\">\n",
              "    <path d=\"M0 0h24v24H0V0z\" fill=\"none\"/>\n",
              "    <path d=\"M18.56 5.44l.94 2.06.94-2.06 2.06-.94-2.06-.94-.94-2.06-.94 2.06-2.06.94zm-11 1L8.5 8.5l.94-2.06 2.06-.94-2.06-.94L8.5 2.5l-.94 2.06-2.06.94zm10 10l.94 2.06.94-2.06 2.06-.94-2.06-.94-.94-2.06-.94 2.06-2.06.94z\"/><path d=\"M17.41 7.96l-1.37-1.37c-.4-.4-.92-.59-1.43-.59-.52 0-1.04.2-1.43.59L10.3 9.45l-7.72 7.72c-.78.78-.78 2.05 0 2.83L4 21.41c.39.39.9.59 1.41.59.51 0 1.02-.2 1.41-.59l7.78-7.78 2.81-2.81c.8-.78.8-2.07 0-2.86zM5.41 20L4 18.59l7.72-7.72 1.47 1.35L5.41 20z\"/>\n",
              "  </svg>\n",
              "      </button>\n",
              "      \n",
              "  <style>\n",
              "    .colab-df-container {\n",
              "      display:flex;\n",
              "      flex-wrap:wrap;\n",
              "      gap: 12px;\n",
              "    }\n",
              "\n",
              "    .colab-df-convert {\n",
              "      background-color: #E8F0FE;\n",
              "      border: none;\n",
              "      border-radius: 50%;\n",
              "      cursor: pointer;\n",
              "      display: none;\n",
              "      fill: #1967D2;\n",
              "      height: 32px;\n",
              "      padding: 0 0 0 0;\n",
              "      width: 32px;\n",
              "    }\n",
              "\n",
              "    .colab-df-convert:hover {\n",
              "      background-color: #E2EBFA;\n",
              "      box-shadow: 0px 1px 2px rgba(60, 64, 67, 0.3), 0px 1px 3px 1px rgba(60, 64, 67, 0.15);\n",
              "      fill: #174EA6;\n",
              "    }\n",
              "\n",
              "    [theme=dark] .colab-df-convert {\n",
              "      background-color: #3B4455;\n",
              "      fill: #D2E3FC;\n",
              "    }\n",
              "\n",
              "    [theme=dark] .colab-df-convert:hover {\n",
              "      background-color: #434B5C;\n",
              "      box-shadow: 0px 1px 3px 1px rgba(0, 0, 0, 0.15);\n",
              "      filter: drop-shadow(0px 1px 2px rgba(0, 0, 0, 0.3));\n",
              "      fill: #FFFFFF;\n",
              "    }\n",
              "  </style>\n",
              "\n",
              "      <script>\n",
              "        const buttonEl =\n",
              "          document.querySelector('#df-c4489d3c-6185-402a-b853-d5f7a0993f85 button.colab-df-convert');\n",
              "        buttonEl.style.display =\n",
              "          google.colab.kernel.accessAllowed ? 'block' : 'none';\n",
              "\n",
              "        async function convertToInteractive(key) {\n",
              "          const element = document.querySelector('#df-c4489d3c-6185-402a-b853-d5f7a0993f85');\n",
              "          const dataTable =\n",
              "            await google.colab.kernel.invokeFunction('convertToInteractive',\n",
              "                                                     [key], {});\n",
              "          if (!dataTable) return;\n",
              "\n",
              "          const docLinkHtml = 'Like what you see? Visit the ' +\n",
              "            '<a target=\"_blank\" href=https://colab.research.google.com/notebooks/data_table.ipynb>data table notebook</a>'\n",
              "            + ' to learn more about interactive tables.';\n",
              "          element.innerHTML = '';\n",
              "          dataTable['output_type'] = 'display_data';\n",
              "          await google.colab.output.renderOutput(dataTable, element);\n",
              "          const docLink = document.createElement('div');\n",
              "          docLink.innerHTML = docLinkHtml;\n",
              "          element.appendChild(docLink);\n",
              "        }\n",
              "      </script>\n",
              "    </div>\n",
              "  </div>\n",
              "  "
            ]
          },
          "metadata": {},
          "execution_count": 26
        }
      ]
    },
    {
      "cell_type": "code",
      "source": [
        "# 원핫 인코딩을 통한 문장 간 유사도 계산 : 1이 공통으로 나온 횟수\n",
        "sim = [onehot[0][i] & onehot[1][i] for i in range(0, len(vocabulary))]\n",
        "\n",
        "# 0번 문장과 1번 문장의 공통된 1\n",
        "sim"
      ],
      "metadata": {
        "colab": {
          "base_uri": "https://localhost:8080/"
        },
        "id": "ZtdVo9Wv2QBF",
        "outputId": "51d7ecad-b8fb-4319-f156-0f2564685069"
      },
      "execution_count": 27,
      "outputs": [
        {
          "output_type": "execute_result",
          "data": {
            "text/plain": [
              "[0, 0, 1, 1, 0, 0, 1, 0, 0, 1, 0]"
            ]
          },
          "metadata": {},
          "execution_count": 27
        }
      ]
    },
    {
      "cell_type": "code",
      "source": [
        "# 0번 문장과 1번 문장의 유사도\n",
        "sum(sim)"
      ],
      "metadata": {
        "colab": {
          "base_uri": "https://localhost:8080/"
        },
        "id": "fRSfl1wv2o1F",
        "outputId": "78115e2d-58ec-44de-b91f-fe326ad4e331"
      },
      "execution_count": 28,
      "outputs": [
        {
          "output_type": "execute_result",
          "data": {
            "text/plain": [
              "4"
            ]
          },
          "metadata": {},
          "execution_count": 28
        }
      ]
    },
    {
      "cell_type": "markdown",
      "source": [
        "## 내가 도전해본 예시 "
      ],
      "metadata": {
        "id": "1V5S1Tx19Bhl"
      }
    },
    {
      "cell_type": "code",
      "source": [
        "# 예시\n",
        "menu = ['밀 양 돼지국 밥',\n",
        "        '부산 돼 지 국 밥']\n",
        "\n",
        "# 띄어쓰기 단위로 토큰화\n",
        "tokenized_menu = [[k for j in i.split() for k in j] for i in menu]"
      ],
      "metadata": {
        "id": "2tnB399s2xqe"
      },
      "execution_count": 29,
      "outputs": []
    },
    {
      "cell_type": "code",
      "source": [
        "tokenized_menu"
      ],
      "metadata": {
        "colab": {
          "base_uri": "https://localhost:8080/"
        },
        "id": "hfrcH2BO3PG1",
        "outputId": "bb378f9c-a92d-4396-c3a5-a767f7d04e8b"
      },
      "execution_count": 30,
      "outputs": [
        {
          "output_type": "execute_result",
          "data": {
            "text/plain": [
              "[['밀', '양', '돼', '지', '국', '밥'], ['부', '산', '돼', '지', '국', '밥']]"
            ]
          },
          "metadata": {},
          "execution_count": 30
        }
      ]
    },
    {
      "cell_type": "code",
      "source": [
        "menu_vocabulary = set(j for i in tokenized_menu for j in i)"
      ],
      "metadata": {
        "id": "9NH-B6mi3P5j"
      },
      "execution_count": 31,
      "outputs": []
    },
    {
      "cell_type": "code",
      "source": [
        "# 단어 사전\n",
        "menu_vocabulary"
      ],
      "metadata": {
        "colab": {
          "base_uri": "https://localhost:8080/"
        },
        "id": "Am_uGMr33z-q",
        "outputId": "6019923d-3e42-4161-8100-61120df45afc"
      },
      "execution_count": 32,
      "outputs": [
        {
          "output_type": "execute_result",
          "data": {
            "text/plain": [
              "{'국', '돼', '밀', '밥', '부', '산', '양', '지'}"
            ]
          },
          "metadata": {},
          "execution_count": 32
        }
      ]
    },
    {
      "cell_type": "code",
      "source": [
        "# 단순 열거\n",
        "pd.DataFrame([value, idx] for idx, value in enumerate(menu_vocabulary))"
      ],
      "metadata": {
        "colab": {
          "base_uri": "https://localhost:8080/",
          "height": 0
        },
        "id": "lulTFdw330pl",
        "outputId": "2c373d6b-5245-4c1a-c399-a2a8f0b7f650"
      },
      "execution_count": 33,
      "outputs": [
        {
          "output_type": "execute_result",
          "data": {
            "text/plain": [
              "   0  1\n",
              "0  밥  0\n",
              "1  산  1\n",
              "2  밀  2\n",
              "3  지  3\n",
              "4  양  4\n",
              "5  국  5\n",
              "6  돼  6\n",
              "7  부  7"
            ],
            "text/html": [
              "\n",
              "  <div id=\"df-02a66791-4909-4399-85d0-54c6266d0cfb\">\n",
              "    <div class=\"colab-df-container\">\n",
              "      <div>\n",
              "<style scoped>\n",
              "    .dataframe tbody tr th:only-of-type {\n",
              "        vertical-align: middle;\n",
              "    }\n",
              "\n",
              "    .dataframe tbody tr th {\n",
              "        vertical-align: top;\n",
              "    }\n",
              "\n",
              "    .dataframe thead th {\n",
              "        text-align: right;\n",
              "    }\n",
              "</style>\n",
              "<table border=\"1\" class=\"dataframe\">\n",
              "  <thead>\n",
              "    <tr style=\"text-align: right;\">\n",
              "      <th></th>\n",
              "      <th>0</th>\n",
              "      <th>1</th>\n",
              "    </tr>\n",
              "  </thead>\n",
              "  <tbody>\n",
              "    <tr>\n",
              "      <th>0</th>\n",
              "      <td>밥</td>\n",
              "      <td>0</td>\n",
              "    </tr>\n",
              "    <tr>\n",
              "      <th>1</th>\n",
              "      <td>산</td>\n",
              "      <td>1</td>\n",
              "    </tr>\n",
              "    <tr>\n",
              "      <th>2</th>\n",
              "      <td>밀</td>\n",
              "      <td>2</td>\n",
              "    </tr>\n",
              "    <tr>\n",
              "      <th>3</th>\n",
              "      <td>지</td>\n",
              "      <td>3</td>\n",
              "    </tr>\n",
              "    <tr>\n",
              "      <th>4</th>\n",
              "      <td>양</td>\n",
              "      <td>4</td>\n",
              "    </tr>\n",
              "    <tr>\n",
              "      <th>5</th>\n",
              "      <td>국</td>\n",
              "      <td>5</td>\n",
              "    </tr>\n",
              "    <tr>\n",
              "      <th>6</th>\n",
              "      <td>돼</td>\n",
              "      <td>6</td>\n",
              "    </tr>\n",
              "    <tr>\n",
              "      <th>7</th>\n",
              "      <td>부</td>\n",
              "      <td>7</td>\n",
              "    </tr>\n",
              "  </tbody>\n",
              "</table>\n",
              "</div>\n",
              "      <button class=\"colab-df-convert\" onclick=\"convertToInteractive('df-02a66791-4909-4399-85d0-54c6266d0cfb')\"\n",
              "              title=\"Convert this dataframe to an interactive table.\"\n",
              "              style=\"display:none;\">\n",
              "        \n",
              "  <svg xmlns=\"http://www.w3.org/2000/svg\" height=\"24px\"viewBox=\"0 0 24 24\"\n",
              "       width=\"24px\">\n",
              "    <path d=\"M0 0h24v24H0V0z\" fill=\"none\"/>\n",
              "    <path d=\"M18.56 5.44l.94 2.06.94-2.06 2.06-.94-2.06-.94-.94-2.06-.94 2.06-2.06.94zm-11 1L8.5 8.5l.94-2.06 2.06-.94-2.06-.94L8.5 2.5l-.94 2.06-2.06.94zm10 10l.94 2.06.94-2.06 2.06-.94-2.06-.94-.94-2.06-.94 2.06-2.06.94z\"/><path d=\"M17.41 7.96l-1.37-1.37c-.4-.4-.92-.59-1.43-.59-.52 0-1.04.2-1.43.59L10.3 9.45l-7.72 7.72c-.78.78-.78 2.05 0 2.83L4 21.41c.39.39.9.59 1.41.59.51 0 1.02-.2 1.41-.59l7.78-7.78 2.81-2.81c.8-.78.8-2.07 0-2.86zM5.41 20L4 18.59l7.72-7.72 1.47 1.35L5.41 20z\"/>\n",
              "  </svg>\n",
              "      </button>\n",
              "      \n",
              "  <style>\n",
              "    .colab-df-container {\n",
              "      display:flex;\n",
              "      flex-wrap:wrap;\n",
              "      gap: 12px;\n",
              "    }\n",
              "\n",
              "    .colab-df-convert {\n",
              "      background-color: #E8F0FE;\n",
              "      border: none;\n",
              "      border-radius: 50%;\n",
              "      cursor: pointer;\n",
              "      display: none;\n",
              "      fill: #1967D2;\n",
              "      height: 32px;\n",
              "      padding: 0 0 0 0;\n",
              "      width: 32px;\n",
              "    }\n",
              "\n",
              "    .colab-df-convert:hover {\n",
              "      background-color: #E2EBFA;\n",
              "      box-shadow: 0px 1px 2px rgba(60, 64, 67, 0.3), 0px 1px 3px 1px rgba(60, 64, 67, 0.15);\n",
              "      fill: #174EA6;\n",
              "    }\n",
              "\n",
              "    [theme=dark] .colab-df-convert {\n",
              "      background-color: #3B4455;\n",
              "      fill: #D2E3FC;\n",
              "    }\n",
              "\n",
              "    [theme=dark] .colab-df-convert:hover {\n",
              "      background-color: #434B5C;\n",
              "      box-shadow: 0px 1px 3px 1px rgba(0, 0, 0, 0.15);\n",
              "      filter: drop-shadow(0px 1px 2px rgba(0, 0, 0, 0.3));\n",
              "      fill: #FFFFFF;\n",
              "    }\n",
              "  </style>\n",
              "\n",
              "      <script>\n",
              "        const buttonEl =\n",
              "          document.querySelector('#df-02a66791-4909-4399-85d0-54c6266d0cfb button.colab-df-convert');\n",
              "        buttonEl.style.display =\n",
              "          google.colab.kernel.accessAllowed ? 'block' : 'none';\n",
              "\n",
              "        async function convertToInteractive(key) {\n",
              "          const element = document.querySelector('#df-02a66791-4909-4399-85d0-54c6266d0cfb');\n",
              "          const dataTable =\n",
              "            await google.colab.kernel.invokeFunction('convertToInteractive',\n",
              "                                                     [key], {});\n",
              "          if (!dataTable) return;\n",
              "\n",
              "          const docLinkHtml = 'Like what you see? Visit the ' +\n",
              "            '<a target=\"_blank\" href=https://colab.research.google.com/notebooks/data_table.ipynb>data table notebook</a>'\n",
              "            + ' to learn more about interactive tables.';\n",
              "          element.innerHTML = '';\n",
              "          dataTable['output_type'] = 'display_data';\n",
              "          await google.colab.output.renderOutput(dataTable, element);\n",
              "          const docLink = document.createElement('div');\n",
              "          docLink.innerHTML = docLinkHtml;\n",
              "          element.appendChild(docLink);\n",
              "        }\n",
              "      </script>\n",
              "    </div>\n",
              "  </div>\n",
              "  "
            ]
          },
          "metadata": {},
          "execution_count": 33
        }
      ]
    },
    {
      "cell_type": "code",
      "source": [
        "# 원핫 벡터화\n",
        "def onehot_encode(tokenized_sentence, vocabulary):\n",
        "  return [1 if w in tokenized_sentence else 0 for w in vocabulary]"
      ],
      "metadata": {
        "id": "vpUKvFI35Thw"
      },
      "execution_count": 34,
      "outputs": []
    },
    {
      "cell_type": "code",
      "source": [
        "onehot_menu = [onehot_encode(tokenized_menu, menu_vocabulary) for tokenized_menu in tokenized_menu]"
      ],
      "metadata": {
        "id": "tVHglIHH6n22"
      },
      "execution_count": 35,
      "outputs": []
    },
    {
      "cell_type": "code",
      "source": [
        "onehot_menu"
      ],
      "metadata": {
        "colab": {
          "base_uri": "https://localhost:8080/"
        },
        "id": "M_A1PN8B6uSm",
        "outputId": "c63b3a22-ea36-425a-ac56-e345626b840e"
      },
      "execution_count": 36,
      "outputs": [
        {
          "output_type": "execute_result",
          "data": {
            "text/plain": [
              "[[1, 0, 1, 1, 1, 1, 1, 0], [1, 1, 0, 1, 0, 1, 1, 1]]"
            ]
          },
          "metadata": {},
          "execution_count": 36
        }
      ]
    },
    {
      "cell_type": "code",
      "source": [
        "# 문서-용어 행렬\n",
        "pd.DataFrame(columns=menu_vocabulary, data=onehot_menu)"
      ],
      "metadata": {
        "colab": {
          "base_uri": "https://localhost:8080/",
          "height": 0
        },
        "id": "D93jB8hO6uwP",
        "outputId": "37e34596-0def-48ba-b5e0-b51434c8a01a"
      },
      "execution_count": 37,
      "outputs": [
        {
          "output_type": "execute_result",
          "data": {
            "text/plain": [
              "   밥  산  밀  지  양  국  돼  부\n",
              "0  1  0  1  1  1  1  1  0\n",
              "1  1  1  0  1  0  1  1  1"
            ],
            "text/html": [
              "\n",
              "  <div id=\"df-e66837d7-d3b6-415a-920c-55d04772239e\">\n",
              "    <div class=\"colab-df-container\">\n",
              "      <div>\n",
              "<style scoped>\n",
              "    .dataframe tbody tr th:only-of-type {\n",
              "        vertical-align: middle;\n",
              "    }\n",
              "\n",
              "    .dataframe tbody tr th {\n",
              "        vertical-align: top;\n",
              "    }\n",
              "\n",
              "    .dataframe thead th {\n",
              "        text-align: right;\n",
              "    }\n",
              "</style>\n",
              "<table border=\"1\" class=\"dataframe\">\n",
              "  <thead>\n",
              "    <tr style=\"text-align: right;\">\n",
              "      <th></th>\n",
              "      <th>밥</th>\n",
              "      <th>산</th>\n",
              "      <th>밀</th>\n",
              "      <th>지</th>\n",
              "      <th>양</th>\n",
              "      <th>국</th>\n",
              "      <th>돼</th>\n",
              "      <th>부</th>\n",
              "    </tr>\n",
              "  </thead>\n",
              "  <tbody>\n",
              "    <tr>\n",
              "      <th>0</th>\n",
              "      <td>1</td>\n",
              "      <td>0</td>\n",
              "      <td>1</td>\n",
              "      <td>1</td>\n",
              "      <td>1</td>\n",
              "      <td>1</td>\n",
              "      <td>1</td>\n",
              "      <td>0</td>\n",
              "    </tr>\n",
              "    <tr>\n",
              "      <th>1</th>\n",
              "      <td>1</td>\n",
              "      <td>1</td>\n",
              "      <td>0</td>\n",
              "      <td>1</td>\n",
              "      <td>0</td>\n",
              "      <td>1</td>\n",
              "      <td>1</td>\n",
              "      <td>1</td>\n",
              "    </tr>\n",
              "  </tbody>\n",
              "</table>\n",
              "</div>\n",
              "      <button class=\"colab-df-convert\" onclick=\"convertToInteractive('df-e66837d7-d3b6-415a-920c-55d04772239e')\"\n",
              "              title=\"Convert this dataframe to an interactive table.\"\n",
              "              style=\"display:none;\">\n",
              "        \n",
              "  <svg xmlns=\"http://www.w3.org/2000/svg\" height=\"24px\"viewBox=\"0 0 24 24\"\n",
              "       width=\"24px\">\n",
              "    <path d=\"M0 0h24v24H0V0z\" fill=\"none\"/>\n",
              "    <path d=\"M18.56 5.44l.94 2.06.94-2.06 2.06-.94-2.06-.94-.94-2.06-.94 2.06-2.06.94zm-11 1L8.5 8.5l.94-2.06 2.06-.94-2.06-.94L8.5 2.5l-.94 2.06-2.06.94zm10 10l.94 2.06.94-2.06 2.06-.94-2.06-.94-.94-2.06-.94 2.06-2.06.94z\"/><path d=\"M17.41 7.96l-1.37-1.37c-.4-.4-.92-.59-1.43-.59-.52 0-1.04.2-1.43.59L10.3 9.45l-7.72 7.72c-.78.78-.78 2.05 0 2.83L4 21.41c.39.39.9.59 1.41.59.51 0 1.02-.2 1.41-.59l7.78-7.78 2.81-2.81c.8-.78.8-2.07 0-2.86zM5.41 20L4 18.59l7.72-7.72 1.47 1.35L5.41 20z\"/>\n",
              "  </svg>\n",
              "      </button>\n",
              "      \n",
              "  <style>\n",
              "    .colab-df-container {\n",
              "      display:flex;\n",
              "      flex-wrap:wrap;\n",
              "      gap: 12px;\n",
              "    }\n",
              "\n",
              "    .colab-df-convert {\n",
              "      background-color: #E8F0FE;\n",
              "      border: none;\n",
              "      border-radius: 50%;\n",
              "      cursor: pointer;\n",
              "      display: none;\n",
              "      fill: #1967D2;\n",
              "      height: 32px;\n",
              "      padding: 0 0 0 0;\n",
              "      width: 32px;\n",
              "    }\n",
              "\n",
              "    .colab-df-convert:hover {\n",
              "      background-color: #E2EBFA;\n",
              "      box-shadow: 0px 1px 2px rgba(60, 64, 67, 0.3), 0px 1px 3px 1px rgba(60, 64, 67, 0.15);\n",
              "      fill: #174EA6;\n",
              "    }\n",
              "\n",
              "    [theme=dark] .colab-df-convert {\n",
              "      background-color: #3B4455;\n",
              "      fill: #D2E3FC;\n",
              "    }\n",
              "\n",
              "    [theme=dark] .colab-df-convert:hover {\n",
              "      background-color: #434B5C;\n",
              "      box-shadow: 0px 1px 3px 1px rgba(0, 0, 0, 0.15);\n",
              "      filter: drop-shadow(0px 1px 2px rgba(0, 0, 0, 0.3));\n",
              "      fill: #FFFFFF;\n",
              "    }\n",
              "  </style>\n",
              "\n",
              "      <script>\n",
              "        const buttonEl =\n",
              "          document.querySelector('#df-e66837d7-d3b6-415a-920c-55d04772239e button.colab-df-convert');\n",
              "        buttonEl.style.display =\n",
              "          google.colab.kernel.accessAllowed ? 'block' : 'none';\n",
              "\n",
              "        async function convertToInteractive(key) {\n",
              "          const element = document.querySelector('#df-e66837d7-d3b6-415a-920c-55d04772239e');\n",
              "          const dataTable =\n",
              "            await google.colab.kernel.invokeFunction('convertToInteractive',\n",
              "                                                     [key], {});\n",
              "          if (!dataTable) return;\n",
              "\n",
              "          const docLinkHtml = 'Like what you see? Visit the ' +\n",
              "            '<a target=\"_blank\" href=https://colab.research.google.com/notebooks/data_table.ipynb>data table notebook</a>'\n",
              "            + ' to learn more about interactive tables.';\n",
              "          element.innerHTML = '';\n",
              "          dataTable['output_type'] = 'display_data';\n",
              "          await google.colab.output.renderOutput(dataTable, element);\n",
              "          const docLink = document.createElement('div');\n",
              "          docLink.innerHTML = docLinkHtml;\n",
              "          element.appendChild(docLink);\n",
              "        }\n",
              "      </script>\n",
              "    </div>\n",
              "  </div>\n",
              "  "
            ]
          },
          "metadata": {},
          "execution_count": 37
        }
      ]
    },
    {
      "cell_type": "code",
      "source": [
        "# 두 단어 간 유사도 측정\n",
        "sim = [onehot_menu[0][i] & onehot_menu[1][i] for i in range(0, len(menu_vocabulary))]\n",
        "sim, sum(sim)"
      ],
      "metadata": {
        "colab": {
          "base_uri": "https://localhost:8080/"
        },
        "id": "QX1G-s3b7UlY",
        "outputId": "c8f906d7-03e2-436e-979f-e822660d052b"
      },
      "execution_count": 38,
      "outputs": [
        {
          "output_type": "execute_result",
          "data": {
            "text/plain": [
              "([1, 0, 0, 1, 0, 1, 1, 0], 4)"
            ]
          },
          "metadata": {},
          "execution_count": 38
        }
      ]
    },
    {
      "cell_type": "code",
      "source": [
        "# 두 원핫 벡터 간 유사도를 측정하는 내적\n",
        "import numpy as np\n",
        "np.dot(onehot_menu[0], onehot_menu[1])"
      ],
      "metadata": {
        "colab": {
          "base_uri": "https://localhost:8080/"
        },
        "id": "oCe7IkmQ7gAh",
        "outputId": "0489ad37-b371-4aaf-f5c2-13c5021c48a5"
      },
      "execution_count": 39,
      "outputs": [
        {
          "output_type": "execute_result",
          "data": {
            "text/plain": [
              "4"
            ]
          },
          "metadata": {},
          "execution_count": 39
        }
      ]
    },
    {
      "cell_type": "markdown",
      "source": [
        "## 여기까지 힘들게 코드 짰니? 이제 한 방에 쓰는 라이브러리 알려줄게 ^^  "
      ],
      "metadata": {
        "id": "oxouh7MF8vKb"
      }
    },
    {
      "cell_type": "code",
      "source": [
        "# 바로 sklearn.preprovessing.MultiLabelBinarizer란다 ㅎㅎ\n",
        "\n",
        "from sklearn.preprocessing import MultiLabelBinarizer\n",
        "lb = MultiLabelBinarizer()\n",
        "lb.fit(menu_vocabulary) # 단어사전만 리스트로 형태로 넣어보렴\n",
        "sim = lb.transform(['전주 콩나물 국밥'])[0]\n",
        "print(sim)\n",
        "print(sum(sim))"
      ],
      "metadata": {
        "colab": {
          "base_uri": "https://localhost:8080/"
        },
        "id": "sVW6zKxY8t2E",
        "outputId": "66738bc6-57a4-4b4e-e17a-188056343e9a"
      },
      "execution_count": 40,
      "outputs": [
        {
          "output_type": "stream",
          "name": "stdout",
          "text": [
            "[1 0 0 1 0 0 0 0]\n",
            "2\n"
          ]
        },
        {
          "output_type": "stream",
          "name": "stderr",
          "text": [
            "/usr/local/lib/python3.8/dist-packages/sklearn/preprocessing/_label.py:875: UserWarning: unknown class(es) [' ', '나', '물', '전', '주', '콩'] will be ignored\n",
            "  warnings.warn(\n"
          ]
        }
      ]
    },
    {
      "cell_type": "markdown",
      "source": [
        "# 여기까지 인사이트\n",
        "\n",
        "1. from sklearn.preprocessing import MultiLabelBinarizer  \n",
        "이걸 사용하면 onehot벡터 유사도를 쉽게 구할 수 있다\n",
        "\n",
        "2. 그런데 단어 사전은 만들어야지 ^^\n",
        "\n",
        "3. 혹시 단어사전도 쉽게 만드는 라이브러리나 토크나이저가 있..겠지 ㅎ "
      ],
      "metadata": {
        "id": "LxBL_ziJCIeY"
      }
    },
    {
      "cell_type": "markdown",
      "source": [
        "# 더 효과적인 사이킷런 CountVectorizer"
      ],
      "metadata": {
        "id": "NQ3xMViwFYtq"
      }
    },
    {
      "cell_type": "markdown",
      "source": [
        "### 단어 가방 모델"
      ],
      "metadata": {
        "id": "quLnVwAAH2Th"
      }
    },
    {
      "cell_type": "code",
      "source": [
        "# 특성 추출을 할 때 사용하는 라이브러리라고 한다\n",
        "from sklearn.feature_extraction.text import CountVectorizer\n",
        "cv = CountVectorizer()"
      ],
      "metadata": {
        "id": "SEyB95yS9w9E"
      },
      "execution_count": 41,
      "outputs": []
    },
    {
      "cell_type": "code",
      "source": [
        "# 예시 문장\n",
        "sentences += ['John like to watch movies. Mary likes movies too.',\n",
        "              'Mary also likes to watch football games.']\n",
        "sentences"
      ],
      "metadata": {
        "colab": {
          "base_uri": "https://localhost:8080/"
        },
        "id": "mtMlWjzfFmuz",
        "outputId": "fd6ede6f-b751-4afd-d272-6b261ad98fda"
      },
      "execution_count": 42,
      "outputs": [
        {
          "output_type": "execute_result",
          "data": {
            "text/plain": [
              "['It was the best of times',\n",
              " 'it was the worst of times',\n",
              " 'it was the age of wisdom',\n",
              " 'it was the age of foolishness',\n",
              " 'John like to watch movies. Mary likes movies too.',\n",
              " 'Mary also likes to watch football games.']"
            ]
          },
          "metadata": {},
          "execution_count": 42
        }
      ]
    },
    {
      "cell_type": "code",
      "source": [
        "# CountVectorize의 두 단계\n",
        "#1. 어휘학습 => 단어사전 생성기나 다름없네 \n",
        "cv.fit(sentences)\n",
        "cv.get_feature_names()"
      ],
      "metadata": {
        "colab": {
          "base_uri": "https://localhost:8080/"
        },
        "id": "kwOVH74pFsHL",
        "outputId": "9ae7a55f-c67b-4c2d-c041-ef7e12f72e5d"
      },
      "execution_count": 43,
      "outputs": [
        {
          "output_type": "stream",
          "name": "stderr",
          "text": [
            "/usr/local/lib/python3.8/dist-packages/sklearn/utils/deprecation.py:87: FutureWarning: Function get_feature_names is deprecated; get_feature_names is deprecated in 1.0 and will be removed in 1.2. Please use get_feature_names_out instead.\n",
            "  warnings.warn(msg, category=FutureWarning)\n"
          ]
        },
        {
          "output_type": "execute_result",
          "data": {
            "text/plain": [
              "['age',\n",
              " 'also',\n",
              " 'best',\n",
              " 'foolishness',\n",
              " 'football',\n",
              " 'games',\n",
              " 'it',\n",
              " 'john',\n",
              " 'like',\n",
              " 'likes',\n",
              " 'mary',\n",
              " 'movies',\n",
              " 'of',\n",
              " 'the',\n",
              " 'times',\n",
              " 'to',\n",
              " 'too',\n",
              " 'was',\n",
              " 'watch',\n",
              " 'wisdom',\n",
              " 'worst']"
            ]
          },
          "metadata": {},
          "execution_count": 43
        }
      ]
    },
    {
      "cell_type": "code",
      "source": [
        "# CountVectorize의 두 단계\n",
        "#2. 벡터화 : 문서-용어행렬 반환 (희소행렬로 반환함에 유의)\n",
        "dt = cv.transform(sentences)\n",
        "dt"
      ],
      "metadata": {
        "colab": {
          "base_uri": "https://localhost:8080/"
        },
        "id": "mCjVZQvZGLZ0",
        "outputId": "5e8b3a5f-6241-45ee-957b-f6b2f456bbe8"
      },
      "execution_count": 44,
      "outputs": [
        {
          "output_type": "execute_result",
          "data": {
            "text/plain": [
              "<6x21 sparse matrix of type '<class 'numpy.int64'>'\n",
              "\twith 39 stored elements in Compressed Sparse Row format>"
            ]
          },
          "metadata": {},
          "execution_count": 44
        }
      ]
    },
    {
      "cell_type": "code",
      "source": [
        "# 문서-용어 희소행렬 복호화\n",
        "pd.DataFrame(dt.toarray(), columns=cv.get_feature_names())"
      ],
      "metadata": {
        "colab": {
          "base_uri": "https://localhost:8080/",
          "height": 0
        },
        "id": "AEL3vkiZGYgM",
        "outputId": "f312224c-4fe6-40da-8d46-d6047d967d1b"
      },
      "execution_count": 45,
      "outputs": [
        {
          "output_type": "execute_result",
          "data": {
            "text/plain": [
              "   age  also  best  foolishness  football  games  it  john  like  likes  ...  \\\n",
              "0    0     0     1            0         0      0   1     0     0      0  ...   \n",
              "1    0     0     0            0         0      0   1     0     0      0  ...   \n",
              "2    1     0     0            0         0      0   1     0     0      0  ...   \n",
              "3    1     0     0            1         0      0   1     0     0      0  ...   \n",
              "4    0     0     0            0         0      0   0     1     1      1  ...   \n",
              "5    0     1     0            0         1      1   0     0     0      1  ...   \n",
              "\n",
              "   movies  of  the  times  to  too  was  watch  wisdom  worst  \n",
              "0       0   1    1      1   0    0    1      0       0      0  \n",
              "1       0   1    1      1   0    0    1      0       0      1  \n",
              "2       0   1    1      0   0    0    1      0       1      0  \n",
              "3       0   1    1      0   0    0    1      0       0      0  \n",
              "4       2   0    0      0   1    1    0      1       0      0  \n",
              "5       0   0    0      0   1    0    0      1       0      0  \n",
              "\n",
              "[6 rows x 21 columns]"
            ],
            "text/html": [
              "\n",
              "  <div id=\"df-f3f5c9a3-bbff-497a-99de-c9038d9be13a\">\n",
              "    <div class=\"colab-df-container\">\n",
              "      <div>\n",
              "<style scoped>\n",
              "    .dataframe tbody tr th:only-of-type {\n",
              "        vertical-align: middle;\n",
              "    }\n",
              "\n",
              "    .dataframe tbody tr th {\n",
              "        vertical-align: top;\n",
              "    }\n",
              "\n",
              "    .dataframe thead th {\n",
              "        text-align: right;\n",
              "    }\n",
              "</style>\n",
              "<table border=\"1\" class=\"dataframe\">\n",
              "  <thead>\n",
              "    <tr style=\"text-align: right;\">\n",
              "      <th></th>\n",
              "      <th>age</th>\n",
              "      <th>also</th>\n",
              "      <th>best</th>\n",
              "      <th>foolishness</th>\n",
              "      <th>football</th>\n",
              "      <th>games</th>\n",
              "      <th>it</th>\n",
              "      <th>john</th>\n",
              "      <th>like</th>\n",
              "      <th>likes</th>\n",
              "      <th>...</th>\n",
              "      <th>movies</th>\n",
              "      <th>of</th>\n",
              "      <th>the</th>\n",
              "      <th>times</th>\n",
              "      <th>to</th>\n",
              "      <th>too</th>\n",
              "      <th>was</th>\n",
              "      <th>watch</th>\n",
              "      <th>wisdom</th>\n",
              "      <th>worst</th>\n",
              "    </tr>\n",
              "  </thead>\n",
              "  <tbody>\n",
              "    <tr>\n",
              "      <th>0</th>\n",
              "      <td>0</td>\n",
              "      <td>0</td>\n",
              "      <td>1</td>\n",
              "      <td>0</td>\n",
              "      <td>0</td>\n",
              "      <td>0</td>\n",
              "      <td>1</td>\n",
              "      <td>0</td>\n",
              "      <td>0</td>\n",
              "      <td>0</td>\n",
              "      <td>...</td>\n",
              "      <td>0</td>\n",
              "      <td>1</td>\n",
              "      <td>1</td>\n",
              "      <td>1</td>\n",
              "      <td>0</td>\n",
              "      <td>0</td>\n",
              "      <td>1</td>\n",
              "      <td>0</td>\n",
              "      <td>0</td>\n",
              "      <td>0</td>\n",
              "    </tr>\n",
              "    <tr>\n",
              "      <th>1</th>\n",
              "      <td>0</td>\n",
              "      <td>0</td>\n",
              "      <td>0</td>\n",
              "      <td>0</td>\n",
              "      <td>0</td>\n",
              "      <td>0</td>\n",
              "      <td>1</td>\n",
              "      <td>0</td>\n",
              "      <td>0</td>\n",
              "      <td>0</td>\n",
              "      <td>...</td>\n",
              "      <td>0</td>\n",
              "      <td>1</td>\n",
              "      <td>1</td>\n",
              "      <td>1</td>\n",
              "      <td>0</td>\n",
              "      <td>0</td>\n",
              "      <td>1</td>\n",
              "      <td>0</td>\n",
              "      <td>0</td>\n",
              "      <td>1</td>\n",
              "    </tr>\n",
              "    <tr>\n",
              "      <th>2</th>\n",
              "      <td>1</td>\n",
              "      <td>0</td>\n",
              "      <td>0</td>\n",
              "      <td>0</td>\n",
              "      <td>0</td>\n",
              "      <td>0</td>\n",
              "      <td>1</td>\n",
              "      <td>0</td>\n",
              "      <td>0</td>\n",
              "      <td>0</td>\n",
              "      <td>...</td>\n",
              "      <td>0</td>\n",
              "      <td>1</td>\n",
              "      <td>1</td>\n",
              "      <td>0</td>\n",
              "      <td>0</td>\n",
              "      <td>0</td>\n",
              "      <td>1</td>\n",
              "      <td>0</td>\n",
              "      <td>1</td>\n",
              "      <td>0</td>\n",
              "    </tr>\n",
              "    <tr>\n",
              "      <th>3</th>\n",
              "      <td>1</td>\n",
              "      <td>0</td>\n",
              "      <td>0</td>\n",
              "      <td>1</td>\n",
              "      <td>0</td>\n",
              "      <td>0</td>\n",
              "      <td>1</td>\n",
              "      <td>0</td>\n",
              "      <td>0</td>\n",
              "      <td>0</td>\n",
              "      <td>...</td>\n",
              "      <td>0</td>\n",
              "      <td>1</td>\n",
              "      <td>1</td>\n",
              "      <td>0</td>\n",
              "      <td>0</td>\n",
              "      <td>0</td>\n",
              "      <td>1</td>\n",
              "      <td>0</td>\n",
              "      <td>0</td>\n",
              "      <td>0</td>\n",
              "    </tr>\n",
              "    <tr>\n",
              "      <th>4</th>\n",
              "      <td>0</td>\n",
              "      <td>0</td>\n",
              "      <td>0</td>\n",
              "      <td>0</td>\n",
              "      <td>0</td>\n",
              "      <td>0</td>\n",
              "      <td>0</td>\n",
              "      <td>1</td>\n",
              "      <td>1</td>\n",
              "      <td>1</td>\n",
              "      <td>...</td>\n",
              "      <td>2</td>\n",
              "      <td>0</td>\n",
              "      <td>0</td>\n",
              "      <td>0</td>\n",
              "      <td>1</td>\n",
              "      <td>1</td>\n",
              "      <td>0</td>\n",
              "      <td>1</td>\n",
              "      <td>0</td>\n",
              "      <td>0</td>\n",
              "    </tr>\n",
              "    <tr>\n",
              "      <th>5</th>\n",
              "      <td>0</td>\n",
              "      <td>1</td>\n",
              "      <td>0</td>\n",
              "      <td>0</td>\n",
              "      <td>1</td>\n",
              "      <td>1</td>\n",
              "      <td>0</td>\n",
              "      <td>0</td>\n",
              "      <td>0</td>\n",
              "      <td>1</td>\n",
              "      <td>...</td>\n",
              "      <td>0</td>\n",
              "      <td>0</td>\n",
              "      <td>0</td>\n",
              "      <td>0</td>\n",
              "      <td>1</td>\n",
              "      <td>0</td>\n",
              "      <td>0</td>\n",
              "      <td>1</td>\n",
              "      <td>0</td>\n",
              "      <td>0</td>\n",
              "    </tr>\n",
              "  </tbody>\n",
              "</table>\n",
              "<p>6 rows × 21 columns</p>\n",
              "</div>\n",
              "      <button class=\"colab-df-convert\" onclick=\"convertToInteractive('df-f3f5c9a3-bbff-497a-99de-c9038d9be13a')\"\n",
              "              title=\"Convert this dataframe to an interactive table.\"\n",
              "              style=\"display:none;\">\n",
              "        \n",
              "  <svg xmlns=\"http://www.w3.org/2000/svg\" height=\"24px\"viewBox=\"0 0 24 24\"\n",
              "       width=\"24px\">\n",
              "    <path d=\"M0 0h24v24H0V0z\" fill=\"none\"/>\n",
              "    <path d=\"M18.56 5.44l.94 2.06.94-2.06 2.06-.94-2.06-.94-.94-2.06-.94 2.06-2.06.94zm-11 1L8.5 8.5l.94-2.06 2.06-.94-2.06-.94L8.5 2.5l-.94 2.06-2.06.94zm10 10l.94 2.06.94-2.06 2.06-.94-2.06-.94-.94-2.06-.94 2.06-2.06.94z\"/><path d=\"M17.41 7.96l-1.37-1.37c-.4-.4-.92-.59-1.43-.59-.52 0-1.04.2-1.43.59L10.3 9.45l-7.72 7.72c-.78.78-.78 2.05 0 2.83L4 21.41c.39.39.9.59 1.41.59.51 0 1.02-.2 1.41-.59l7.78-7.78 2.81-2.81c.8-.78.8-2.07 0-2.86zM5.41 20L4 18.59l7.72-7.72 1.47 1.35L5.41 20z\"/>\n",
              "  </svg>\n",
              "      </button>\n",
              "      \n",
              "  <style>\n",
              "    .colab-df-container {\n",
              "      display:flex;\n",
              "      flex-wrap:wrap;\n",
              "      gap: 12px;\n",
              "    }\n",
              "\n",
              "    .colab-df-convert {\n",
              "      background-color: #E8F0FE;\n",
              "      border: none;\n",
              "      border-radius: 50%;\n",
              "      cursor: pointer;\n",
              "      display: none;\n",
              "      fill: #1967D2;\n",
              "      height: 32px;\n",
              "      padding: 0 0 0 0;\n",
              "      width: 32px;\n",
              "    }\n",
              "\n",
              "    .colab-df-convert:hover {\n",
              "      background-color: #E2EBFA;\n",
              "      box-shadow: 0px 1px 2px rgba(60, 64, 67, 0.3), 0px 1px 3px 1px rgba(60, 64, 67, 0.15);\n",
              "      fill: #174EA6;\n",
              "    }\n",
              "\n",
              "    [theme=dark] .colab-df-convert {\n",
              "      background-color: #3B4455;\n",
              "      fill: #D2E3FC;\n",
              "    }\n",
              "\n",
              "    [theme=dark] .colab-df-convert:hover {\n",
              "      background-color: #434B5C;\n",
              "      box-shadow: 0px 1px 3px 1px rgba(0, 0, 0, 0.15);\n",
              "      filter: drop-shadow(0px 1px 2px rgba(0, 0, 0, 0.3));\n",
              "      fill: #FFFFFF;\n",
              "    }\n",
              "  </style>\n",
              "\n",
              "      <script>\n",
              "        const buttonEl =\n",
              "          document.querySelector('#df-f3f5c9a3-bbff-497a-99de-c9038d9be13a button.colab-df-convert');\n",
              "        buttonEl.style.display =\n",
              "          google.colab.kernel.accessAllowed ? 'block' : 'none';\n",
              "\n",
              "        async function convertToInteractive(key) {\n",
              "          const element = document.querySelector('#df-f3f5c9a3-bbff-497a-99de-c9038d9be13a');\n",
              "          const dataTable =\n",
              "            await google.colab.kernel.invokeFunction('convertToInteractive',\n",
              "                                                     [key], {});\n",
              "          if (!dataTable) return;\n",
              "\n",
              "          const docLinkHtml = 'Like what you see? Visit the ' +\n",
              "            '<a target=\"_blank\" href=https://colab.research.google.com/notebooks/data_table.ipynb>data table notebook</a>'\n",
              "            + ' to learn more about interactive tables.';\n",
              "          element.innerHTML = '';\n",
              "          dataTable['output_type'] = 'display_data';\n",
              "          await google.colab.output.renderOutput(dataTable, element);\n",
              "          const docLink = document.createElement('div');\n",
              "          docLink.innerHTML = docLinkHtml;\n",
              "          element.appendChild(docLink);\n",
              "        }\n",
              "      </script>\n",
              "    </div>\n",
              "  </div>\n",
              "  "
            ]
          },
          "metadata": {},
          "execution_count": 45
        }
      ]
    },
    {
      "cell_type": "code",
      "source": [
        "# 그럼 유사도를 어떻게 계산하는가?\n",
        "#1. 내적 => 벡터의 크기에 민감하다\n",
        "#2. 유클리드거리 => 고차원에서 유용하지 않다고 한다\n",
        "#3. 적절한 방법은 코사인 유사도\n",
        "\n",
        "# 코사인 유사도\n",
        "from sklearn.metrics.pairwise import cosine_similarity\n",
        "cosine_similarity(dt[0], dt[1])"
      ],
      "metadata": {
        "colab": {
          "base_uri": "https://localhost:8080/"
        },
        "id": "AwP1-VrIGlao",
        "outputId": "f77c70cd-3574-4cf5-baad-46dc7e29fbc1"
      },
      "execution_count": 46,
      "outputs": [
        {
          "output_type": "execute_result",
          "data": {
            "text/plain": [
              "array([[0.83333333]])"
            ]
          },
          "metadata": {},
          "execution_count": 46
        }
      ]
    },
    {
      "cell_type": "code",
      "source": [
        "# 코사인 유사도 행렬\n",
        "pd.DataFrame(cosine_similarity(dt, dt))"
      ],
      "metadata": {
        "colab": {
          "base_uri": "https://localhost:8080/",
          "height": 0
        },
        "id": "1sfaW8EsHSDN",
        "outputId": "eef5da25-64a1-4f76-a163-e424571a93ba"
      },
      "execution_count": 47,
      "outputs": [
        {
          "output_type": "execute_result",
          "data": {
            "text/plain": [
              "          0         1         2         3         4         5\n",
              "0  1.000000  0.833333  0.666667  0.666667  0.000000  0.000000\n",
              "1  0.833333  1.000000  0.666667  0.666667  0.000000  0.000000\n",
              "2  0.666667  0.666667  1.000000  0.833333  0.000000  0.000000\n",
              "3  0.666667  0.666667  0.833333  1.000000  0.000000  0.000000\n",
              "4  0.000000  0.000000  0.000000  0.000000  1.000000  0.455842\n",
              "5  0.000000  0.000000  0.000000  0.000000  0.455842  1.000000"
            ],
            "text/html": [
              "\n",
              "  <div id=\"df-7770a594-2abe-4bc1-9251-7e34b13bbda2\">\n",
              "    <div class=\"colab-df-container\">\n",
              "      <div>\n",
              "<style scoped>\n",
              "    .dataframe tbody tr th:only-of-type {\n",
              "        vertical-align: middle;\n",
              "    }\n",
              "\n",
              "    .dataframe tbody tr th {\n",
              "        vertical-align: top;\n",
              "    }\n",
              "\n",
              "    .dataframe thead th {\n",
              "        text-align: right;\n",
              "    }\n",
              "</style>\n",
              "<table border=\"1\" class=\"dataframe\">\n",
              "  <thead>\n",
              "    <tr style=\"text-align: right;\">\n",
              "      <th></th>\n",
              "      <th>0</th>\n",
              "      <th>1</th>\n",
              "      <th>2</th>\n",
              "      <th>3</th>\n",
              "      <th>4</th>\n",
              "      <th>5</th>\n",
              "    </tr>\n",
              "  </thead>\n",
              "  <tbody>\n",
              "    <tr>\n",
              "      <th>0</th>\n",
              "      <td>1.000000</td>\n",
              "      <td>0.833333</td>\n",
              "      <td>0.666667</td>\n",
              "      <td>0.666667</td>\n",
              "      <td>0.000000</td>\n",
              "      <td>0.000000</td>\n",
              "    </tr>\n",
              "    <tr>\n",
              "      <th>1</th>\n",
              "      <td>0.833333</td>\n",
              "      <td>1.000000</td>\n",
              "      <td>0.666667</td>\n",
              "      <td>0.666667</td>\n",
              "      <td>0.000000</td>\n",
              "      <td>0.000000</td>\n",
              "    </tr>\n",
              "    <tr>\n",
              "      <th>2</th>\n",
              "      <td>0.666667</td>\n",
              "      <td>0.666667</td>\n",
              "      <td>1.000000</td>\n",
              "      <td>0.833333</td>\n",
              "      <td>0.000000</td>\n",
              "      <td>0.000000</td>\n",
              "    </tr>\n",
              "    <tr>\n",
              "      <th>3</th>\n",
              "      <td>0.666667</td>\n",
              "      <td>0.666667</td>\n",
              "      <td>0.833333</td>\n",
              "      <td>1.000000</td>\n",
              "      <td>0.000000</td>\n",
              "      <td>0.000000</td>\n",
              "    </tr>\n",
              "    <tr>\n",
              "      <th>4</th>\n",
              "      <td>0.000000</td>\n",
              "      <td>0.000000</td>\n",
              "      <td>0.000000</td>\n",
              "      <td>0.000000</td>\n",
              "      <td>1.000000</td>\n",
              "      <td>0.455842</td>\n",
              "    </tr>\n",
              "    <tr>\n",
              "      <th>5</th>\n",
              "      <td>0.000000</td>\n",
              "      <td>0.000000</td>\n",
              "      <td>0.000000</td>\n",
              "      <td>0.000000</td>\n",
              "      <td>0.455842</td>\n",
              "      <td>1.000000</td>\n",
              "    </tr>\n",
              "  </tbody>\n",
              "</table>\n",
              "</div>\n",
              "      <button class=\"colab-df-convert\" onclick=\"convertToInteractive('df-7770a594-2abe-4bc1-9251-7e34b13bbda2')\"\n",
              "              title=\"Convert this dataframe to an interactive table.\"\n",
              "              style=\"display:none;\">\n",
              "        \n",
              "  <svg xmlns=\"http://www.w3.org/2000/svg\" height=\"24px\"viewBox=\"0 0 24 24\"\n",
              "       width=\"24px\">\n",
              "    <path d=\"M0 0h24v24H0V0z\" fill=\"none\"/>\n",
              "    <path d=\"M18.56 5.44l.94 2.06.94-2.06 2.06-.94-2.06-.94-.94-2.06-.94 2.06-2.06.94zm-11 1L8.5 8.5l.94-2.06 2.06-.94-2.06-.94L8.5 2.5l-.94 2.06-2.06.94zm10 10l.94 2.06.94-2.06 2.06-.94-2.06-.94-.94-2.06-.94 2.06-2.06.94z\"/><path d=\"M17.41 7.96l-1.37-1.37c-.4-.4-.92-.59-1.43-.59-.52 0-1.04.2-1.43.59L10.3 9.45l-7.72 7.72c-.78.78-.78 2.05 0 2.83L4 21.41c.39.39.9.59 1.41.59.51 0 1.02-.2 1.41-.59l7.78-7.78 2.81-2.81c.8-.78.8-2.07 0-2.86zM5.41 20L4 18.59l7.72-7.72 1.47 1.35L5.41 20z\"/>\n",
              "  </svg>\n",
              "      </button>\n",
              "      \n",
              "  <style>\n",
              "    .colab-df-container {\n",
              "      display:flex;\n",
              "      flex-wrap:wrap;\n",
              "      gap: 12px;\n",
              "    }\n",
              "\n",
              "    .colab-df-convert {\n",
              "      background-color: #E8F0FE;\n",
              "      border: none;\n",
              "      border-radius: 50%;\n",
              "      cursor: pointer;\n",
              "      display: none;\n",
              "      fill: #1967D2;\n",
              "      height: 32px;\n",
              "      padding: 0 0 0 0;\n",
              "      width: 32px;\n",
              "    }\n",
              "\n",
              "    .colab-df-convert:hover {\n",
              "      background-color: #E2EBFA;\n",
              "      box-shadow: 0px 1px 2px rgba(60, 64, 67, 0.3), 0px 1px 3px 1px rgba(60, 64, 67, 0.15);\n",
              "      fill: #174EA6;\n",
              "    }\n",
              "\n",
              "    [theme=dark] .colab-df-convert {\n",
              "      background-color: #3B4455;\n",
              "      fill: #D2E3FC;\n",
              "    }\n",
              "\n",
              "    [theme=dark] .colab-df-convert:hover {\n",
              "      background-color: #434B5C;\n",
              "      box-shadow: 0px 1px 3px 1px rgba(0, 0, 0, 0.15);\n",
              "      filter: drop-shadow(0px 1px 2px rgba(0, 0, 0, 0.3));\n",
              "      fill: #FFFFFF;\n",
              "    }\n",
              "  </style>\n",
              "\n",
              "      <script>\n",
              "        const buttonEl =\n",
              "          document.querySelector('#df-7770a594-2abe-4bc1-9251-7e34b13bbda2 button.colab-df-convert');\n",
              "        buttonEl.style.display =\n",
              "          google.colab.kernel.accessAllowed ? 'block' : 'none';\n",
              "\n",
              "        async function convertToInteractive(key) {\n",
              "          const element = document.querySelector('#df-7770a594-2abe-4bc1-9251-7e34b13bbda2');\n",
              "          const dataTable =\n",
              "            await google.colab.kernel.invokeFunction('convertToInteractive',\n",
              "                                                     [key], {});\n",
              "          if (!dataTable) return;\n",
              "\n",
              "          const docLinkHtml = 'Like what you see? Visit the ' +\n",
              "            '<a target=\"_blank\" href=https://colab.research.google.com/notebooks/data_table.ipynb>data table notebook</a>'\n",
              "            + ' to learn more about interactive tables.';\n",
              "          element.innerHTML = '';\n",
              "          dataTable['output_type'] = 'display_data';\n",
              "          await google.colab.output.renderOutput(dataTable, element);\n",
              "          const docLink = document.createElement('div');\n",
              "          docLink.innerHTML = docLinkHtml;\n",
              "          element.appendChild(docLink);\n",
              "        }\n",
              "      </script>\n",
              "    </div>\n",
              "  </div>\n",
              "  "
            ]
          },
          "metadata": {},
          "execution_count": 47
        }
      ]
    },
    {
      "cell_type": "code",
      "source": [],
      "metadata": {
        "id": "NeObyeeTHnhJ"
      },
      "execution_count": 47,
      "outputs": []
    },
    {
      "cell_type": "markdown",
      "source": [
        "### 내 맘대로 실습"
      ],
      "metadata": {
        "id": "Z1aKrSCDH5o6"
      }
    },
    {
      "cell_type": "code",
      "source": [
        "df = pd.read_csv('menu_concated_v1.2', index_col=0)"
      ],
      "metadata": {
        "id": "HadYVqmEH86b"
      },
      "execution_count": 48,
      "outputs": []
    },
    {
      "cell_type": "code",
      "source": [
        "import re\n",
        "def pre_processing(string):\n",
        "  string = re.sub('\\((.*?)\\)', '', string) # 괄호 안 내용 모두 삭제\n",
        "  string = re.sub('[^가-힣]', '', string) # 한글이 아닌거 전부 삭제\n",
        "  string = re.sub('[ ]', '', string) # 공백 제거\n",
        "  return string"
      ],
      "metadata": {
        "id": "1plnEG94Inbh"
      },
      "execution_count": 1,
      "outputs": []
    },
    {
      "cell_type": "code",
      "source": [
        "df['menu'] = df['메뉴명'].apply(pre_processing)\n",
        "menu_list = df['menu'].unique()"
      ],
      "metadata": {
        "id": "b09kAThJK5v5"
      },
      "execution_count": 114,
      "outputs": []
    },
    {
      "cell_type": "code",
      "source": [
        "len(menu_list)"
      ],
      "metadata": {
        "colab": {
          "base_uri": "https://localhost:8080/"
        },
        "id": "ss6t0et3LBc1",
        "outputId": "54b555e9-ee1f-4334-c737-dd6f6f8f49dc"
      },
      "execution_count": 115,
      "outputs": [
        {
          "output_type": "execute_result",
          "data": {
            "text/plain": [
              "51438"
            ]
          },
          "metadata": {},
          "execution_count": 115
        }
      ]
    },
    {
      "cell_type": "code",
      "source": [
        "list(menu_list)[:10]"
      ],
      "metadata": {
        "colab": {
          "base_uri": "https://localhost:8080/"
        },
        "id": "7CZRqtYeRC0o",
        "outputId": "40fbb963-39c8-4b6c-f577-f7f7e159c947"
      },
      "execution_count": 116,
      "outputs": [
        {
          "output_type": "execute_result",
          "data": {
            "text/plain": [
              "['정식', '짜장면', '짬뽕', '우동', '울면', '간짜장', '사천짜장', '삼선짜장', '유니짜장', '삼선우동']"
            ]
          },
          "metadata": {},
          "execution_count": 116
        }
      ]
    },
    {
      "cell_type": "code",
      "source": [
        "cv = CountVectorizer()\n",
        "cv.fit(menu_list)\n",
        "cv.get_feature_names()[:10]"
      ],
      "metadata": {
        "colab": {
          "base_uri": "https://localhost:8080/"
        },
        "id": "rJ9Vu5SSS_eG",
        "outputId": "6183164e-169a-44d4-c3fd-bd5ded201c5d"
      },
      "execution_count": 117,
      "outputs": [
        {
          "output_type": "execute_result",
          "data": {
            "text/plain": [
              "['가께우동',\n",
              " '가꾸니동',\n",
              " '가끼아게텐동',\n",
              " '가나슈',\n",
              " '가나초콜릿',\n",
              " '가니',\n",
              " '가니죠스이',\n",
              " '가다보',\n",
              " '가든관자파스타',\n",
              " '가든샐러드']"
            ]
          },
          "metadata": {},
          "execution_count": 117
        }
      ]
    },
    {
      "cell_type": "code",
      "source": [
        "# 문서-용어 희소행렬\n",
        "dt_menu = cv.transform(menu_list)\n",
        "dt_menu"
      ],
      "metadata": {
        "colab": {
          "base_uri": "https://localhost:8080/"
        },
        "id": "uKnW7VyhRbft",
        "outputId": "6bdb555e-d546-4511-cbc4-66a940bab15a"
      },
      "execution_count": 118,
      "outputs": [
        {
          "output_type": "execute_result",
          "data": {
            "text/plain": [
              "<51438x51309 sparse matrix of type '<class 'numpy.int64'>'\n",
              "\twith 51309 stored elements in Compressed Sparse Row format>"
            ]
          },
          "metadata": {},
          "execution_count": 118
        }
      ]
    },
    {
      "cell_type": "code",
      "source": [
        "# 문서-용어 행렬 복호화 (램 다운으로 실패)\n",
        "# dt_df = pd.DataFrame(dt_menu.toarray(), columns=cv.get_feature_names())"
      ],
      "metadata": {
        "id": "_D9XLpgxUym2"
      },
      "execution_count": 55,
      "outputs": []
    },
    {
      "cell_type": "code",
      "source": [
        "# 코사인 유사도 행렬 (램 다운으로 실패)\n",
        "# cosine_menu = pd.DataFrame(cosine_similarity(dt_menu, dt_menu))"
      ],
      "metadata": {
        "id": "9mwFphU_VKD9"
      },
      "execution_count": 56,
      "outputs": []
    },
    {
      "cell_type": "code",
      "source": [
        "# 샘플만 뽑아서 해보자\n",
        "df_sample = df.sample(10000, random_state=42)"
      ],
      "metadata": {
        "id": "YwVy6FqxVkWY"
      },
      "execution_count": 119,
      "outputs": []
    },
    {
      "cell_type": "code",
      "source": [
        "df_sample_menu = df_sample['menu'].unique()"
      ],
      "metadata": {
        "id": "xmBKPKK8WAbr"
      },
      "execution_count": 120,
      "outputs": []
    },
    {
      "cell_type": "code",
      "source": [
        "cv = CountVectorizer()\n",
        "cv.fit(df_sample_menu)\n",
        "cv.get_feature_names()[:100]\n",
        "dt_sample_menu = cv.transform(df_sample_menu)"
      ],
      "metadata": {
        "id": "jbQinpUMWMBA"
      },
      "execution_count": 121,
      "outputs": []
    },
    {
      "cell_type": "code",
      "source": [
        "dt_sample_df = pd.DataFrame(dt_sample_menu.toarray(), columns=cv.get_feature_names())\n",
        "dt_sample_df"
      ],
      "metadata": {
        "colab": {
          "base_uri": "https://localhost:8080/",
          "height": 485
        },
        "id": "t9qBDhjfWYWW",
        "outputId": "4e182e29-a923-4010-b14f-200a06619252"
      },
      "execution_count": 122,
      "outputs": [
        {
          "output_type": "execute_result",
          "data": {
            "text/plain": [
              "      가락우동  가로막살  가리비관자아히조바게트  가리비구이  가리비찜  가마로봉치킨  가마솥누룽지탕  가마치떡볶이  가마치즈볼  \\\n",
              "0        0     0            0      0     0       0        0       0      0   \n",
              "1        0     0            0      0     0       0        0       0      0   \n",
              "2        0     0            0      0     0       0        0       0      0   \n",
              "3        0     0            0      0     0       0        0       0      0   \n",
              "4        0     0            0      0     0       0        0       0      0   \n",
              "...    ...   ...          ...    ...   ...     ...      ...     ...    ...   \n",
              "5736     0     0            0      0     0       0        0       0      0   \n",
              "5737     0     0            0      0     0       0        0       0      0   \n",
              "5738     0     0            0      0     0       0        0       0      0   \n",
              "5739     1     0            0      0     0       0        0       0      0   \n",
              "5740     0     0            0      0     0       0        0       0      0   \n",
              "\n",
              "      가브리살  ...  히레사케  히레카츠  히비스커스  히비스커스레몬  히비스커스애플티  히비스커스후르츠  히야시멘  히츠마부시  \\\n",
              "0        0  ...     0     0      0        0         0         0     0      0   \n",
              "1        0  ...     0     0      0        0         0         0     0      0   \n",
              "2        0  ...     0     0      0        0         0         0     0      0   \n",
              "3        0  ...     0     0      0        0         0         0     0      0   \n",
              "4        0  ...     0     0      0        0         0         0     0      0   \n",
              "...    ...  ...   ...   ...    ...      ...       ...       ...   ...    ...   \n",
              "5736     0  ...     0     0      0        0         0         0     0      0   \n",
              "5737     0  ...     0     0      0        0         0         0     0      0   \n",
              "5738     0  ...     0     0      0        0         0         0     0      0   \n",
              "5739     0  ...     0     0      0        0         0         0     0      0   \n",
              "5740     0  ...     0     0      0        0         0         0     0      0   \n",
              "\n",
              "      히트라떼  힌민들레고기만두  \n",
              "0        0         0  \n",
              "1        0         0  \n",
              "2        0         0  \n",
              "3        0         0  \n",
              "4        0         0  \n",
              "...    ...       ...  \n",
              "5736     0         0  \n",
              "5737     0         0  \n",
              "5738     0         0  \n",
              "5739     0         0  \n",
              "5740     0         0  \n",
              "\n",
              "[5741 rows x 5714 columns]"
            ],
            "text/html": [
              "\n",
              "  <div id=\"df-c699d5de-69ee-4aac-bee1-3eab25725eca\">\n",
              "    <div class=\"colab-df-container\">\n",
              "      <div>\n",
              "<style scoped>\n",
              "    .dataframe tbody tr th:only-of-type {\n",
              "        vertical-align: middle;\n",
              "    }\n",
              "\n",
              "    .dataframe tbody tr th {\n",
              "        vertical-align: top;\n",
              "    }\n",
              "\n",
              "    .dataframe thead th {\n",
              "        text-align: right;\n",
              "    }\n",
              "</style>\n",
              "<table border=\"1\" class=\"dataframe\">\n",
              "  <thead>\n",
              "    <tr style=\"text-align: right;\">\n",
              "      <th></th>\n",
              "      <th>가락우동</th>\n",
              "      <th>가로막살</th>\n",
              "      <th>가리비관자아히조바게트</th>\n",
              "      <th>가리비구이</th>\n",
              "      <th>가리비찜</th>\n",
              "      <th>가마로봉치킨</th>\n",
              "      <th>가마솥누룽지탕</th>\n",
              "      <th>가마치떡볶이</th>\n",
              "      <th>가마치즈볼</th>\n",
              "      <th>가브리살</th>\n",
              "      <th>...</th>\n",
              "      <th>히레사케</th>\n",
              "      <th>히레카츠</th>\n",
              "      <th>히비스커스</th>\n",
              "      <th>히비스커스레몬</th>\n",
              "      <th>히비스커스애플티</th>\n",
              "      <th>히비스커스후르츠</th>\n",
              "      <th>히야시멘</th>\n",
              "      <th>히츠마부시</th>\n",
              "      <th>히트라떼</th>\n",
              "      <th>힌민들레고기만두</th>\n",
              "    </tr>\n",
              "  </thead>\n",
              "  <tbody>\n",
              "    <tr>\n",
              "      <th>0</th>\n",
              "      <td>0</td>\n",
              "      <td>0</td>\n",
              "      <td>0</td>\n",
              "      <td>0</td>\n",
              "      <td>0</td>\n",
              "      <td>0</td>\n",
              "      <td>0</td>\n",
              "      <td>0</td>\n",
              "      <td>0</td>\n",
              "      <td>0</td>\n",
              "      <td>...</td>\n",
              "      <td>0</td>\n",
              "      <td>0</td>\n",
              "      <td>0</td>\n",
              "      <td>0</td>\n",
              "      <td>0</td>\n",
              "      <td>0</td>\n",
              "      <td>0</td>\n",
              "      <td>0</td>\n",
              "      <td>0</td>\n",
              "      <td>0</td>\n",
              "    </tr>\n",
              "    <tr>\n",
              "      <th>1</th>\n",
              "      <td>0</td>\n",
              "      <td>0</td>\n",
              "      <td>0</td>\n",
              "      <td>0</td>\n",
              "      <td>0</td>\n",
              "      <td>0</td>\n",
              "      <td>0</td>\n",
              "      <td>0</td>\n",
              "      <td>0</td>\n",
              "      <td>0</td>\n",
              "      <td>...</td>\n",
              "      <td>0</td>\n",
              "      <td>0</td>\n",
              "      <td>0</td>\n",
              "      <td>0</td>\n",
              "      <td>0</td>\n",
              "      <td>0</td>\n",
              "      <td>0</td>\n",
              "      <td>0</td>\n",
              "      <td>0</td>\n",
              "      <td>0</td>\n",
              "    </tr>\n",
              "    <tr>\n",
              "      <th>2</th>\n",
              "      <td>0</td>\n",
              "      <td>0</td>\n",
              "      <td>0</td>\n",
              "      <td>0</td>\n",
              "      <td>0</td>\n",
              "      <td>0</td>\n",
              "      <td>0</td>\n",
              "      <td>0</td>\n",
              "      <td>0</td>\n",
              "      <td>0</td>\n",
              "      <td>...</td>\n",
              "      <td>0</td>\n",
              "      <td>0</td>\n",
              "      <td>0</td>\n",
              "      <td>0</td>\n",
              "      <td>0</td>\n",
              "      <td>0</td>\n",
              "      <td>0</td>\n",
              "      <td>0</td>\n",
              "      <td>0</td>\n",
              "      <td>0</td>\n",
              "    </tr>\n",
              "    <tr>\n",
              "      <th>3</th>\n",
              "      <td>0</td>\n",
              "      <td>0</td>\n",
              "      <td>0</td>\n",
              "      <td>0</td>\n",
              "      <td>0</td>\n",
              "      <td>0</td>\n",
              "      <td>0</td>\n",
              "      <td>0</td>\n",
              "      <td>0</td>\n",
              "      <td>0</td>\n",
              "      <td>...</td>\n",
              "      <td>0</td>\n",
              "      <td>0</td>\n",
              "      <td>0</td>\n",
              "      <td>0</td>\n",
              "      <td>0</td>\n",
              "      <td>0</td>\n",
              "      <td>0</td>\n",
              "      <td>0</td>\n",
              "      <td>0</td>\n",
              "      <td>0</td>\n",
              "    </tr>\n",
              "    <tr>\n",
              "      <th>4</th>\n",
              "      <td>0</td>\n",
              "      <td>0</td>\n",
              "      <td>0</td>\n",
              "      <td>0</td>\n",
              "      <td>0</td>\n",
              "      <td>0</td>\n",
              "      <td>0</td>\n",
              "      <td>0</td>\n",
              "      <td>0</td>\n",
              "      <td>0</td>\n",
              "      <td>...</td>\n",
              "      <td>0</td>\n",
              "      <td>0</td>\n",
              "      <td>0</td>\n",
              "      <td>0</td>\n",
              "      <td>0</td>\n",
              "      <td>0</td>\n",
              "      <td>0</td>\n",
              "      <td>0</td>\n",
              "      <td>0</td>\n",
              "      <td>0</td>\n",
              "    </tr>\n",
              "    <tr>\n",
              "      <th>...</th>\n",
              "      <td>...</td>\n",
              "      <td>...</td>\n",
              "      <td>...</td>\n",
              "      <td>...</td>\n",
              "      <td>...</td>\n",
              "      <td>...</td>\n",
              "      <td>...</td>\n",
              "      <td>...</td>\n",
              "      <td>...</td>\n",
              "      <td>...</td>\n",
              "      <td>...</td>\n",
              "      <td>...</td>\n",
              "      <td>...</td>\n",
              "      <td>...</td>\n",
              "      <td>...</td>\n",
              "      <td>...</td>\n",
              "      <td>...</td>\n",
              "      <td>...</td>\n",
              "      <td>...</td>\n",
              "      <td>...</td>\n",
              "      <td>...</td>\n",
              "    </tr>\n",
              "    <tr>\n",
              "      <th>5736</th>\n",
              "      <td>0</td>\n",
              "      <td>0</td>\n",
              "      <td>0</td>\n",
              "      <td>0</td>\n",
              "      <td>0</td>\n",
              "      <td>0</td>\n",
              "      <td>0</td>\n",
              "      <td>0</td>\n",
              "      <td>0</td>\n",
              "      <td>0</td>\n",
              "      <td>...</td>\n",
              "      <td>0</td>\n",
              "      <td>0</td>\n",
              "      <td>0</td>\n",
              "      <td>0</td>\n",
              "      <td>0</td>\n",
              "      <td>0</td>\n",
              "      <td>0</td>\n",
              "      <td>0</td>\n",
              "      <td>0</td>\n",
              "      <td>0</td>\n",
              "    </tr>\n",
              "    <tr>\n",
              "      <th>5737</th>\n",
              "      <td>0</td>\n",
              "      <td>0</td>\n",
              "      <td>0</td>\n",
              "      <td>0</td>\n",
              "      <td>0</td>\n",
              "      <td>0</td>\n",
              "      <td>0</td>\n",
              "      <td>0</td>\n",
              "      <td>0</td>\n",
              "      <td>0</td>\n",
              "      <td>...</td>\n",
              "      <td>0</td>\n",
              "      <td>0</td>\n",
              "      <td>0</td>\n",
              "      <td>0</td>\n",
              "      <td>0</td>\n",
              "      <td>0</td>\n",
              "      <td>0</td>\n",
              "      <td>0</td>\n",
              "      <td>0</td>\n",
              "      <td>0</td>\n",
              "    </tr>\n",
              "    <tr>\n",
              "      <th>5738</th>\n",
              "      <td>0</td>\n",
              "      <td>0</td>\n",
              "      <td>0</td>\n",
              "      <td>0</td>\n",
              "      <td>0</td>\n",
              "      <td>0</td>\n",
              "      <td>0</td>\n",
              "      <td>0</td>\n",
              "      <td>0</td>\n",
              "      <td>0</td>\n",
              "      <td>...</td>\n",
              "      <td>0</td>\n",
              "      <td>0</td>\n",
              "      <td>0</td>\n",
              "      <td>0</td>\n",
              "      <td>0</td>\n",
              "      <td>0</td>\n",
              "      <td>0</td>\n",
              "      <td>0</td>\n",
              "      <td>0</td>\n",
              "      <td>0</td>\n",
              "    </tr>\n",
              "    <tr>\n",
              "      <th>5739</th>\n",
              "      <td>1</td>\n",
              "      <td>0</td>\n",
              "      <td>0</td>\n",
              "      <td>0</td>\n",
              "      <td>0</td>\n",
              "      <td>0</td>\n",
              "      <td>0</td>\n",
              "      <td>0</td>\n",
              "      <td>0</td>\n",
              "      <td>0</td>\n",
              "      <td>...</td>\n",
              "      <td>0</td>\n",
              "      <td>0</td>\n",
              "      <td>0</td>\n",
              "      <td>0</td>\n",
              "      <td>0</td>\n",
              "      <td>0</td>\n",
              "      <td>0</td>\n",
              "      <td>0</td>\n",
              "      <td>0</td>\n",
              "      <td>0</td>\n",
              "    </tr>\n",
              "    <tr>\n",
              "      <th>5740</th>\n",
              "      <td>0</td>\n",
              "      <td>0</td>\n",
              "      <td>0</td>\n",
              "      <td>0</td>\n",
              "      <td>0</td>\n",
              "      <td>0</td>\n",
              "      <td>0</td>\n",
              "      <td>0</td>\n",
              "      <td>0</td>\n",
              "      <td>0</td>\n",
              "      <td>...</td>\n",
              "      <td>0</td>\n",
              "      <td>0</td>\n",
              "      <td>0</td>\n",
              "      <td>0</td>\n",
              "      <td>0</td>\n",
              "      <td>0</td>\n",
              "      <td>0</td>\n",
              "      <td>0</td>\n",
              "      <td>0</td>\n",
              "      <td>0</td>\n",
              "    </tr>\n",
              "  </tbody>\n",
              "</table>\n",
              "<p>5741 rows × 5714 columns</p>\n",
              "</div>\n",
              "      <button class=\"colab-df-convert\" onclick=\"convertToInteractive('df-c699d5de-69ee-4aac-bee1-3eab25725eca')\"\n",
              "              title=\"Convert this dataframe to an interactive table.\"\n",
              "              style=\"display:none;\">\n",
              "        \n",
              "  <svg xmlns=\"http://www.w3.org/2000/svg\" height=\"24px\"viewBox=\"0 0 24 24\"\n",
              "       width=\"24px\">\n",
              "    <path d=\"M0 0h24v24H0V0z\" fill=\"none\"/>\n",
              "    <path d=\"M18.56 5.44l.94 2.06.94-2.06 2.06-.94-2.06-.94-.94-2.06-.94 2.06-2.06.94zm-11 1L8.5 8.5l.94-2.06 2.06-.94-2.06-.94L8.5 2.5l-.94 2.06-2.06.94zm10 10l.94 2.06.94-2.06 2.06-.94-2.06-.94-.94-2.06-.94 2.06-2.06.94z\"/><path d=\"M17.41 7.96l-1.37-1.37c-.4-.4-.92-.59-1.43-.59-.52 0-1.04.2-1.43.59L10.3 9.45l-7.72 7.72c-.78.78-.78 2.05 0 2.83L4 21.41c.39.39.9.59 1.41.59.51 0 1.02-.2 1.41-.59l7.78-7.78 2.81-2.81c.8-.78.8-2.07 0-2.86zM5.41 20L4 18.59l7.72-7.72 1.47 1.35L5.41 20z\"/>\n",
              "  </svg>\n",
              "      </button>\n",
              "      \n",
              "  <style>\n",
              "    .colab-df-container {\n",
              "      display:flex;\n",
              "      flex-wrap:wrap;\n",
              "      gap: 12px;\n",
              "    }\n",
              "\n",
              "    .colab-df-convert {\n",
              "      background-color: #E8F0FE;\n",
              "      border: none;\n",
              "      border-radius: 50%;\n",
              "      cursor: pointer;\n",
              "      display: none;\n",
              "      fill: #1967D2;\n",
              "      height: 32px;\n",
              "      padding: 0 0 0 0;\n",
              "      width: 32px;\n",
              "    }\n",
              "\n",
              "    .colab-df-convert:hover {\n",
              "      background-color: #E2EBFA;\n",
              "      box-shadow: 0px 1px 2px rgba(60, 64, 67, 0.3), 0px 1px 3px 1px rgba(60, 64, 67, 0.15);\n",
              "      fill: #174EA6;\n",
              "    }\n",
              "\n",
              "    [theme=dark] .colab-df-convert {\n",
              "      background-color: #3B4455;\n",
              "      fill: #D2E3FC;\n",
              "    }\n",
              "\n",
              "    [theme=dark] .colab-df-convert:hover {\n",
              "      background-color: #434B5C;\n",
              "      box-shadow: 0px 1px 3px 1px rgba(0, 0, 0, 0.15);\n",
              "      filter: drop-shadow(0px 1px 2px rgba(0, 0, 0, 0.3));\n",
              "      fill: #FFFFFF;\n",
              "    }\n",
              "  </style>\n",
              "\n",
              "      <script>\n",
              "        const buttonEl =\n",
              "          document.querySelector('#df-c699d5de-69ee-4aac-bee1-3eab25725eca button.colab-df-convert');\n",
              "        buttonEl.style.display =\n",
              "          google.colab.kernel.accessAllowed ? 'block' : 'none';\n",
              "\n",
              "        async function convertToInteractive(key) {\n",
              "          const element = document.querySelector('#df-c699d5de-69ee-4aac-bee1-3eab25725eca');\n",
              "          const dataTable =\n",
              "            await google.colab.kernel.invokeFunction('convertToInteractive',\n",
              "                                                     [key], {});\n",
              "          if (!dataTable) return;\n",
              "\n",
              "          const docLinkHtml = 'Like what you see? Visit the ' +\n",
              "            '<a target=\"_blank\" href=https://colab.research.google.com/notebooks/data_table.ipynb>data table notebook</a>'\n",
              "            + ' to learn more about interactive tables.';\n",
              "          element.innerHTML = '';\n",
              "          dataTable['output_type'] = 'display_data';\n",
              "          await google.colab.output.renderOutput(dataTable, element);\n",
              "          const docLink = document.createElement('div');\n",
              "          docLink.innerHTML = docLinkHtml;\n",
              "          element.appendChild(docLink);\n",
              "        }\n",
              "      </script>\n",
              "    </div>\n",
              "  </div>\n",
              "  "
            ]
          },
          "metadata": {},
          "execution_count": 122
        }
      ]
    },
    {
      "cell_type": "code",
      "source": [
        "cosine_menu = pd.DataFrame(cosine_similarity(dt_sample_menu, dt_sample_menu))\n",
        "cosine_menu # 당연 유의미한 결과가 안나온다. 겹치는 단어가 흔치 않을테니. 토크나이징을 해봐야겠다."
      ],
      "metadata": {
        "colab": {
          "base_uri": "https://localhost:8080/",
          "height": 424
        },
        "id": "z7TXFhz2Wu6M",
        "outputId": "caf49492-e298-49b2-cd7c-0a748c697cc2"
      },
      "execution_count": 123,
      "outputs": [
        {
          "output_type": "execute_result",
          "data": {
            "text/plain": [
              "      0     1     2     3     4     5     6     7     8     9     ...  5731  \\\n",
              "0      1.0   0.0   0.0   0.0   0.0   0.0   0.0   0.0   0.0   0.0  ...   0.0   \n",
              "1      0.0   1.0   0.0   0.0   0.0   0.0   0.0   0.0   0.0   0.0  ...   0.0   \n",
              "2      0.0   0.0   1.0   0.0   0.0   0.0   0.0   0.0   0.0   0.0  ...   0.0   \n",
              "3      0.0   0.0   0.0   1.0   0.0   0.0   0.0   0.0   0.0   0.0  ...   0.0   \n",
              "4      0.0   0.0   0.0   0.0   1.0   0.0   0.0   0.0   0.0   0.0  ...   0.0   \n",
              "...    ...   ...   ...   ...   ...   ...   ...   ...   ...   ...  ...   ...   \n",
              "5736   0.0   0.0   0.0   0.0   0.0   0.0   0.0   0.0   0.0   0.0  ...   0.0   \n",
              "5737   0.0   0.0   0.0   0.0   0.0   0.0   0.0   0.0   0.0   0.0  ...   0.0   \n",
              "5738   0.0   0.0   0.0   0.0   0.0   0.0   0.0   0.0   0.0   0.0  ...   0.0   \n",
              "5739   0.0   0.0   0.0   0.0   0.0   0.0   0.0   0.0   0.0   0.0  ...   0.0   \n",
              "5740   0.0   0.0   0.0   0.0   0.0   0.0   0.0   0.0   0.0   0.0  ...   0.0   \n",
              "\n",
              "      5732  5733  5734  5735  5736  5737  5738  5739  5740  \n",
              "0      0.0   0.0   0.0   0.0   0.0   0.0   0.0   0.0   0.0  \n",
              "1      0.0   0.0   0.0   0.0   0.0   0.0   0.0   0.0   0.0  \n",
              "2      0.0   0.0   0.0   0.0   0.0   0.0   0.0   0.0   0.0  \n",
              "3      0.0   0.0   0.0   0.0   0.0   0.0   0.0   0.0   0.0  \n",
              "4      0.0   0.0   0.0   0.0   0.0   0.0   0.0   0.0   0.0  \n",
              "...    ...   ...   ...   ...   ...   ...   ...   ...   ...  \n",
              "5736   0.0   0.0   0.0   0.0   1.0   0.0   0.0   0.0   0.0  \n",
              "5737   0.0   0.0   0.0   0.0   0.0   1.0   0.0   0.0   0.0  \n",
              "5738   0.0   0.0   0.0   0.0   0.0   0.0   1.0   0.0   0.0  \n",
              "5739   0.0   0.0   0.0   0.0   0.0   0.0   0.0   1.0   0.0  \n",
              "5740   0.0   0.0   0.0   0.0   0.0   0.0   0.0   0.0   1.0  \n",
              "\n",
              "[5741 rows x 5741 columns]"
            ],
            "text/html": [
              "\n",
              "  <div id=\"df-261f1087-31c8-4096-920a-b780a03c1d10\">\n",
              "    <div class=\"colab-df-container\">\n",
              "      <div>\n",
              "<style scoped>\n",
              "    .dataframe tbody tr th:only-of-type {\n",
              "        vertical-align: middle;\n",
              "    }\n",
              "\n",
              "    .dataframe tbody tr th {\n",
              "        vertical-align: top;\n",
              "    }\n",
              "\n",
              "    .dataframe thead th {\n",
              "        text-align: right;\n",
              "    }\n",
              "</style>\n",
              "<table border=\"1\" class=\"dataframe\">\n",
              "  <thead>\n",
              "    <tr style=\"text-align: right;\">\n",
              "      <th></th>\n",
              "      <th>0</th>\n",
              "      <th>1</th>\n",
              "      <th>2</th>\n",
              "      <th>3</th>\n",
              "      <th>4</th>\n",
              "      <th>5</th>\n",
              "      <th>6</th>\n",
              "      <th>7</th>\n",
              "      <th>8</th>\n",
              "      <th>9</th>\n",
              "      <th>...</th>\n",
              "      <th>5731</th>\n",
              "      <th>5732</th>\n",
              "      <th>5733</th>\n",
              "      <th>5734</th>\n",
              "      <th>5735</th>\n",
              "      <th>5736</th>\n",
              "      <th>5737</th>\n",
              "      <th>5738</th>\n",
              "      <th>5739</th>\n",
              "      <th>5740</th>\n",
              "    </tr>\n",
              "  </thead>\n",
              "  <tbody>\n",
              "    <tr>\n",
              "      <th>0</th>\n",
              "      <td>1.0</td>\n",
              "      <td>0.0</td>\n",
              "      <td>0.0</td>\n",
              "      <td>0.0</td>\n",
              "      <td>0.0</td>\n",
              "      <td>0.0</td>\n",
              "      <td>0.0</td>\n",
              "      <td>0.0</td>\n",
              "      <td>0.0</td>\n",
              "      <td>0.0</td>\n",
              "      <td>...</td>\n",
              "      <td>0.0</td>\n",
              "      <td>0.0</td>\n",
              "      <td>0.0</td>\n",
              "      <td>0.0</td>\n",
              "      <td>0.0</td>\n",
              "      <td>0.0</td>\n",
              "      <td>0.0</td>\n",
              "      <td>0.0</td>\n",
              "      <td>0.0</td>\n",
              "      <td>0.0</td>\n",
              "    </tr>\n",
              "    <tr>\n",
              "      <th>1</th>\n",
              "      <td>0.0</td>\n",
              "      <td>1.0</td>\n",
              "      <td>0.0</td>\n",
              "      <td>0.0</td>\n",
              "      <td>0.0</td>\n",
              "      <td>0.0</td>\n",
              "      <td>0.0</td>\n",
              "      <td>0.0</td>\n",
              "      <td>0.0</td>\n",
              "      <td>0.0</td>\n",
              "      <td>...</td>\n",
              "      <td>0.0</td>\n",
              "      <td>0.0</td>\n",
              "      <td>0.0</td>\n",
              "      <td>0.0</td>\n",
              "      <td>0.0</td>\n",
              "      <td>0.0</td>\n",
              "      <td>0.0</td>\n",
              "      <td>0.0</td>\n",
              "      <td>0.0</td>\n",
              "      <td>0.0</td>\n",
              "    </tr>\n",
              "    <tr>\n",
              "      <th>2</th>\n",
              "      <td>0.0</td>\n",
              "      <td>0.0</td>\n",
              "      <td>1.0</td>\n",
              "      <td>0.0</td>\n",
              "      <td>0.0</td>\n",
              "      <td>0.0</td>\n",
              "      <td>0.0</td>\n",
              "      <td>0.0</td>\n",
              "      <td>0.0</td>\n",
              "      <td>0.0</td>\n",
              "      <td>...</td>\n",
              "      <td>0.0</td>\n",
              "      <td>0.0</td>\n",
              "      <td>0.0</td>\n",
              "      <td>0.0</td>\n",
              "      <td>0.0</td>\n",
              "      <td>0.0</td>\n",
              "      <td>0.0</td>\n",
              "      <td>0.0</td>\n",
              "      <td>0.0</td>\n",
              "      <td>0.0</td>\n",
              "    </tr>\n",
              "    <tr>\n",
              "      <th>3</th>\n",
              "      <td>0.0</td>\n",
              "      <td>0.0</td>\n",
              "      <td>0.0</td>\n",
              "      <td>1.0</td>\n",
              "      <td>0.0</td>\n",
              "      <td>0.0</td>\n",
              "      <td>0.0</td>\n",
              "      <td>0.0</td>\n",
              "      <td>0.0</td>\n",
              "      <td>0.0</td>\n",
              "      <td>...</td>\n",
              "      <td>0.0</td>\n",
              "      <td>0.0</td>\n",
              "      <td>0.0</td>\n",
              "      <td>0.0</td>\n",
              "      <td>0.0</td>\n",
              "      <td>0.0</td>\n",
              "      <td>0.0</td>\n",
              "      <td>0.0</td>\n",
              "      <td>0.0</td>\n",
              "      <td>0.0</td>\n",
              "    </tr>\n",
              "    <tr>\n",
              "      <th>4</th>\n",
              "      <td>0.0</td>\n",
              "      <td>0.0</td>\n",
              "      <td>0.0</td>\n",
              "      <td>0.0</td>\n",
              "      <td>1.0</td>\n",
              "      <td>0.0</td>\n",
              "      <td>0.0</td>\n",
              "      <td>0.0</td>\n",
              "      <td>0.0</td>\n",
              "      <td>0.0</td>\n",
              "      <td>...</td>\n",
              "      <td>0.0</td>\n",
              "      <td>0.0</td>\n",
              "      <td>0.0</td>\n",
              "      <td>0.0</td>\n",
              "      <td>0.0</td>\n",
              "      <td>0.0</td>\n",
              "      <td>0.0</td>\n",
              "      <td>0.0</td>\n",
              "      <td>0.0</td>\n",
              "      <td>0.0</td>\n",
              "    </tr>\n",
              "    <tr>\n",
              "      <th>...</th>\n",
              "      <td>...</td>\n",
              "      <td>...</td>\n",
              "      <td>...</td>\n",
              "      <td>...</td>\n",
              "      <td>...</td>\n",
              "      <td>...</td>\n",
              "      <td>...</td>\n",
              "      <td>...</td>\n",
              "      <td>...</td>\n",
              "      <td>...</td>\n",
              "      <td>...</td>\n",
              "      <td>...</td>\n",
              "      <td>...</td>\n",
              "      <td>...</td>\n",
              "      <td>...</td>\n",
              "      <td>...</td>\n",
              "      <td>...</td>\n",
              "      <td>...</td>\n",
              "      <td>...</td>\n",
              "      <td>...</td>\n",
              "      <td>...</td>\n",
              "    </tr>\n",
              "    <tr>\n",
              "      <th>5736</th>\n",
              "      <td>0.0</td>\n",
              "      <td>0.0</td>\n",
              "      <td>0.0</td>\n",
              "      <td>0.0</td>\n",
              "      <td>0.0</td>\n",
              "      <td>0.0</td>\n",
              "      <td>0.0</td>\n",
              "      <td>0.0</td>\n",
              "      <td>0.0</td>\n",
              "      <td>0.0</td>\n",
              "      <td>...</td>\n",
              "      <td>0.0</td>\n",
              "      <td>0.0</td>\n",
              "      <td>0.0</td>\n",
              "      <td>0.0</td>\n",
              "      <td>0.0</td>\n",
              "      <td>1.0</td>\n",
              "      <td>0.0</td>\n",
              "      <td>0.0</td>\n",
              "      <td>0.0</td>\n",
              "      <td>0.0</td>\n",
              "    </tr>\n",
              "    <tr>\n",
              "      <th>5737</th>\n",
              "      <td>0.0</td>\n",
              "      <td>0.0</td>\n",
              "      <td>0.0</td>\n",
              "      <td>0.0</td>\n",
              "      <td>0.0</td>\n",
              "      <td>0.0</td>\n",
              "      <td>0.0</td>\n",
              "      <td>0.0</td>\n",
              "      <td>0.0</td>\n",
              "      <td>0.0</td>\n",
              "      <td>...</td>\n",
              "      <td>0.0</td>\n",
              "      <td>0.0</td>\n",
              "      <td>0.0</td>\n",
              "      <td>0.0</td>\n",
              "      <td>0.0</td>\n",
              "      <td>0.0</td>\n",
              "      <td>1.0</td>\n",
              "      <td>0.0</td>\n",
              "      <td>0.0</td>\n",
              "      <td>0.0</td>\n",
              "    </tr>\n",
              "    <tr>\n",
              "      <th>5738</th>\n",
              "      <td>0.0</td>\n",
              "      <td>0.0</td>\n",
              "      <td>0.0</td>\n",
              "      <td>0.0</td>\n",
              "      <td>0.0</td>\n",
              "      <td>0.0</td>\n",
              "      <td>0.0</td>\n",
              "      <td>0.0</td>\n",
              "      <td>0.0</td>\n",
              "      <td>0.0</td>\n",
              "      <td>...</td>\n",
              "      <td>0.0</td>\n",
              "      <td>0.0</td>\n",
              "      <td>0.0</td>\n",
              "      <td>0.0</td>\n",
              "      <td>0.0</td>\n",
              "      <td>0.0</td>\n",
              "      <td>0.0</td>\n",
              "      <td>1.0</td>\n",
              "      <td>0.0</td>\n",
              "      <td>0.0</td>\n",
              "    </tr>\n",
              "    <tr>\n",
              "      <th>5739</th>\n",
              "      <td>0.0</td>\n",
              "      <td>0.0</td>\n",
              "      <td>0.0</td>\n",
              "      <td>0.0</td>\n",
              "      <td>0.0</td>\n",
              "      <td>0.0</td>\n",
              "      <td>0.0</td>\n",
              "      <td>0.0</td>\n",
              "      <td>0.0</td>\n",
              "      <td>0.0</td>\n",
              "      <td>...</td>\n",
              "      <td>0.0</td>\n",
              "      <td>0.0</td>\n",
              "      <td>0.0</td>\n",
              "      <td>0.0</td>\n",
              "      <td>0.0</td>\n",
              "      <td>0.0</td>\n",
              "      <td>0.0</td>\n",
              "      <td>0.0</td>\n",
              "      <td>1.0</td>\n",
              "      <td>0.0</td>\n",
              "    </tr>\n",
              "    <tr>\n",
              "      <th>5740</th>\n",
              "      <td>0.0</td>\n",
              "      <td>0.0</td>\n",
              "      <td>0.0</td>\n",
              "      <td>0.0</td>\n",
              "      <td>0.0</td>\n",
              "      <td>0.0</td>\n",
              "      <td>0.0</td>\n",
              "      <td>0.0</td>\n",
              "      <td>0.0</td>\n",
              "      <td>0.0</td>\n",
              "      <td>...</td>\n",
              "      <td>0.0</td>\n",
              "      <td>0.0</td>\n",
              "      <td>0.0</td>\n",
              "      <td>0.0</td>\n",
              "      <td>0.0</td>\n",
              "      <td>0.0</td>\n",
              "      <td>0.0</td>\n",
              "      <td>0.0</td>\n",
              "      <td>0.0</td>\n",
              "      <td>1.0</td>\n",
              "    </tr>\n",
              "  </tbody>\n",
              "</table>\n",
              "<p>5741 rows × 5741 columns</p>\n",
              "</div>\n",
              "      <button class=\"colab-df-convert\" onclick=\"convertToInteractive('df-261f1087-31c8-4096-920a-b780a03c1d10')\"\n",
              "              title=\"Convert this dataframe to an interactive table.\"\n",
              "              style=\"display:none;\">\n",
              "        \n",
              "  <svg xmlns=\"http://www.w3.org/2000/svg\" height=\"24px\"viewBox=\"0 0 24 24\"\n",
              "       width=\"24px\">\n",
              "    <path d=\"M0 0h24v24H0V0z\" fill=\"none\"/>\n",
              "    <path d=\"M18.56 5.44l.94 2.06.94-2.06 2.06-.94-2.06-.94-.94-2.06-.94 2.06-2.06.94zm-11 1L8.5 8.5l.94-2.06 2.06-.94-2.06-.94L8.5 2.5l-.94 2.06-2.06.94zm10 10l.94 2.06.94-2.06 2.06-.94-2.06-.94-.94-2.06-.94 2.06-2.06.94z\"/><path d=\"M17.41 7.96l-1.37-1.37c-.4-.4-.92-.59-1.43-.59-.52 0-1.04.2-1.43.59L10.3 9.45l-7.72 7.72c-.78.78-.78 2.05 0 2.83L4 21.41c.39.39.9.59 1.41.59.51 0 1.02-.2 1.41-.59l7.78-7.78 2.81-2.81c.8-.78.8-2.07 0-2.86zM5.41 20L4 18.59l7.72-7.72 1.47 1.35L5.41 20z\"/>\n",
              "  </svg>\n",
              "      </button>\n",
              "      \n",
              "  <style>\n",
              "    .colab-df-container {\n",
              "      display:flex;\n",
              "      flex-wrap:wrap;\n",
              "      gap: 12px;\n",
              "    }\n",
              "\n",
              "    .colab-df-convert {\n",
              "      background-color: #E8F0FE;\n",
              "      border: none;\n",
              "      border-radius: 50%;\n",
              "      cursor: pointer;\n",
              "      display: none;\n",
              "      fill: #1967D2;\n",
              "      height: 32px;\n",
              "      padding: 0 0 0 0;\n",
              "      width: 32px;\n",
              "    }\n",
              "\n",
              "    .colab-df-convert:hover {\n",
              "      background-color: #E2EBFA;\n",
              "      box-shadow: 0px 1px 2px rgba(60, 64, 67, 0.3), 0px 1px 3px 1px rgba(60, 64, 67, 0.15);\n",
              "      fill: #174EA6;\n",
              "    }\n",
              "\n",
              "    [theme=dark] .colab-df-convert {\n",
              "      background-color: #3B4455;\n",
              "      fill: #D2E3FC;\n",
              "    }\n",
              "\n",
              "    [theme=dark] .colab-df-convert:hover {\n",
              "      background-color: #434B5C;\n",
              "      box-shadow: 0px 1px 3px 1px rgba(0, 0, 0, 0.15);\n",
              "      filter: drop-shadow(0px 1px 2px rgba(0, 0, 0, 0.3));\n",
              "      fill: #FFFFFF;\n",
              "    }\n",
              "  </style>\n",
              "\n",
              "      <script>\n",
              "        const buttonEl =\n",
              "          document.querySelector('#df-261f1087-31c8-4096-920a-b780a03c1d10 button.colab-df-convert');\n",
              "        buttonEl.style.display =\n",
              "          google.colab.kernel.accessAllowed ? 'block' : 'none';\n",
              "\n",
              "        async function convertToInteractive(key) {\n",
              "          const element = document.querySelector('#df-261f1087-31c8-4096-920a-b780a03c1d10');\n",
              "          const dataTable =\n",
              "            await google.colab.kernel.invokeFunction('convertToInteractive',\n",
              "                                                     [key], {});\n",
              "          if (!dataTable) return;\n",
              "\n",
              "          const docLinkHtml = 'Like what you see? Visit the ' +\n",
              "            '<a target=\"_blank\" href=https://colab.research.google.com/notebooks/data_table.ipynb>data table notebook</a>'\n",
              "            + ' to learn more about interactive tables.';\n",
              "          element.innerHTML = '';\n",
              "          dataTable['output_type'] = 'display_data';\n",
              "          await google.colab.output.renderOutput(dataTable, element);\n",
              "          const docLink = document.createElement('div');\n",
              "          docLink.innerHTML = docLinkHtml;\n",
              "          element.appendChild(docLink);\n",
              "        }\n",
              "      </script>\n",
              "    </div>\n",
              "  </div>\n",
              "  "
            ]
          },
          "metadata": {},
          "execution_count": 123
        }
      ]
    },
    {
      "cell_type": "code",
      "source": [
        "# 한 글자 단위로 토큰화\n",
        "def part_away(string):\n",
        "  temp = ''\n",
        "  for ch in string:\n",
        "    temp += ch\n",
        "    temp += ' '\n",
        "  return temp.rstrip()"
      ],
      "metadata": {
        "id": "YERpSW1JXFYp"
      },
      "execution_count": 124,
      "outputs": []
    },
    {
      "cell_type": "code",
      "source": [
        "df_sample['menu_tokenized'] = df_sample['menu'].apply(part_away)\n",
        "df_sample_token = df_sample['menu_tokenized'].unique()\n",
        "df_sample_token = list(df_sample_token)\n",
        "df_sample_token = [[ch] for ch in df_sample_token]\n",
        "df_sample_token[:10]"
      ],
      "metadata": {
        "colab": {
          "base_uri": "https://localhost:8080/"
        },
        "id": "nAJ2bRSBZ6Ur",
        "outputId": "cb607486-8d39-41eb-da5c-f1aefbc2757e"
      },
      "execution_count": 141,
      "outputs": [
        {
          "output_type": "execute_result",
          "data": {
            "text/plain": [
              "[['버 드 와 이 저'],\n",
              " ['소 한 마 리 해 장 국'],\n",
              " ['콜 드 브 루 라 떼'],\n",
              " ['순 대 만 주 문 시'],\n",
              " ['더 치 바 닐 라 라 떼'],\n",
              " ['해 바 라 기 후 라 이 드'],\n",
              " ['쫄 면'],\n",
              " ['딸 기 에 이 드'],\n",
              " ['콜 드 브 루 헤 이 즐 넛 라 떼'],\n",
              " ['생 고 기 목 살']]"
            ]
          },
          "metadata": {},
          "execution_count": 141
        }
      ]
    },
    {
      "cell_type": "code",
      "source": [
        "menu_vocabulary = set([k for s in df_sample_token for w in s for k in w])\n",
        "menu_vocabulary"
      ],
      "metadata": {
        "id": "BiodJJ_AeXdo"
      },
      "execution_count": null,
      "outputs": []
    },
    {
      "cell_type": "code",
      "source": [
        "lb = MultiLabelBinarizer()\n",
        "lb.fit(menu_vocabulary) # 단어사전만 리스트로 형태로 넣어보렴"
      ],
      "metadata": {
        "colab": {
          "base_uri": "https://localhost:8080/"
        },
        "id": "oilen2wVl6UP",
        "outputId": "0482dfb0-c0f5-418b-d5e0-15c6f9ea847b"
      },
      "execution_count": 161,
      "outputs": [
        {
          "output_type": "execute_result",
          "data": {
            "text/plain": [
              "MultiLabelBinarizer()"
            ]
          },
          "metadata": {},
          "execution_count": 161
        }
      ]
    },
    {
      "cell_type": "code",
      "source": [
        "sim1 = lb.transform(['가 락 우 동'])\n",
        "sim2 = lb.transform(['가 락 국 수'])"
      ],
      "metadata": {
        "id": "r9JJ7MNNnJ5z"
      },
      "execution_count": 168,
      "outputs": []
    },
    {
      "cell_type": "code",
      "source": [
        "cosine_similarity(sim1, sim2)"
      ],
      "metadata": {
        "colab": {
          "base_uri": "https://localhost:8080/"
        },
        "id": "BwWs1fE1nOOJ",
        "outputId": "df3641dc-c30a-4daa-a3eb-4dea8010b634"
      },
      "execution_count": 169,
      "outputs": [
        {
          "output_type": "execute_result",
          "data": {
            "text/plain": [
              "array([[0.6]])"
            ]
          },
          "metadata": {},
          "execution_count": 169
        }
      ]
    },
    {
      "cell_type": "code",
      "source": [
        "sim1 = lb.transform(['짜장면'])\n",
        "sim2 = lb.transform(['해물짜장'])\n",
        "cosine_similarity(sim1, sim2)"
      ],
      "metadata": {
        "colab": {
          "base_uri": "https://localhost:8080/"
        },
        "id": "OHKCTZi2nlBw",
        "outputId": "9d43eabf-953c-448e-91f8-373b59e109bc"
      },
      "execution_count": 181,
      "outputs": [
        {
          "output_type": "execute_result",
          "data": {
            "text/plain": [
              "array([[0.57735027]])"
            ]
          },
          "metadata": {},
          "execution_count": 181
        }
      ]
    },
    {
      "cell_type": "code",
      "source": [],
      "metadata": {
        "id": "7g2Vz5qLn0Ho"
      },
      "execution_count": null,
      "outputs": []
    }
  ]
}