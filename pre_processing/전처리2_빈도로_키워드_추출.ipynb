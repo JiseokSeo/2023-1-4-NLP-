{
  "nbformat": 4,
  "nbformat_minor": 0,
  "metadata": {
    "colab": {
      "provenance": [],
      "authorship_tag": "ABX9TyM71YSDbVv1YisbbnegEbjf",
      "include_colab_link": true
    },
    "kernelspec": {
      "name": "python3",
      "display_name": "Python 3"
    },
    "language_info": {
      "name": "python"
    }
  },
  "cells": [
    {
      "cell_type": "markdown",
      "metadata": {
        "id": "view-in-github",
        "colab_type": "text"
      },
      "source": [
        "<a href=\"https://colab.research.google.com/github/JiseokSeo/-I-studied-/blob/main/%EC%A0%84%EC%B2%98%EB%A6%AC1_%EB%B9%88%EB%8F%84%EB%A1%9C_%ED%82%A4%EC%9B%8C%EB%93%9C_%EC%B6%94%EC%B6%9C.ipynb\" target=\"_parent\"><img src=\"https://colab.research.google.com/assets/colab-badge.svg\" alt=\"Open In Colab\"/></a>"
      ]
    },
    {
      "cell_type": "markdown",
      "source": [
        "## 인사이트\n",
        "\n",
        "점수가 많이 변하지는 않았다. (0.86 -> 0.88)  \n",
        "접근 방법 자체는 나쁘지 않은 듯.  \n",
        "아마 지저분한 데이터를 만나게 된다면 성능이 오를 것 같다.  \n",
        "직접 메모장을 열어보니 new_title이 공백인 경우가 있었다.  \n",
        "이를 보정하기 위해 적절한 커트라인 설정이 필요해보인다.\n",
        "보정이 된다면 점수가 더 오를 것 같다. \n",
        "\n",
        "## 후속연구  \n",
        "접근법 자체는 틀린 것 같지 않아보인다.  \n",
        "과감하게 title을 건들여도 성능에 큰 악영향이 없다.  \n",
        "최빈값 순으로 짤랐지만, 뽀로로나 td-idf같은 벡터화 기법을 사용하면 성능이 더 오를 것으로 보인다.\n",
        "\n"
      ],
      "metadata": {
        "id": "Vee5nU8CVzcE"
      }
    },
    {
      "cell_type": "markdown",
      "source": [
        "### 핵심 아이디어  :\n",
        "키워드 N개를 제외하고 전부 삭제한다\n",
        "\n",
        "1. 키워드를 어떻게 찾을 것인가?  \n",
        "  ㄱ. td-idf  \n",
        "  ㄴ. 뽀로로 라이브러리   \n",
        "  ㄷ. 벡터라이즈하고 벡터의 평균  \n",
        "  ㄹ. 최빈값 순으로 자르기  \n",
        "\n",
        "2. 키워드를 찾되 무엇과 비교하여 키워드를 찾아야 하는가?  \n",
        "  ㄱ. 타이틀 - 카테고리  \n",
        "  ㄴ. 타이틀 - 카테고리 전체 벡터의 평균  \n",
        "  ㄷ. 타이틀 내에서 비교  \n",
        "  ㄹ. 타이틀 전체 벡터의 평균  \n",
        "\n",
        "3. 키워드를 몇 개 남겨야 하는가?  \n",
        "  ㄱ. 실험적으로 하나씩 늘려본다  \n",
        "  ㄴ. 그러나 카테고리 별로 다르게 접근한다  \n",
        "\n",
        "4. 어떻게 평가할 것인가?  \n",
        "  ㄱ. 기본적으로 정확도를 본다  \n",
        "  ㄴ. 오차행렬을 그려 특히 못 분류하는 내용을 중점으로 개선작업  "
      ],
      "metadata": {
        "id": "gtvlasyJkLBC"
      }
    },
    {
      "cell_type": "code",
      "source": [
        "# !pip install --upgrade pip\n",
        "# !pip install konlpy\n",
        "# !pip install pororo\n",
        "# !pip install fasttext\n",
        "# !pip install hgtk\n",
        "# !curl -s https://raw.githubusercontent.com/teddylee777/machine-learning/master/99-Misc/01-Colab/mecab-colab.sh | bash\n",
        "\n",
        "# !sudo apt-get install -y fonts-nanum\n",
        "# !sudo fc-cache -fv\n",
        "# !rm ~/.cache/matplotlib -rf"
      ],
      "metadata": {
        "id": "AwjEMXWtlHjs"
      },
      "execution_count": 503,
      "outputs": []
    },
    {
      "cell_type": "code",
      "source": [
        "import pandas as pd\n",
        "import numpy as np\n",
        "from sklearn.model_selection import train_test_split"
      ],
      "metadata": {
        "id": "G35dRJM7lLP7"
      },
      "execution_count": 504,
      "outputs": []
    },
    {
      "cell_type": "code",
      "source": [
        "# 우선 코코아 데이터셋으로만 연구를 진행해보겠습니다\n",
        "# 원시데이터들을 하나씩 불러온 흔적들입니다\n",
        "\n",
        "df3 = pd.read_csv('cocoa.csv', encoding='utf-8', index_col=0)\n",
        "df3 = pd.read_csv('coffee.csv', encoding='utf-8', index_col=0)\n",
        "df3 = pd.read_csv('mealkit.csv', encoding='utf-8', index_col=0)\n",
        "# df4 = pd.read_csv('naverAPI.csv', encoding='utf-8', index_col=0)\n",
        "df5 = pd.read_csv('rice.csv', encoding='utf-8', index_col=0)\n",
        "df6 = pd.read_csv('salad.csv', encoding='utf-8', index_col=0)\n",
        "df11 = pd.read_csv('simple.csv', encoding='utf-8', index_col=0)\n",
        "df11 = pd.read_csv('snack.csv', encoding='utf-8', index_col=0)\n",
        "df11 = pd.read_csv('tea1.csv', encoding='utf-8', index_col=0)\n",
        "df30 = pd.read_csv('tea2.csv', encoding='utf-8', index_col=0)\n",
        "df31 = pd.read_csv('water.csv', encoding='utf-8', index_col=0)"
      ],
      "metadata": {
        "id": "h_uwx6HPnSil"
      },
      "execution_count": 264,
      "outputs": []
    },
    {
      "cell_type": "code",
      "source": [
        "#1, 최빈값으로 키워드 검색해보기\n",
        "import nltk\n",
        "from konlpy.tag import Okt\n",
        "from tqdm import tqdm\n",
        "t = Okt()\n",
        "\n",
        "# 명사만 추출\n",
        "titles = df11['title'].tolist()\n",
        "titles = [t.nouns(ch) for ch in tqdm(titles)]"
      ],
      "metadata": {
        "colab": {
          "base_uri": "https://localhost:8080/"
        },
        "id": "buWTXpDtpAFm",
        "outputId": "e578b883-051a-4aac-fe16-daf9e4a62dc7"
      },
      "execution_count": 363,
      "outputs": [
        {
          "output_type": "stream",
          "name": "stderr",
          "text": [
            "100%|██████████| 20145/20145 [00:35<00:00, 570.55it/s]\n"
          ]
        }
      ]
    },
    {
      "cell_type": "code",
      "source": [
        "titles[0:9]"
      ],
      "metadata": {
        "colab": {
          "base_uri": "https://localhost:8080/"
        },
        "id": "1k0BmlJ-sQF3",
        "outputId": "191638e7-bb18-4b2f-e46c-8e3e75ff32c6"
      },
      "execution_count": 364,
      "outputs": [
        {
          "output_type": "execute_result",
          "data": {
            "text/plain": [
              "[['천년', '동안', '해양심층수', '에코', '개입', '무', '라벨', '천년', '건강', '생수', '천년', '동안'],\n",
              " ['천년', '동안', '해양심층수', '에코', '개입', '무', '라벨', '천년', '건강', '생수', '천년', '동안'],\n",
              " ['평점', '경도', '미네랄', '워터', '음료', '닥터'],\n",
              " ['스파', '무', '라벨'],\n",
              " ['스파', '무', '라벨'],\n",
              " ['에프', '앤비', '동원', '샘물'],\n",
              " ['광동', '직영', '삼다수', '개입', '유', '무', '라벨', '랜덤', '발송'],\n",
              " ['농심', '산수', '무', '라벨'],\n",
              " ['에프', '앤비', '동원', '샘물', '무', '라벨']]"
            ]
          },
          "metadata": {},
          "execution_count": 364
        }
      ]
    },
    {
      "cell_type": "code",
      "source": [
        "# 명사들 빈도 파악\n",
        "count_dict = {}\n",
        "for i in tqdm(titles):\n",
        "  for j in i:\n",
        "    if j not in count_dict:\n",
        "      count_dict[j] = 1\n",
        "    else:\n",
        "      count_dict[j] += 1"
      ],
      "metadata": {
        "colab": {
          "base_uri": "https://localhost:8080/"
        },
        "id": "QWqegByPp0Q-",
        "outputId": "45ddff4e-af42-4775-812e-96da19832f77"
      },
      "execution_count": 365,
      "outputs": [
        {
          "output_type": "stream",
          "name": "stderr",
          "text": [
            "100%|██████████| 20145/20145 [00:00<00:00, 204007.64it/s]\n"
          ]
        }
      ]
    },
    {
      "cell_type": "code",
      "source": [
        "# 빈도를 파악하여 일정 빈도수 이하의 단어들을 모두 거른다 \n",
        "items = count_dict.items()\n",
        "sorted_items = sorted(items, key=lambda x: x[1], reverse=True)\n",
        "\n",
        "cut_line = int(len(sorted_items) / 20) # 빈도 상위 5퍼센트의 단어만 선택\n",
        "outliner_vocab = [k for k, v in sorted_items[:cut_line]]"
      ],
      "metadata": {
        "id": "bbwKPhqCwN73"
      },
      "execution_count": 366,
      "outputs": []
    },
    {
      "cell_type": "code",
      "source": [
        "outliner_vocab[:10] # 거름사전"
      ],
      "metadata": {
        "colab": {
          "base_uri": "https://localhost:8080/"
        },
        "id": "iCaX58TjJBV-",
        "outputId": "8d647b93-2c04-409f-e858-bc406f70bf6b"
      },
      "execution_count": 367,
      "outputs": [
        {
          "output_type": "execute_result",
          "data": {
            "text/plain": [
              "['개', '제로', '캔', '팩', '두유', '병', '우유', '음료', '콩', '박스']"
            ]
          },
          "metadata": {},
          "execution_count": 367
        }
      ]
    },
    {
      "cell_type": "code",
      "source": [
        "# '거름 사전'에 없는 단어들 모두 삭제\n",
        "new_titles = []\n",
        "\n",
        "for title in titles:\n",
        "  temp_list = []\n",
        "\n",
        "  for vocab in title:\n",
        "    if vocab in outliner_vocab:\n",
        "      temp_list.append(vocab)\n",
        "\n",
        "  new_titles.append(temp_list)"
      ],
      "metadata": {
        "id": "C8K9cbmhzHf9"
      },
      "execution_count": 368,
      "outputs": []
    },
    {
      "cell_type": "code",
      "source": [
        "# 아웃라이어 단어가 걸러진 제목들 비교\n",
        "new_titles[0:4], titles[0:4]"
      ],
      "metadata": {
        "colab": {
          "base_uri": "https://localhost:8080/"
        },
        "id": "mp-lT6lW0oWc",
        "outputId": "3a91cdb3-42bf-4e57-b4f6-2a7cb16c6cd9"
      },
      "execution_count": 369,
      "outputs": [
        {
          "output_type": "execute_result",
          "data": {
            "text/plain": [
              "([['개입', '무', '라벨', '건강', '생수'],\n",
              "  ['개입', '무', '라벨', '건강', '생수'],\n",
              "  ['미네랄', '워터', '음료'],\n",
              "  ['스파', '무', '라벨']],\n",
              " [['천년', '동안', '해양심층수', '에코', '개입', '무', '라벨', '천년', '건강', '생수', '천년', '동안'],\n",
              "  ['천년', '동안', '해양심층수', '에코', '개입', '무', '라벨', '천년', '건강', '생수', '천년', '동안'],\n",
              "  ['평점', '경도', '미네랄', '워터', '음료', '닥터'],\n",
              "  ['스파', '무', '라벨']])"
            ]
          },
          "metadata": {},
          "execution_count": 369
        }
      ]
    },
    {
      "cell_type": "code",
      "source": [
        "# df 최신화\n",
        "df11['new_title'] = new_titles"
      ],
      "metadata": {
        "id": "joOFCdqq1aoC"
      },
      "execution_count": 370,
      "outputs": []
    },
    {
      "cell_type": "code",
      "source": [
        "df11.head(3)"
      ],
      "metadata": {
        "colab": {
          "base_uri": "https://localhost:8080/",
          "height": 143
        },
        "id": "8qk_7QS31JsH",
        "outputId": "1f142151-3d31-4ace-c630-7448be1255ab"
      },
      "execution_count": 422,
      "outputs": [
        {
          "output_type": "execute_result",
          "data": {
            "text/plain": [
              "                                               title   cat1 cat2    price  \\\n",
              "0  [천년동안] 해양심층수 에코 350ml 20개입 무라벨 천년을 돌아 깨끗함을 넘어 ...  생수/음료   생수  16,000원   \n",
              "1  [천년동안] 해양심층수 에코 1.2L 9개입 무라벨 천년을 돌아 깨끗함을 넘어 건강...  생수/음료   생수  12,240원   \n",
              "2                          평점 4.9 경도210 미네랄워터 음료 닥터M  생수/음료   생수  99,500원   \n",
              "\n",
              "               new_title  \n",
              "0  [단위단위, 무, 라벨, 건강, 생수]  \n",
              "1  [단위단위, 무, 라벨, 건강, 생수]  \n",
              "2          [미네랄, 워터, 음료]  "
            ],
            "text/html": [
              "\n",
              "  <div id=\"df-53685baf-c1ae-4a49-bb47-8506de339609\">\n",
              "    <div class=\"colab-df-container\">\n",
              "      <div>\n",
              "<style scoped>\n",
              "    .dataframe tbody tr th:only-of-type {\n",
              "        vertical-align: middle;\n",
              "    }\n",
              "\n",
              "    .dataframe tbody tr th {\n",
              "        vertical-align: top;\n",
              "    }\n",
              "\n",
              "    .dataframe thead th {\n",
              "        text-align: right;\n",
              "    }\n",
              "</style>\n",
              "<table border=\"1\" class=\"dataframe\">\n",
              "  <thead>\n",
              "    <tr style=\"text-align: right;\">\n",
              "      <th></th>\n",
              "      <th>title</th>\n",
              "      <th>cat1</th>\n",
              "      <th>cat2</th>\n",
              "      <th>price</th>\n",
              "      <th>new_title</th>\n",
              "    </tr>\n",
              "  </thead>\n",
              "  <tbody>\n",
              "    <tr>\n",
              "      <th>0</th>\n",
              "      <td>[천년동안] 해양심층수 에코 350ml 20개입 무라벨 천년을 돌아 깨끗함을 넘어 ...</td>\n",
              "      <td>생수/음료</td>\n",
              "      <td>생수</td>\n",
              "      <td>16,000원</td>\n",
              "      <td>[단위단위, 무, 라벨, 건강, 생수]</td>\n",
              "    </tr>\n",
              "    <tr>\n",
              "      <th>1</th>\n",
              "      <td>[천년동안] 해양심층수 에코 1.2L 9개입 무라벨 천년을 돌아 깨끗함을 넘어 건강...</td>\n",
              "      <td>생수/음료</td>\n",
              "      <td>생수</td>\n",
              "      <td>12,240원</td>\n",
              "      <td>[단위단위, 무, 라벨, 건강, 생수]</td>\n",
              "    </tr>\n",
              "    <tr>\n",
              "      <th>2</th>\n",
              "      <td>평점 4.9 경도210 미네랄워터 음료 닥터M</td>\n",
              "      <td>생수/음료</td>\n",
              "      <td>생수</td>\n",
              "      <td>99,500원</td>\n",
              "      <td>[미네랄, 워터, 음료]</td>\n",
              "    </tr>\n",
              "  </tbody>\n",
              "</table>\n",
              "</div>\n",
              "      <button class=\"colab-df-convert\" onclick=\"convertToInteractive('df-53685baf-c1ae-4a49-bb47-8506de339609')\"\n",
              "              title=\"Convert this dataframe to an interactive table.\"\n",
              "              style=\"display:none;\">\n",
              "        \n",
              "  <svg xmlns=\"http://www.w3.org/2000/svg\" height=\"24px\"viewBox=\"0 0 24 24\"\n",
              "       width=\"24px\">\n",
              "    <path d=\"M0 0h24v24H0V0z\" fill=\"none\"/>\n",
              "    <path d=\"M18.56 5.44l.94 2.06.94-2.06 2.06-.94-2.06-.94-.94-2.06-.94 2.06-2.06.94zm-11 1L8.5 8.5l.94-2.06 2.06-.94-2.06-.94L8.5 2.5l-.94 2.06-2.06.94zm10 10l.94 2.06.94-2.06 2.06-.94-2.06-.94-.94-2.06-.94 2.06-2.06.94z\"/><path d=\"M17.41 7.96l-1.37-1.37c-.4-.4-.92-.59-1.43-.59-.52 0-1.04.2-1.43.59L10.3 9.45l-7.72 7.72c-.78.78-.78 2.05 0 2.83L4 21.41c.39.39.9.59 1.41.59.51 0 1.02-.2 1.41-.59l7.78-7.78 2.81-2.81c.8-.78.8-2.07 0-2.86zM5.41 20L4 18.59l7.72-7.72 1.47 1.35L5.41 20z\"/>\n",
              "  </svg>\n",
              "      </button>\n",
              "      \n",
              "  <style>\n",
              "    .colab-df-container {\n",
              "      display:flex;\n",
              "      flex-wrap:wrap;\n",
              "      gap: 12px;\n",
              "    }\n",
              "\n",
              "    .colab-df-convert {\n",
              "      background-color: #E8F0FE;\n",
              "      border: none;\n",
              "      border-radius: 50%;\n",
              "      cursor: pointer;\n",
              "      display: none;\n",
              "      fill: #1967D2;\n",
              "      height: 32px;\n",
              "      padding: 0 0 0 0;\n",
              "      width: 32px;\n",
              "    }\n",
              "\n",
              "    .colab-df-convert:hover {\n",
              "      background-color: #E2EBFA;\n",
              "      box-shadow: 0px 1px 2px rgba(60, 64, 67, 0.3), 0px 1px 3px 1px rgba(60, 64, 67, 0.15);\n",
              "      fill: #174EA6;\n",
              "    }\n",
              "\n",
              "    [theme=dark] .colab-df-convert {\n",
              "      background-color: #3B4455;\n",
              "      fill: #D2E3FC;\n",
              "    }\n",
              "\n",
              "    [theme=dark] .colab-df-convert:hover {\n",
              "      background-color: #434B5C;\n",
              "      box-shadow: 0px 1px 3px 1px rgba(0, 0, 0, 0.15);\n",
              "      filter: drop-shadow(0px 1px 2px rgba(0, 0, 0, 0.3));\n",
              "      fill: #FFFFFF;\n",
              "    }\n",
              "  </style>\n",
              "\n",
              "      <script>\n",
              "        const buttonEl =\n",
              "          document.querySelector('#df-53685baf-c1ae-4a49-bb47-8506de339609 button.colab-df-convert');\n",
              "        buttonEl.style.display =\n",
              "          google.colab.kernel.accessAllowed ? 'block' : 'none';\n",
              "\n",
              "        async function convertToInteractive(key) {\n",
              "          const element = document.querySelector('#df-53685baf-c1ae-4a49-bb47-8506de339609');\n",
              "          const dataTable =\n",
              "            await google.colab.kernel.invokeFunction('convertToInteractive',\n",
              "                                                     [key], {});\n",
              "          if (!dataTable) return;\n",
              "\n",
              "          const docLinkHtml = 'Like what you see? Visit the ' +\n",
              "            '<a target=\"_blank\" href=https://colab.research.google.com/notebooks/data_table.ipynb>data table notebook</a>'\n",
              "            + ' to learn more about interactive tables.';\n",
              "          element.innerHTML = '';\n",
              "          dataTable['output_type'] = 'display_data';\n",
              "          await google.colab.output.renderOutput(dataTable, element);\n",
              "          const docLink = document.createElement('div');\n",
              "          docLink.innerHTML = docLinkHtml;\n",
              "          element.appendChild(docLink);\n",
              "        }\n",
              "      </script>\n",
              "    </div>\n",
              "  </div>\n",
              "  "
            ]
          },
          "metadata": {},
          "execution_count": 422
        }
      ]
    },
    {
      "cell_type": "code",
      "source": [
        "def remove_specific_string(x):\n",
        "    if isinstance(x, list):\n",
        "        return [re.sub(r'개|팩|입|봉|병|봉지|잔|상자|박스|BOX|box|Box|ea', '단위', val) for val in x]\n",
        "    return x\n",
        "\n",
        "df11['new_title'] = df11['new_title'].apply(remove_specific_string)"
      ],
      "metadata": {
        "id": "3hAcXvFL1fWS"
      },
      "execution_count": 372,
      "outputs": []
    },
    {
      "cell_type": "code",
      "source": [
        "df11['new_title'][0]"
      ],
      "metadata": {
        "colab": {
          "base_uri": "https://localhost:8080/"
        },
        "id": "JjKVc9uVC_Ui",
        "outputId": "f506d41c-b9c3-4e39-9355-4d494f711b09"
      },
      "execution_count": 373,
      "outputs": [
        {
          "output_type": "execute_result",
          "data": {
            "text/plain": [
              "['단위단위', '무', '라벨', '건강', '생수']"
            ]
          },
          "metadata": {},
          "execution_count": 373
        }
      ]
    },
    {
      "cell_type": "code",
      "source": [
        "df11.head(3)"
      ],
      "metadata": {
        "colab": {
          "base_uri": "https://localhost:8080/",
          "height": 143
        },
        "id": "FjmVwp1-BH7q",
        "outputId": "b1927992-ed7d-48e5-daa3-96736465da53"
      },
      "execution_count": 374,
      "outputs": [
        {
          "output_type": "execute_result",
          "data": {
            "text/plain": [
              "                                               title   cat1 cat2    price  \\\n",
              "0  [천년동안] 해양심층수 에코 350ml 20개입 무라벨 천년을 돌아 깨끗함을 넘어 ...  생수/음료   생수  16,000원   \n",
              "1  [천년동안] 해양심층수 에코 1.2L 9개입 무라벨 천년을 돌아 깨끗함을 넘어 건강...  생수/음료   생수  12,240원   \n",
              "2                          평점 4.9 경도210 미네랄워터 음료 닥터M  생수/음료   생수  99,500원   \n",
              "\n",
              "               new_title  \n",
              "0  [단위단위, 무, 라벨, 건강, 생수]  \n",
              "1  [단위단위, 무, 라벨, 건강, 생수]  \n",
              "2          [미네랄, 워터, 음료]  "
            ],
            "text/html": [
              "\n",
              "  <div id=\"df-c42190e1-6f56-4bde-870b-54917b43cd3e\">\n",
              "    <div class=\"colab-df-container\">\n",
              "      <div>\n",
              "<style scoped>\n",
              "    .dataframe tbody tr th:only-of-type {\n",
              "        vertical-align: middle;\n",
              "    }\n",
              "\n",
              "    .dataframe tbody tr th {\n",
              "        vertical-align: top;\n",
              "    }\n",
              "\n",
              "    .dataframe thead th {\n",
              "        text-align: right;\n",
              "    }\n",
              "</style>\n",
              "<table border=\"1\" class=\"dataframe\">\n",
              "  <thead>\n",
              "    <tr style=\"text-align: right;\">\n",
              "      <th></th>\n",
              "      <th>title</th>\n",
              "      <th>cat1</th>\n",
              "      <th>cat2</th>\n",
              "      <th>price</th>\n",
              "      <th>new_title</th>\n",
              "    </tr>\n",
              "  </thead>\n",
              "  <tbody>\n",
              "    <tr>\n",
              "      <th>0</th>\n",
              "      <td>[천년동안] 해양심층수 에코 350ml 20개입 무라벨 천년을 돌아 깨끗함을 넘어 ...</td>\n",
              "      <td>생수/음료</td>\n",
              "      <td>생수</td>\n",
              "      <td>16,000원</td>\n",
              "      <td>[단위단위, 무, 라벨, 건강, 생수]</td>\n",
              "    </tr>\n",
              "    <tr>\n",
              "      <th>1</th>\n",
              "      <td>[천년동안] 해양심층수 에코 1.2L 9개입 무라벨 천년을 돌아 깨끗함을 넘어 건강...</td>\n",
              "      <td>생수/음료</td>\n",
              "      <td>생수</td>\n",
              "      <td>12,240원</td>\n",
              "      <td>[단위단위, 무, 라벨, 건강, 생수]</td>\n",
              "    </tr>\n",
              "    <tr>\n",
              "      <th>2</th>\n",
              "      <td>평점 4.9 경도210 미네랄워터 음료 닥터M</td>\n",
              "      <td>생수/음료</td>\n",
              "      <td>생수</td>\n",
              "      <td>99,500원</td>\n",
              "      <td>[미네랄, 워터, 음료]</td>\n",
              "    </tr>\n",
              "  </tbody>\n",
              "</table>\n",
              "</div>\n",
              "      <button class=\"colab-df-convert\" onclick=\"convertToInteractive('df-c42190e1-6f56-4bde-870b-54917b43cd3e')\"\n",
              "              title=\"Convert this dataframe to an interactive table.\"\n",
              "              style=\"display:none;\">\n",
              "        \n",
              "  <svg xmlns=\"http://www.w3.org/2000/svg\" height=\"24px\"viewBox=\"0 0 24 24\"\n",
              "       width=\"24px\">\n",
              "    <path d=\"M0 0h24v24H0V0z\" fill=\"none\"/>\n",
              "    <path d=\"M18.56 5.44l.94 2.06.94-2.06 2.06-.94-2.06-.94-.94-2.06-.94 2.06-2.06.94zm-11 1L8.5 8.5l.94-2.06 2.06-.94-2.06-.94L8.5 2.5l-.94 2.06-2.06.94zm10 10l.94 2.06.94-2.06 2.06-.94-2.06-.94-.94-2.06-.94 2.06-2.06.94z\"/><path d=\"M17.41 7.96l-1.37-1.37c-.4-.4-.92-.59-1.43-.59-.52 0-1.04.2-1.43.59L10.3 9.45l-7.72 7.72c-.78.78-.78 2.05 0 2.83L4 21.41c.39.39.9.59 1.41.59.51 0 1.02-.2 1.41-.59l7.78-7.78 2.81-2.81c.8-.78.8-2.07 0-2.86zM5.41 20L4 18.59l7.72-7.72 1.47 1.35L5.41 20z\"/>\n",
              "  </svg>\n",
              "      </button>\n",
              "      \n",
              "  <style>\n",
              "    .colab-df-container {\n",
              "      display:flex;\n",
              "      flex-wrap:wrap;\n",
              "      gap: 12px;\n",
              "    }\n",
              "\n",
              "    .colab-df-convert {\n",
              "      background-color: #E8F0FE;\n",
              "      border: none;\n",
              "      border-radius: 50%;\n",
              "      cursor: pointer;\n",
              "      display: none;\n",
              "      fill: #1967D2;\n",
              "      height: 32px;\n",
              "      padding: 0 0 0 0;\n",
              "      width: 32px;\n",
              "    }\n",
              "\n",
              "    .colab-df-convert:hover {\n",
              "      background-color: #E2EBFA;\n",
              "      box-shadow: 0px 1px 2px rgba(60, 64, 67, 0.3), 0px 1px 3px 1px rgba(60, 64, 67, 0.15);\n",
              "      fill: #174EA6;\n",
              "    }\n",
              "\n",
              "    [theme=dark] .colab-df-convert {\n",
              "      background-color: #3B4455;\n",
              "      fill: #D2E3FC;\n",
              "    }\n",
              "\n",
              "    [theme=dark] .colab-df-convert:hover {\n",
              "      background-color: #434B5C;\n",
              "      box-shadow: 0px 1px 3px 1px rgba(0, 0, 0, 0.15);\n",
              "      filter: drop-shadow(0px 1px 2px rgba(0, 0, 0, 0.3));\n",
              "      fill: #FFFFFF;\n",
              "    }\n",
              "  </style>\n",
              "\n",
              "      <script>\n",
              "        const buttonEl =\n",
              "          document.querySelector('#df-c42190e1-6f56-4bde-870b-54917b43cd3e button.colab-df-convert');\n",
              "        buttonEl.style.display =\n",
              "          google.colab.kernel.accessAllowed ? 'block' : 'none';\n",
              "\n",
              "        async function convertToInteractive(key) {\n",
              "          const element = document.querySelector('#df-c42190e1-6f56-4bde-870b-54917b43cd3e');\n",
              "          const dataTable =\n",
              "            await google.colab.kernel.invokeFunction('convertToInteractive',\n",
              "                                                     [key], {});\n",
              "          if (!dataTable) return;\n",
              "\n",
              "          const docLinkHtml = 'Like what you see? Visit the ' +\n",
              "            '<a target=\"_blank\" href=https://colab.research.google.com/notebooks/data_table.ipynb>data table notebook</a>'\n",
              "            + ' to learn more about interactive tables.';\n",
              "          element.innerHTML = '';\n",
              "          dataTable['output_type'] = 'display_data';\n",
              "          await google.colab.output.renderOutput(dataTable, element);\n",
              "          const docLink = document.createElement('div');\n",
              "          docLink.innerHTML = docLinkHtml;\n",
              "          element.appendChild(docLink);\n",
              "        }\n",
              "      </script>\n",
              "    </div>\n",
              "  </div>\n",
              "  "
            ]
          },
          "metadata": {},
          "execution_count": 374
        }
      ]
    },
    {
      "cell_type": "code",
      "source": [
        "## 전체를 자동화하는법을 몰라서 일단 노가다를 해봤다.\n",
        "df = pd.concat([df1, df2, df3, df5, df6, df7, df8, df9, df10, df11])\n",
        "df.reset_index(inplace=True)"
      ],
      "metadata": {
        "id": "HJvQIQv_DbpZ"
      },
      "execution_count": 421,
      "outputs": []
    },
    {
      "cell_type": "code",
      "source": [
        "df.head(3)"
      ],
      "metadata": {
        "colab": {
          "base_uri": "https://localhost:8080/",
          "height": 143
        },
        "id": "jMGECd2wN1jD",
        "outputId": "55e319e6-3090-4d06-fe28-0c1ee17eed6e"
      },
      "execution_count": 423,
      "outputs": [
        {
          "output_type": "execute_result",
          "data": {
            "text/plain": [
              "   index                       title   cat1 cat2    price  \\\n",
              "0      0    스위스미스 다크 초코 코코아 280g 12개  커피/차류  코코아  50,940원   \n",
              "1      1  기라델리 프리미엄 핫 코코아믹스 초콜렛 907g  커피/차류  코코아  16,980원   \n",
              "2      2   네슬레 네스퀵 초콜렛파우더 1.2kg 2개세트  커피/차류  코코아  14,500원   \n",
              "\n",
              "                      new_title  \n",
              "0        [스위스, 미스, 초코, 코코아, 단위]  \n",
              "1             [핫, 코코아, 믹스, 초콜렛]  \n",
              "2  [네슬레, 네스퀵, 초콜렛, 파우더, 단위, 세트]  "
            ],
            "text/html": [
              "\n",
              "  <div id=\"df-112b8ffa-ed20-4a53-b9a0-d3fb7dccb5ad\">\n",
              "    <div class=\"colab-df-container\">\n",
              "      <div>\n",
              "<style scoped>\n",
              "    .dataframe tbody tr th:only-of-type {\n",
              "        vertical-align: middle;\n",
              "    }\n",
              "\n",
              "    .dataframe tbody tr th {\n",
              "        vertical-align: top;\n",
              "    }\n",
              "\n",
              "    .dataframe thead th {\n",
              "        text-align: right;\n",
              "    }\n",
              "</style>\n",
              "<table border=\"1\" class=\"dataframe\">\n",
              "  <thead>\n",
              "    <tr style=\"text-align: right;\">\n",
              "      <th></th>\n",
              "      <th>index</th>\n",
              "      <th>title</th>\n",
              "      <th>cat1</th>\n",
              "      <th>cat2</th>\n",
              "      <th>price</th>\n",
              "      <th>new_title</th>\n",
              "    </tr>\n",
              "  </thead>\n",
              "  <tbody>\n",
              "    <tr>\n",
              "      <th>0</th>\n",
              "      <td>0</td>\n",
              "      <td>스위스미스 다크 초코 코코아 280g 12개</td>\n",
              "      <td>커피/차류</td>\n",
              "      <td>코코아</td>\n",
              "      <td>50,940원</td>\n",
              "      <td>[스위스, 미스, 초코, 코코아, 단위]</td>\n",
              "    </tr>\n",
              "    <tr>\n",
              "      <th>1</th>\n",
              "      <td>1</td>\n",
              "      <td>기라델리 프리미엄 핫 코코아믹스 초콜렛 907g</td>\n",
              "      <td>커피/차류</td>\n",
              "      <td>코코아</td>\n",
              "      <td>16,980원</td>\n",
              "      <td>[핫, 코코아, 믹스, 초콜렛]</td>\n",
              "    </tr>\n",
              "    <tr>\n",
              "      <th>2</th>\n",
              "      <td>2</td>\n",
              "      <td>네슬레 네스퀵 초콜렛파우더 1.2kg 2개세트</td>\n",
              "      <td>커피/차류</td>\n",
              "      <td>코코아</td>\n",
              "      <td>14,500원</td>\n",
              "      <td>[네슬레, 네스퀵, 초콜렛, 파우더, 단위, 세트]</td>\n",
              "    </tr>\n",
              "  </tbody>\n",
              "</table>\n",
              "</div>\n",
              "      <button class=\"colab-df-convert\" onclick=\"convertToInteractive('df-112b8ffa-ed20-4a53-b9a0-d3fb7dccb5ad')\"\n",
              "              title=\"Convert this dataframe to an interactive table.\"\n",
              "              style=\"display:none;\">\n",
              "        \n",
              "  <svg xmlns=\"http://www.w3.org/2000/svg\" height=\"24px\"viewBox=\"0 0 24 24\"\n",
              "       width=\"24px\">\n",
              "    <path d=\"M0 0h24v24H0V0z\" fill=\"none\"/>\n",
              "    <path d=\"M18.56 5.44l.94 2.06.94-2.06 2.06-.94-2.06-.94-.94-2.06-.94 2.06-2.06.94zm-11 1L8.5 8.5l.94-2.06 2.06-.94-2.06-.94L8.5 2.5l-.94 2.06-2.06.94zm10 10l.94 2.06.94-2.06 2.06-.94-2.06-.94-.94-2.06-.94 2.06-2.06.94z\"/><path d=\"M17.41 7.96l-1.37-1.37c-.4-.4-.92-.59-1.43-.59-.52 0-1.04.2-1.43.59L10.3 9.45l-7.72 7.72c-.78.78-.78 2.05 0 2.83L4 21.41c.39.39.9.59 1.41.59.51 0 1.02-.2 1.41-.59l7.78-7.78 2.81-2.81c.8-.78.8-2.07 0-2.86zM5.41 20L4 18.59l7.72-7.72 1.47 1.35L5.41 20z\"/>\n",
              "  </svg>\n",
              "      </button>\n",
              "      \n",
              "  <style>\n",
              "    .colab-df-container {\n",
              "      display:flex;\n",
              "      flex-wrap:wrap;\n",
              "      gap: 12px;\n",
              "    }\n",
              "\n",
              "    .colab-df-convert {\n",
              "      background-color: #E8F0FE;\n",
              "      border: none;\n",
              "      border-radius: 50%;\n",
              "      cursor: pointer;\n",
              "      display: none;\n",
              "      fill: #1967D2;\n",
              "      height: 32px;\n",
              "      padding: 0 0 0 0;\n",
              "      width: 32px;\n",
              "    }\n",
              "\n",
              "    .colab-df-convert:hover {\n",
              "      background-color: #E2EBFA;\n",
              "      box-shadow: 0px 1px 2px rgba(60, 64, 67, 0.3), 0px 1px 3px 1px rgba(60, 64, 67, 0.15);\n",
              "      fill: #174EA6;\n",
              "    }\n",
              "\n",
              "    [theme=dark] .colab-df-convert {\n",
              "      background-color: #3B4455;\n",
              "      fill: #D2E3FC;\n",
              "    }\n",
              "\n",
              "    [theme=dark] .colab-df-convert:hover {\n",
              "      background-color: #434B5C;\n",
              "      box-shadow: 0px 1px 3px 1px rgba(0, 0, 0, 0.15);\n",
              "      filter: drop-shadow(0px 1px 2px rgba(0, 0, 0, 0.3));\n",
              "      fill: #FFFFFF;\n",
              "    }\n",
              "  </style>\n",
              "\n",
              "      <script>\n",
              "        const buttonEl =\n",
              "          document.querySelector('#df-112b8ffa-ed20-4a53-b9a0-d3fb7dccb5ad button.colab-df-convert');\n",
              "        buttonEl.style.display =\n",
              "          google.colab.kernel.accessAllowed ? 'block' : 'none';\n",
              "\n",
              "        async function convertToInteractive(key) {\n",
              "          const element = document.querySelector('#df-112b8ffa-ed20-4a53-b9a0-d3fb7dccb5ad');\n",
              "          const dataTable =\n",
              "            await google.colab.kernel.invokeFunction('convertToInteractive',\n",
              "                                                     [key], {});\n",
              "          if (!dataTable) return;\n",
              "\n",
              "          const docLinkHtml = 'Like what you see? Visit the ' +\n",
              "            '<a target=\"_blank\" href=https://colab.research.google.com/notebooks/data_table.ipynb>data table notebook</a>'\n",
              "            + ' to learn more about interactive tables.';\n",
              "          element.innerHTML = '';\n",
              "          dataTable['output_type'] = 'display_data';\n",
              "          await google.colab.output.renderOutput(dataTable, element);\n",
              "          const docLink = document.createElement('div');\n",
              "          docLink.innerHTML = docLinkHtml;\n",
              "          element.appendChild(docLink);\n",
              "        }\n",
              "      </script>\n",
              "    </div>\n",
              "  </div>\n",
              "  "
            ]
          },
          "metadata": {},
          "execution_count": 423
        }
      ]
    },
    {
      "cell_type": "code",
      "source": [
        "df_train, df_test = train_test_split(df,\n",
        "                                     test_size=0.1,\n",
        "                                     stratify=df['cat2'],\n",
        "                                     random_state=42)\n",
        "df_train, df_valid = train_test_split(df_train,\n",
        "                                      test_size=0.3,\n",
        "                                      stratify=df_train['cat2'],\n",
        "                                      random_state=42)"
      ],
      "metadata": {
        "id": "kFNk1eWLN2AG"
      },
      "execution_count": 458,
      "outputs": []
    },
    {
      "cell_type": "code",
      "source": [
        "train_token = df_train['new_title']\n",
        "val_token = df_valid['new_title']\n",
        "test_token = df_test['new_title']"
      ],
      "metadata": {
        "id": "h19ykrnPPAxu"
      },
      "execution_count": 459,
      "outputs": []
    },
    {
      "cell_type": "code",
      "source": [
        "with open('train_data.txt', 'w') as out:\n",
        "  for i in tqdm(range(len(train_token)), unit=' line'):\n",
        "    out.write(\"__label__\" + df_train['cat2'].iloc[i] + \"\\t\" + ' '.join(train_token.iloc[i]) + '\\n')\n",
        "\n",
        "with open('val_data.txt', 'w') as out:\n",
        "  for i in tqdm(range(len(val_token)), unit=' line'):\n",
        "    out.write(\"__label__\" + df_valid['cat2'].iloc[i] + \"\\t\" + ' '.join(val_token.iloc[i]) + '\\n')\n",
        "\n",
        "with open('test_data.txt', 'w') as out:\n",
        "  for i in tqdm(range(len(test_token)), unit=' line'):\n",
        "    out.write(\"__label__\" + df_test['cat2'].iloc[i] + \"\\t\" + ' '.join(test_token.iloc[i]) + '\\n')"
      ],
      "metadata": {
        "colab": {
          "base_uri": "https://localhost:8080/"
        },
        "id": "fVb26nDIOple",
        "outputId": "999f4d57-3af0-4438-9f08-e7965684d6f4"
      },
      "execution_count": 465,
      "outputs": [
        {
          "output_type": "stream",
          "name": "stderr",
          "text": [
            "100%|██████████| 78215/78215 [00:01<00:00, 56397.74 line/s]\n",
            "100%|██████████| 33521/33521 [00:00<00:00, 55656.91 line/s]\n",
            "100%|██████████| 12416/12416 [00:00<00:00, 55249.22 line/s]\n"
          ]
        }
      ]
    },
    {
      "cell_type": "code",
      "source": [
        "import fasttext\n",
        "\n",
        "model1 = fasttext.train_supervised(input='train_data.txt',\n",
        "                                   autotuneValidationFile='val_data.txt')"
      ],
      "metadata": {
        "id": "61XZcbvKT3K_"
      },
      "execution_count": 477,
      "outputs": []
    },
    {
      "cell_type": "code",
      "source": [
        "model1.test('test_data.txt')\n",
        "# (12416, 0.8807989690721649, 0.8807989690721649)"
      ],
      "metadata": {
        "colab": {
          "base_uri": "https://localhost:8080/"
        },
        "id": "a9_BySeEUInL",
        "outputId": "1030b1b7-3628-4782-fe47-8167ba045969"
      },
      "execution_count": 478,
      "outputs": [
        {
          "output_type": "execute_result",
          "data": {
            "text/plain": [
              "(12416, 0.8807989690721649, 0.8807989690721649)"
            ]
          },
          "metadata": {},
          "execution_count": 478
        }
      ]
    },
    {
      "cell_type": "code",
      "source": [
        "# 오차행렬\n",
        "import matplotlib.pyplot as plt\n",
        "import matplotlib as mpl\n",
        "from sklearn.metrics import ConfusionMatrixDisplay, confusion_matrix\n",
        "\n",
        "df_test['predict'] = df_test['predict'] = df_test['title'].apply(lambda x: str(model1.predict(x)[0][0])).str.replace('__label__', '')\n",
        "\n",
        "plt.rc('font', family='NanumBarunGothic')\n",
        "f, ax = plt.subplots(figsize=(24, 24))\n",
        "cm = confusion_matrix(df_test['predict'], df_test['cat2'], normalize='true')\n",
        "disp = ConfusionMatrixDisplay(cm, display_labels=df_test['cat2'].unique())\n",
        "disp.plot(cmap='Blues', values_format='.2f', ax=ax, colorbar=False)"
      ],
      "metadata": {
        "id": "1Bt8x0hRYAJy"
      },
      "execution_count": null,
      "outputs": []
    },
    {
      "cell_type": "code",
      "source": [
        "# 베이스라인과 비교하기\n",
        "train_token_base = df_train['title']\n",
        "val_token_base = df_valid['title']\n",
        "test_token_base = df_test['title']\n",
        "\n",
        "with open('train_data_base.txt', 'w') as out:\n",
        "  for i in tqdm(range(len(train_token)), unit=' line'):\n",
        "    out.write(\"__label__\" + df_train['cat2'].iloc[i] + \"\\t\" + ''.join(train_token_base.iloc[i]) + '\\n')\n",
        "\n",
        "with open('val_data_base.txt', 'w') as out:\n",
        "  for i in tqdm(range(len(val_token)), unit=' line'):\n",
        "    out.write(\"__label__\" + df_valid['cat2'].iloc[i] + \"\\t\" + ''.join(val_token_base.iloc[i]) + '\\n')\n",
        "\n",
        "with open('test_data_base.txt', 'w') as out:\n",
        "  for i in tqdm(range(len(test_token)), unit=' line'):\n",
        "    out.write(\"__label__\" + df_test['cat2'].iloc[i] + \"\\t\" + ''.join(test_token_base.iloc[i]) + '\\n')"
      ],
      "metadata": {
        "colab": {
          "base_uri": "https://localhost:8080/"
        },
        "id": "-WPifq7pW2iz",
        "outputId": "6636d73d-78db-451c-8a42-cdfa2b69ee45"
      },
      "execution_count": 509,
      "outputs": [
        {
          "output_type": "stream",
          "name": "stderr",
          "text": [
            "100%|██████████| 78215/78215 [00:01<00:00, 52325.22 line/s]\n",
            "100%|██████████| 33521/33521 [00:00<00:00, 51579.98 line/s]\n",
            "100%|██████████| 12416/12416 [00:00<00:00, 51717.10 line/s]\n"
          ]
        }
      ]
    },
    {
      "cell_type": "code",
      "source": [
        "# 베이스라인\n",
        "model_base = fasttext.train_supervised(input='train_data_base.txt',\n",
        "                                       autotuneValidationFile='val_data_base.txt')\n",
        "\n",
        "model_base.test('test_data_base.txt')"
      ],
      "metadata": {
        "colab": {
          "base_uri": "https://localhost:8080/"
        },
        "id": "wKc4hx4WXLAw",
        "outputId": "76ec2401-42ce-46ed-f13a-f179a4022556"
      },
      "execution_count": 511,
      "outputs": [
        {
          "output_type": "execute_result",
          "data": {
            "text/plain": [
              "(12416, 0.8604220360824743, 0.8604220360824743)"
            ]
          },
          "metadata": {},
          "execution_count": 511
        }
      ]
    },
    {
      "cell_type": "code",
      "source": [
        "# 오차행렬 \n",
        "df_test['predict_base'] = df_test['title'].apply(lambda x: str(model_base.predict(x)[0][0])).str.replace('__label__', '')\n",
        "\n",
        "plt.rc('font', family='NanumBarunGothic')\n",
        "f, ax = plt.subplots(figsize=(24, 24))\n",
        "cm = confusion_matrix(df_test['predict'], df_test['cat2'], normalize='true')\n",
        "disp = ConfusionMatrixDisplay(cm, display_labels=df_test['cat2'].unique())\n",
        "disp.plot(cmap='Blues', values_format='.2f', ax=ax, colorbar=False)"
      ],
      "metadata": {
        "id": "eT_eo58BUMfY"
      },
      "execution_count": null,
      "outputs": []
    },
    {
      "cell_type": "code",
      "source": [],
      "metadata": {
        "id": "8KSJBbA6bXRM"
      },
      "execution_count": null,
      "outputs": []
    }
  ]
}