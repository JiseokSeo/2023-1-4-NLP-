{
 "cells": [
  {
   "cell_type": "code",
   "execution_count": 70,
   "id": "b0597643",
   "metadata": {},
   "outputs": [],
   "source": [
    "import pandas as pd\n",
    "import numpy as np\n",
    "import matplotlib.pyplot as plt\n",
    "import matplotlib as mpl\n",
    "import seaborn as sns"
   ]
  },
  {
   "cell_type": "code",
   "execution_count": 71,
   "id": "016bf7b3",
   "metadata": {},
   "outputs": [
    {
     "name": "stderr",
     "output_type": "stream",
     "text": [
      "C:\\Users\\Jiseok\\AppData\\Local\\Temp\\ipykernel_1880\\2888674136.py:2: DtypeWarning: Columns (4,5) have mixed types. Specify dtype option on import or set low_memory=False.\n",
      "  df2 = pd.read_csv('../datasets/MENU_INFO_KOREAN.csv', encoding='utf-8')\n",
      "C:\\Users\\Jiseok\\AppData\\Local\\Temp\\ipykernel_1880\\2888674136.py:3: DtypeWarning: Columns (4,5) have mixed types. Specify dtype option on import or set low_memory=False.\n",
      "  df3 = pd.read_csv('../datasets/MENU_INFO_KOREAN_SEOUL.csv', encoding='utf-8')\n"
     ]
    }
   ],
   "source": [
    "df1 = pd.read_csv('../datasets/MENU_INFO_KOREAN(20220930).csv', encoding='cp949')\n",
    "df2 = pd.read_csv('../datasets/MENU_INFO_KOREAN.csv', encoding='utf-8')\n",
    "df3 = pd.read_csv('../datasets/MENU_INFO_KOREAN_SEOUL.csv', encoding='utf-8')\n",
    "df4 = pd.read_csv('../datasets/대구광역시_먹거리골목 업소별 메뉴정보_20211221.csv', encoding='cp949')\n",
    "df5 = pd.read_csv('../datasets/전라남도_메뉴정보_20210120.csv', encoding='utf-8')\n",
    "df6 = pd.read_csv('../datasets/충청북도 충주시_음식점정보_20220731.csv', encoding='cp949')"
   ]
  },
  {
   "cell_type": "code",
   "execution_count": 72,
   "id": "a48f64eb",
   "metadata": {},
   "outputs": [],
   "source": [
    "df1_menu = df1[['식당명', '메뉴명', '메뉴가격']]\n",
    "df2_menu = df2[['식당명', '메뉴명', '메뉴가격']]\n",
    "df3_menu = df3[['식당명', '메뉴명', '메뉴가격']]\n",
    "df4_menu = df4[['업소명', '메뉴명', '가격(원)']]\n",
    "df5_menu = df5[['식당ID', '메뉴명', '메뉴가격']]\n",
    "\n",
    "df4_menu = df3_menu.rename(columns={'업소명':'식당명', '가격(원)':'메뉴가격'})\n",
    "df5_menu = df4_menu.rename(columns={'식당ID':'식당명'})"
   ]
  },
  {
   "cell_type": "code",
   "execution_count": 73,
   "id": "10cfa539",
   "metadata": {},
   "outputs": [],
   "source": [
    "df_menu = pd.concat([df1_menu, df2_menu, df3_menu, df4_menu, df5_menu],\n",
    "                   ignore_index=True)"
   ]
  },
  {
   "cell_type": "code",
   "execution_count": 74,
   "id": "dadbc5a3",
   "metadata": {},
   "outputs": [
    {
     "data": {
      "text/plain": [
       "(393351, 3)"
      ]
     },
     "execution_count": 74,
     "metadata": {},
     "output_type": "execute_result"
    }
   ],
   "source": [
    "df_menu.shape"
   ]
  },
  {
   "cell_type": "code",
   "execution_count": 75,
   "id": "bf1fb704",
   "metadata": {},
   "outputs": [],
   "source": [
    "df_menu.drop_duplicates(inplace=True)"
   ]
  },
  {
   "cell_type": "code",
   "execution_count": 76,
   "id": "0cd9903b",
   "metadata": {},
   "outputs": [
    {
     "data": {
      "text/plain": [
       "(194822, 3)"
      ]
     },
     "execution_count": 76,
     "metadata": {},
     "output_type": "execute_result"
    }
   ],
   "source": [
    "df_menu.shape"
   ]
  },
  {
   "cell_type": "code",
   "execution_count": 90,
   "id": "f1d67567",
   "metadata": {},
   "outputs": [],
   "source": [
    "df_menu = df_menu.reset_index()"
   ]
  },
  {
   "cell_type": "code",
   "execution_count": 91,
   "id": "700c9368",
   "metadata": {},
   "outputs": [],
   "source": [
    "df_menu.to_csv('../datasets/menu_concated_v1.2', index=False)"
   ]
  },
  {
   "cell_type": "code",
   "execution_count": 84,
   "id": "22880e00",
   "metadata": {},
   "outputs": [
    {
     "data": {
      "text/html": [
       "<div>\n",
       "<style scoped>\n",
       "    .dataframe tbody tr th:only-of-type {\n",
       "        vertical-align: middle;\n",
       "    }\n",
       "\n",
       "    .dataframe tbody tr th {\n",
       "        vertical-align: top;\n",
       "    }\n",
       "\n",
       "    .dataframe thead th {\n",
       "        text-align: right;\n",
       "    }\n",
       "</style>\n",
       "<table border=\"1\" class=\"dataframe\">\n",
       "  <thead>\n",
       "    <tr style=\"text-align: right;\">\n",
       "      <th></th>\n",
       "      <th>업종명</th>\n",
       "      <th>업소명</th>\n",
       "      <th>소재지(도로명)</th>\n",
       "      <th>소재지전화</th>\n",
       "      <th>업태명</th>\n",
       "      <th>문의전화</th>\n",
       "    </tr>\n",
       "  </thead>\n",
       "  <tbody>\n",
       "    <tr>\n",
       "      <th>0</th>\n",
       "      <td>일반음식점</td>\n",
       "      <td>아서원</td>\n",
       "      <td>충청북도 충주시 관아1길 8-1 (성내동)</td>\n",
       "      <td>043-847-3639</td>\n",
       "      <td>중국식</td>\n",
       "      <td>043-850-3473</td>\n",
       "    </tr>\n",
       "    <tr>\n",
       "      <th>1</th>\n",
       "      <td>일반음식점</td>\n",
       "      <td>중원생고기마을</td>\n",
       "      <td>충청북도 충주시 관아3길 11 (성서동)</td>\n",
       "      <td>043-847-1525</td>\n",
       "      <td>식육(숯불구이)</td>\n",
       "      <td>043-850-3473</td>\n",
       "    </tr>\n",
       "    <tr>\n",
       "      <th>2</th>\n",
       "      <td>일반음식점</td>\n",
       "      <td>대동식당</td>\n",
       "      <td>충청북도 충주시 수안보면 온천중앙길 23-1</td>\n",
       "      <td>043-846-3406</td>\n",
       "      <td>한식</td>\n",
       "      <td>043-850-3473</td>\n",
       "    </tr>\n",
       "    <tr>\n",
       "      <th>3</th>\n",
       "      <td>일반음식점</td>\n",
       "      <td>유선분식</td>\n",
       "      <td>충청북도 충주시 예성로 168 (성서동)</td>\n",
       "      <td>043-847-2003</td>\n",
       "      <td>분식</td>\n",
       "      <td>043-850-3473</td>\n",
       "    </tr>\n",
       "    <tr>\n",
       "      <th>4</th>\n",
       "      <td>일반음식점</td>\n",
       "      <td>만리식당</td>\n",
       "      <td>충청북도 충주시 수안보면 물탕2길 5</td>\n",
       "      <td>043-846-3206</td>\n",
       "      <td>한식</td>\n",
       "      <td>043-850-3473</td>\n",
       "    </tr>\n",
       "    <tr>\n",
       "      <th>...</th>\n",
       "      <td>...</td>\n",
       "      <td>...</td>\n",
       "      <td>...</td>\n",
       "      <td>...</td>\n",
       "      <td>...</td>\n",
       "      <td>...</td>\n",
       "    </tr>\n",
       "    <tr>\n",
       "      <th>3791</th>\n",
       "      <td>일반음식점</td>\n",
       "      <td>송원식당</td>\n",
       "      <td>충청북도 충주시 주덕읍 신양로 62, 송원요양병원 신관,구관 지하,지상층 구)지하1...</td>\n",
       "      <td>043-8563-501</td>\n",
       "      <td>한식</td>\n",
       "      <td>043-850-3473</td>\n",
       "    </tr>\n",
       "    <tr>\n",
       "      <th>3792</th>\n",
       "      <td>일반음식점</td>\n",
       "      <td>딜리셔스쿡</td>\n",
       "      <td>충청북도 충주시 남산로 11, 1층 102호 (지현동, 삼익캐슬)</td>\n",
       "      <td>043-845-6564</td>\n",
       "      <td>한식</td>\n",
       "      <td>043-850-3473</td>\n",
       "    </tr>\n",
       "    <tr>\n",
       "      <th>3793</th>\n",
       "      <td>일반음식점</td>\n",
       "      <td>오더블유오(OWO)</td>\n",
       "      <td>충청북도 충주시 대가미5길 8, 1층 (칠금동)</td>\n",
       "      <td>NaN</td>\n",
       "      <td>기타</td>\n",
       "      <td>043-850-3473</td>\n",
       "    </tr>\n",
       "    <tr>\n",
       "      <th>3794</th>\n",
       "      <td>일반음식점</td>\n",
       "      <td>봉방포차</td>\n",
       "      <td>충청북도 충주시 봉방9길 4, 1층 (봉방동)</td>\n",
       "      <td>NaN</td>\n",
       "      <td>한식</td>\n",
       "      <td>043-850-3473</td>\n",
       "    </tr>\n",
       "    <tr>\n",
       "      <th>3795</th>\n",
       "      <td>일반음식점</td>\n",
       "      <td>42에이치제트(Hz)</td>\n",
       "      <td>충청북도 충주시 번영대로 125, 1층 (연수동)</td>\n",
       "      <td>NaN</td>\n",
       "      <td>호프/통닭</td>\n",
       "      <td>043-850-3473</td>\n",
       "    </tr>\n",
       "  </tbody>\n",
       "</table>\n",
       "<p>3796 rows × 6 columns</p>\n",
       "</div>"
      ],
      "text/plain": [
       "        업종명          업소명                                           소재지(도로명)  \\\n",
       "0     일반음식점          아서원                            충청북도 충주시 관아1길 8-1 (성내동)   \n",
       "1     일반음식점      중원생고기마을                             충청북도 충주시 관아3길 11 (성서동)   \n",
       "2     일반음식점         대동식당                           충청북도 충주시 수안보면 온천중앙길 23-1   \n",
       "3     일반음식점         유선분식                             충청북도 충주시 예성로 168 (성서동)   \n",
       "4     일반음식점         만리식당                               충청북도 충주시 수안보면 물탕2길 5   \n",
       "...     ...          ...                                                ...   \n",
       "3791  일반음식점         송원식당  충청북도 충주시 주덕읍 신양로 62, 송원요양병원 신관,구관 지하,지상층 구)지하1...   \n",
       "3792  일반음식점        딜리셔스쿡               충청북도 충주시 남산로 11, 1층 102호 (지현동, 삼익캐슬)   \n",
       "3793  일반음식점   오더블유오(OWO)                         충청북도 충주시 대가미5길 8, 1층 (칠금동)   \n",
       "3794  일반음식점         봉방포차                          충청북도 충주시 봉방9길 4, 1층 (봉방동)   \n",
       "3795  일반음식점  42에이치제트(Hz)                        충청북도 충주시 번영대로 125, 1층 (연수동)   \n",
       "\n",
       "             소재지전화       업태명          문의전화  \n",
       "0     043-847-3639       중국식  043-850-3473  \n",
       "1     043-847-1525  식육(숯불구이)  043-850-3473  \n",
       "2     043-846-3406        한식  043-850-3473  \n",
       "3     043-847-2003        분식  043-850-3473  \n",
       "4     043-846-3206        한식  043-850-3473  \n",
       "...            ...       ...           ...  \n",
       "3791  043-8563-501        한식  043-850-3473  \n",
       "3792  043-845-6564        한식  043-850-3473  \n",
       "3793           NaN        기타  043-850-3473  \n",
       "3794           NaN        한식  043-850-3473  \n",
       "3795           NaN     호프/통닭  043-850-3473  \n",
       "\n",
       "[3796 rows x 6 columns]"
      ]
     },
     "execution_count": 84,
     "metadata": {},
     "output_type": "execute_result"
    }
   ],
   "source": [
    "df6"
   ]
  },
  {
   "cell_type": "code",
   "execution_count": 89,
   "id": "60d00df4",
   "metadata": {},
   "outputs": [
    {
     "data": {
      "text/html": [
       "<div>\n",
       "<style scoped>\n",
       "    .dataframe tbody tr th:only-of-type {\n",
       "        vertical-align: middle;\n",
       "    }\n",
       "\n",
       "    .dataframe tbody tr th {\n",
       "        vertical-align: top;\n",
       "    }\n",
       "\n",
       "    .dataframe thead th {\n",
       "        text-align: right;\n",
       "    }\n",
       "</style>\n",
       "<table border=\"1\" class=\"dataframe\">\n",
       "  <thead>\n",
       "    <tr style=\"text-align: right;\">\n",
       "      <th></th>\n",
       "      <th>식당명</th>\n",
       "      <th>메뉴명</th>\n",
       "      <th>메뉴가격</th>\n",
       "    </tr>\n",
       "  </thead>\n",
       "  <tbody>\n",
       "    <tr>\n",
       "      <th>0</th>\n",
       "      <td>신풍식당</td>\n",
       "      <td>정식</td>\n",
       "      <td>5000</td>\n",
       "    </tr>\n",
       "    <tr>\n",
       "      <th>1</th>\n",
       "      <td>부창루</td>\n",
       "      <td>짜장면</td>\n",
       "      <td>5000</td>\n",
       "    </tr>\n",
       "    <tr>\n",
       "      <th>2</th>\n",
       "      <td>부창루</td>\n",
       "      <td>짬뽕</td>\n",
       "      <td>6000</td>\n",
       "    </tr>\n",
       "    <tr>\n",
       "      <th>3</th>\n",
       "      <td>부창루</td>\n",
       "      <td>우동</td>\n",
       "      <td>6000</td>\n",
       "    </tr>\n",
       "    <tr>\n",
       "      <th>4</th>\n",
       "      <td>부창루</td>\n",
       "      <td>울면</td>\n",
       "      <td>6000</td>\n",
       "    </tr>\n",
       "    <tr>\n",
       "      <th>...</th>\n",
       "      <td>...</td>\n",
       "      <td>...</td>\n",
       "      <td>...</td>\n",
       "    </tr>\n",
       "    <tr>\n",
       "      <th>217430</th>\n",
       "      <td>차이나프로</td>\n",
       "      <td>깐풍기(대/4~5인분)</td>\n",
       "      <td>45000</td>\n",
       "    </tr>\n",
       "    <tr>\n",
       "      <th>217431</th>\n",
       "      <td>차이나프로</td>\n",
       "      <td>깐풍기(소/2~3인분)</td>\n",
       "      <td>35000</td>\n",
       "    </tr>\n",
       "    <tr>\n",
       "      <th>217432</th>\n",
       "      <td>차이나프로</td>\n",
       "      <td>라조기(대/4~5인분)</td>\n",
       "      <td>45000</td>\n",
       "    </tr>\n",
       "    <tr>\n",
       "      <th>217433</th>\n",
       "      <td>차이나프로</td>\n",
       "      <td>라조기(소/2~3인분)</td>\n",
       "      <td>35000</td>\n",
       "    </tr>\n",
       "    <tr>\n",
       "      <th>217434</th>\n",
       "      <td>차이나프로</td>\n",
       "      <td>유린기(대/4~5인분)</td>\n",
       "      <td>45000</td>\n",
       "    </tr>\n",
       "  </tbody>\n",
       "</table>\n",
       "<p>194822 rows × 3 columns</p>\n",
       "</div>"
      ],
      "text/plain": [
       "          식당명           메뉴명   메뉴가격\n",
       "0        신풍식당            정식   5000\n",
       "1         부창루           짜장면   5000\n",
       "2         부창루            짬뽕   6000\n",
       "3         부창루            우동   6000\n",
       "4         부창루            울면   6000\n",
       "...       ...           ...    ...\n",
       "217430  차이나프로  깐풍기(대/4~5인분)  45000\n",
       "217431  차이나프로  깐풍기(소/2~3인분)  35000\n",
       "217432  차이나프로  라조기(대/4~5인분)  45000\n",
       "217433  차이나프로  라조기(소/2~3인분)  35000\n",
       "217434  차이나프로  유린기(대/4~5인분)  45000\n",
       "\n",
       "[194822 rows x 3 columns]"
      ]
     },
     "execution_count": 89,
     "metadata": {},
     "output_type": "execute_result"
    }
   ],
   "source": [
    "df_menu"
   ]
  },
  {
   "cell_type": "code",
   "execution_count": null,
   "id": "b01b270e",
   "metadata": {},
   "outputs": [],
   "source": []
  }
 ],
 "metadata": {
  "kernelspec": {
   "display_name": "Python [conda env:project]",
   "language": "python",
   "name": "conda-env-project-py"
  },
  "language_info": {
   "codemirror_mode": {
    "name": "ipython",
    "version": 3
   },
   "file_extension": ".py",
   "mimetype": "text/x-python",
   "name": "python",
   "nbconvert_exporter": "python",
   "pygments_lexer": "ipython3",
   "version": "3.8.15"
  }
 },
 "nbformat": 4,
 "nbformat_minor": 5
}
